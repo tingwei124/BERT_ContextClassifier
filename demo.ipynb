{
 "cells": [
  {
   "cell_type": "markdown",
   "metadata": {},
   "source": [
    "### Data Preprocessing"
   ]
  },
  {
   "cell_type": "markdown",
   "metadata": {},
   "source": [
    "#### Load Dataset"
   ]
  },
  {
   "cell_type": "markdown",
   "metadata": {},
   "source": [
    "There are two fields in this dataset:\n",
    "\n",
    "- text: the description of disease  review text.\n",
    "- label: The disease category .\n",
    "\n"
   ]
  },
  {
   "cell_type": "code",
   "execution_count": 105,
   "metadata": {},
   "outputs": [
    {
     "data": {
      "text/html": [
       "<div>\n",
       "<style scoped>\n",
       "    .dataframe tbody tr th:only-of-type {\n",
       "        vertical-align: middle;\n",
       "    }\n",
       "\n",
       "    .dataframe tbody tr th {\n",
       "        vertical-align: top;\n",
       "    }\n",
       "\n",
       "    .dataframe thead th {\n",
       "        text-align: right;\n",
       "    }\n",
       "</style>\n",
       "<table border=\"1\" class=\"dataframe\">\n",
       "  <thead>\n",
       "    <tr style=\"text-align: right;\">\n",
       "      <th></th>\n",
       "      <th>Description</th>\n",
       "      <th>Category</th>\n",
       "      <th>Unnamed: 2</th>\n",
       "    </tr>\n",
       "  </thead>\n",
       "  <tbody>\n",
       "    <tr>\n",
       "      <th>0</th>\n",
       "      <td>I've been dealing with this huge pain in my ri...</td>\n",
       "      <td>heart disease</td>\n",
       "      <td>NaN</td>\n",
       "    </tr>\n",
       "    <tr>\n",
       "      <th>1</th>\n",
       "      <td>Hello, doctor. I've been experiencing a persis...</td>\n",
       "      <td>heart disease</td>\n",
       "      <td>NaN</td>\n",
       "    </tr>\n",
       "    <tr>\n",
       "      <th>2</th>\n",
       "      <td>Doctor, I've been experiencing some concerning...</td>\n",
       "      <td>heart disease</td>\n",
       "      <td>NaN</td>\n",
       "    </tr>\n",
       "    <tr>\n",
       "      <th>3</th>\n",
       "      <td>Hey, doctor, I've been experiencing progressiv...</td>\n",
       "      <td>heart disease</td>\n",
       "      <td>NaN</td>\n",
       "    </tr>\n",
       "    <tr>\n",
       "      <th>4</th>\n",
       "      <td>Hi, doctor, I've been feeling this pain on my ...</td>\n",
       "      <td>heart disease</td>\n",
       "      <td>NaN</td>\n",
       "    </tr>\n",
       "  </tbody>\n",
       "</table>\n",
       "</div>"
      ],
      "text/plain": [
       "                                         Description       Category Unnamed: 2\n",
       "0  I've been dealing with this huge pain in my ri...  heart disease        NaN\n",
       "1  Hello, doctor. I've been experiencing a persis...  heart disease        NaN\n",
       "2  Doctor, I've been experiencing some concerning...  heart disease        NaN\n",
       "3  Hey, doctor, I've been experiencing progressiv...  heart disease        NaN\n",
       "4  Hi, doctor, I've been feeling this pain on my ...  heart disease        NaN"
      ]
     },
     "execution_count": 105,
     "metadata": {},
     "output_type": "execute_result"
    }
   ],
   "source": [
    "# import required libraries\n",
    "import pandas as pd\n",
    "import numpy as np\n",
    "import seaborn as sns\n",
    "\n",
    "\n",
    "\n",
    "from sklearn.metrics import f1_score, accuracy_score, confusion_matrix\n",
    "from sklearn.model_selection import train_test_split\n",
    "\n",
    "# read the disease description \n",
    "df = pd.read_csv('combined.csv')\n",
    "df.head()\n",
    "\n"
   ]
  },
  {
   "cell_type": "code",
   "execution_count": 153,
   "metadata": {},
   "outputs": [
    {
     "name": "stdout",
     "output_type": "stream",
     "text": [
      "<class 'pandas.core.frame.DataFrame'>\n",
      "RangeIndex: 3202 entries, 0 to 3201\n",
      "Data columns (total 3 columns):\n",
      " #   Column       Non-Null Count  Dtype  \n",
      "---  ------       --------------  -----  \n",
      " 0   Description  3202 non-null   object \n",
      " 1   Category     3202 non-null   object \n",
      " 2   target       3199 non-null   float64\n",
      "dtypes: float64(1), object(2)\n",
      "memory usage: 75.2+ KB\n",
      "                                         Description       Category\n",
      "0  I've been dealing with this huge pain in my ri...  heart disease\n",
      "1  Hello, doctor. I've been experiencing a persis...  heart disease\n",
      "2  Doctor, I've been experiencing some concerning...  heart disease\n",
      "3  Hey, doctor, I've been experiencing progressiv...  heart disease\n",
      "4  Hi, doctor, I've been feeling this pain on my ...  heart disease\n",
      "<class 'pandas.core.frame.DataFrame'>\n",
      "RangeIndex: 3202 entries, 0 to 3201\n",
      "Data columns (total 2 columns):\n",
      " #   Column       Non-Null Count  Dtype \n",
      "---  ------       --------------  ----- \n",
      " 0   Description  3202 non-null   object\n",
      " 1   Category     3202 non-null   object\n",
      "dtypes: object(2)\n",
      "memory usage: 50.2+ KB\n"
     ]
    }
   ],
   "source": [
    "df.info()\n",
    "df = df[['Description','Category']]\n",
    "\n",
    "print(df.head())\n",
    "df.info()"
   ]
  },
  {
   "cell_type": "code",
   "execution_count": 161,
   "metadata": {},
   "outputs": [
    {
     "name": "stdout",
     "output_type": "stream",
     "text": [
      "lung cancer\n",
      "lung cancer\n",
      "lung cancer\n",
      "lung cancer\n",
      "lung cancer\n",
      "lung cancer\n",
      "lung cancer\n",
      "lung cancer\n",
      "lung cancer\n",
      "lung cancer\n",
      "lung cancer\n",
      "lung cancer\n",
      "lung cancer\n",
      "lung cancer\n",
      "lung cancer\n",
      "lung cancer\n",
      "lung cancer\n",
      "lung cancer\n",
      "lung cancer\n",
      "lung cancer\n",
      "lung cancer\n",
      "lung cancer\n",
      "lung cancer\n",
      "lung cancer\n",
      "lung cancer\n",
      "lung cancer\n",
      "lung cancer\n",
      "lung cancer\n",
      "lung cancer\n",
      "lung cancer\n",
      "lung cancer\n",
      "lung cancer\n",
      "lung cancer\n",
      "lung cancer\n",
      "lung cancer\n",
      "lung cancer\n",
      "lung cancer\n",
      "lung cancer\n",
      "lung cancer\n",
      "lung cancer\n",
      "lung cancer\n",
      "lung cancer\n",
      "lung cancer\n",
      "lung cancer\n",
      "lung cancer\n",
      "lung cancer\n",
      "lung cancer\n",
      "lung cancer\n",
      "lung cancer\n",
      "lung cancer\n",
      "lung cancer\n",
      "lung cancer\n",
      "lung cancer\n",
      "lung cancer\n",
      "lung cancer\n",
      "lung cancer\n",
      "lung cancer\n",
      "lung cancer\n",
      "lung cancer\n",
      "lung cancer\n",
      "lung cancer\n",
      "lung cancer\n",
      "lung cancer\n",
      "lung cancer\n",
      "lung cancer\n",
      "lung cancer\n",
      "lung cancer\n",
      "lung cancer\n",
      "lung cancer\n",
      "lung cancer\n",
      "lung cancer\n",
      "lung cancer\n",
      "lung cancer\n",
      "lung cancer\n",
      "lung cancer\n",
      "lung cancer\n",
      "lung cancer\n",
      "lung cancer\n",
      "lung cancer\n",
      "lung cancer\n",
      "lung cancer\n",
      "lung cancer\n",
      "lung cancer\n",
      "lung cancer\n",
      "lung cancer\n",
      "lung cancer\n",
      "lung cancer\n",
      "lung cancer\n",
      "lung cancer\n",
      "lung cancer\n",
      "lung cancer\n",
      "lung cancer\n",
      "lung cancer\n",
      "lung cancer\n",
      "lung cancer\n",
      "lung cancer\n",
      "lung cancer\n",
      "lung cancer\n",
      "lung cancer\n",
      "lung cancer\n",
      "lung cancer\n",
      "lung cancer\n",
      "lung cancer\n",
      "lung cancer\n",
      "lung cancer\n",
      "lung cancer\n",
      "lung cancer\n",
      "lung cancer\n",
      "lung cancer\n",
      "lung cancer\n",
      "lung cancer\n",
      "lung cancer\n",
      "lung cancer\n",
      "lung cancer\n",
      "lung cancer\n",
      "lung cancer\n",
      "lung cancer\n",
      "lung cancer\n",
      "lung cancer\n",
      "lung cancer\n",
      "lung cancer\n",
      "lung cancer\n",
      "lung cancer\n",
      "lung cancer\n",
      "lung cancer\n",
      "lung cancer\n",
      "lung cancer\n",
      "lung cancer\n",
      "lung cancer\n",
      "lung cancer\n",
      "lung cancer\n",
      "lung cancer\n",
      "lung cancer\n",
      "lung cancer\n",
      "lung cancer\n",
      "lung cancer\n",
      "lung cancer\n",
      "lung cancer\n",
      "lung cancer\n",
      "lung cancer\n",
      "lung cancer\n",
      "lung cancer\n",
      "lung cancer\n",
      "lung cancer\n",
      "lung cancer\n",
      "lung cancer\n",
      "lung cancer\n",
      "lung cancer\n",
      "lung cancer\n",
      "lung cancer\n",
      "lung cancer\n",
      "lung cancer\n",
      "lung cancer\n",
      "lung cancer\n",
      "lung cancer\n",
      "lung cancer\n",
      "lung cancer\n",
      "lung cancer\n",
      "lung cancer\n",
      "lung cancer\n",
      "lung cancer\n",
      "lung cancer\n",
      "lung cancer\n",
      "lung cancer\n",
      "lung cancer\n",
      "lung cancer\n",
      "lung cancer\n",
      "lung cancer\n",
      "lung cancer\n",
      "lung cancer\n",
      "lung cancer\n",
      "lung cancer\n",
      "lung cancer\n",
      "lung cancer\n",
      "lung cancer\n",
      "lung cancer\n",
      "lung cancer\n",
      "lung cancer\n",
      "lung cancer\n",
      "lung cancer\n",
      "lung cancer\n",
      "lung cancer\n",
      "lung cancer\n",
      "lung cancer\n",
      "lung cancer\n",
      "lung cancer\n",
      "lung cancer\n",
      "lung cancer\n",
      "lung cancer\n",
      "lung cancer\n",
      "lung cancer\n",
      "lung cancer\n",
      "lung cancer\n",
      "lung cancer\n",
      "lung cancer\n",
      "lung cancer\n",
      "lung cancer\n",
      "lung cancer\n",
      "lung cancer\n",
      "lung cancer\n",
      "lung cancer\n",
      "lung cancer\n",
      "lung cancer\n",
      "lung cancer\n",
      "lung cancer\n",
      "lung cancer\n",
      "lung cancer\n",
      "lung cancer\n",
      "lung cancer\n",
      "lung cancer\n",
      "lung cancer\n",
      "lung cancer\n",
      "lung cancer\n",
      "lung cancer\n",
      "lung cancer\n",
      "lung cancer\n",
      "lung cancer\n",
      "lung cancer\n",
      "lung cancer\n",
      "lung cancer\n",
      "lung cancer\n",
      "lung cancer\n",
      "lung cancer\n",
      "lung cancer\n",
      "lung cancer\n",
      "lung cancer\n",
      "lung cancer\n",
      "lung cancer\n",
      "lung cancer\n",
      "lung cancer\n",
      "lung cancer\n",
      "lung cancer\n",
      "lung cancer\n",
      "lung cancer\n",
      "lung cancer\n",
      "lung cancer\n",
      "lung cancer\n",
      "lung cancer\n",
      "lung cancer\n",
      "lung cancer\n",
      "lung cancer\n",
      "lung cancer\n",
      "lung cancer\n",
      "lung cancer\n",
      "lung cancer\n",
      "lung cancer\n",
      "lung cancer\n",
      "lung cancer\n",
      "lung cancer\n",
      "lung cancer\n",
      "lung cancer\n",
      "lung cancer\n",
      "lung cancer\n",
      "lung cancer\n",
      "lung cancer\n",
      "lung cancer\n",
      "lung cancer\n",
      "lung cancer\n",
      "lung cancer\n",
      "lung cancer\n",
      "lung cancer\n",
      "lung cancer\n",
      "lung cancer\n",
      "lung cancer\n",
      "lung cancer\n",
      "lung cancer\n",
      "lung cancer\n",
      "lung cancer\n",
      "lung cancer\n",
      "lung cancer\n",
      "lung cancer\n",
      "lung cancer\n",
      "lung cancer\n",
      "lung cancer\n",
      "lung cancer\n",
      "lung cancer\n",
      "lung cancer\n",
      "lung cancer\n",
      "lung cancer\n",
      "lung cancer\n",
      "lung cancer\n",
      "lung cancer\n",
      "lung cancer\n",
      "lung cancer\n",
      "lung cancer\n",
      "lung cancer\n",
      "lung cancer\n",
      "lung cancer\n",
      "lung cancer\n",
      "lung cancer\n",
      "lung cancer\n",
      "lung cancer\n",
      "lung cancer\n",
      "lung cancer\n",
      "lung cancer\n",
      "lung cancer\n",
      "lung cancer\n",
      "lung cancer\n",
      "lung cancer\n",
      "lung cancer\n",
      "lung cancer\n",
      "lung cancer\n",
      "lung cancer\n",
      "lung cancer\n",
      "lung cancer\n",
      "lung cancer\n",
      "lung cancer\n",
      "lung cancer\n",
      "lung cancer\n",
      "lung cancer\n",
      "lung cancer\n",
      "lung cancer\n",
      "lung cancer\n",
      "lung cancer\n",
      "lung cancer\n",
      "lung cancer\n",
      "lung cancer\n",
      "lung cancer\n",
      "lung cancer\n",
      "lung cancer\n",
      "lung cancer\n",
      "lung cancer\n",
      "lung cancer\n",
      "lung cancer\n",
      "lung cancer\n",
      "lung cancer\n",
      "lung cancer\n",
      "lung cancer\n",
      "lung cancer\n",
      "lung cancer\n",
      "lung cancer\n",
      "lung cancer\n",
      "lung cancer\n",
      "lung cancer\n",
      "lung cancer\n",
      "lung cancer\n",
      "lung cancer\n",
      "lung cancer\n",
      "lung cancer\n",
      "lung cancer\n",
      "lung cancer\n",
      "lung cancer\n",
      "lung cancer\n",
      "lung cancer\n",
      "lung cancer\n",
      "lung cancer\n",
      "lung cancer\n",
      "lung cancer\n",
      "lung cancer\n",
      "lung cancer\n",
      "lung cancer\n",
      "lung cancer\n",
      "lung cancer\n",
      "lung cancer\n",
      "lung cancer\n",
      "lung cancer\n",
      "lung cancer\n",
      "lung cancer\n",
      "lung cancer\n",
      "lung cancer\n",
      "lung cancer\n",
      "lung cancer\n",
      "lung cancer\n",
      "lung cancer\n",
      "lung cancer\n",
      "lung cancer\n",
      "lung cancer\n",
      "lung cancer\n",
      "lung cancer\n",
      "lung cancer\n",
      "lung cancer\n",
      "lung cancer\n",
      "lung cancer\n",
      "lung cancer\n",
      "lung cancer\n",
      "lung cancer\n",
      "lung cancer\n",
      "lung cancer\n",
      "lung cancer\n",
      "lung cancer\n",
      "lung cancer\n",
      "lung cancer\n",
      "lung cancer\n",
      "lung cancer\n",
      "lung cancer\n",
      "lung cancer\n",
      "lung cancer\n",
      "lung cancer\n",
      "lung cancer\n",
      "lung cancer\n",
      "lung cancer\n",
      "lung cancer\n",
      "lung cancer\n",
      "lung cancer\n",
      "lung cancer\n",
      "lung cancer\n",
      "lung cancer\n",
      "lung cancer\n",
      "lung cancer\n",
      "lung cancer\n",
      "lung cancer\n",
      "lung cancer\n",
      "lung cancer\n",
      "lung cancer\n",
      "lung cancer\n",
      "lung cancer\n",
      "lung cancer\n",
      "lung cancer\n",
      "lung cancer\n",
      "lung cancer\n",
      "lung cancer\n",
      "lung cancer\n",
      "lung cancer\n",
      "lung cancer\n",
      "lung cancer\n",
      "lung cancer\n",
      "lung cancer\n",
      "lung cancer\n",
      "lung cancer\n",
      "lung cancer\n",
      "lung cancer\n",
      "lung cancer\n",
      "lung cancer\n",
      "lung cancer\n",
      "lung cancer\n",
      "lung cancer\n",
      "lung cancer\n",
      "lung cancer\n",
      "lung cancer\n",
      "lung cancer\n",
      "lung cancer\n",
      "lung cancer\n",
      "lung cancer\n",
      "lung cancer\n",
      "lung cancer\n",
      "lung cancer\n",
      "lung cancer\n",
      "lung cancer\n",
      "lung cancer\n",
      "lung cancer\n",
      "lung cancer\n",
      "lung cancer\n",
      "lung cancer\n",
      "lung cancer\n",
      "lung cancer\n",
      "lung cancer\n",
      "lung cancer\n",
      "lung cancer\n",
      "lung cancer\n",
      "lung cancer\n",
      "lung cancer\n",
      "lung cancer\n",
      "lung cancer\n",
      "lung cancer\n",
      "lung cancer\n",
      "lung cancer\n",
      "lung cancer\n",
      "lung cancer\n",
      "lung cancer\n",
      "lung cancer\n",
      "lung cancer\n",
      "lung cancer\n",
      "lung cancer\n",
      "lung cancer\n",
      "lung cancer\n",
      "lung cancer\n",
      "lung cancer\n",
      "lung cancer\n",
      "lung cancer\n",
      "lung cancer\n",
      "lung cancer\n",
      "lung cancer\n",
      "lung cancer\n",
      "lung cancer\n",
      "lung cancer\n",
      "lung cancer\n",
      "lung cancer\n",
      "lung cancer\n",
      "lung cancer\n",
      "lung cancer\n",
      "lung cancer\n",
      "lung cancer\n",
      "lung cancer\n",
      "lung cancer\n",
      "lung cancer\n",
      "lung cancer\n",
      "lung cancer\n",
      "lung cancer\n",
      "lung cancer\n",
      "lung cancer\n",
      "lung cancer\n",
      "lung cancer\n",
      "lung cancer\n",
      "lung cancer\n",
      "lung cancer\n",
      "lung cancer\n",
      "lung cancer\n",
      "lung cancer\n",
      "lung cancer\n",
      "lung cancer\n",
      "lung cancer\n",
      "lung cancer\n",
      "lung cancer\n"
     ]
    },
    {
     "data": {
      "image/png": "[encoded data removed]",
      "text/plain": [
       "<Figure size 640x480 with 1 Axes>"
      ]
     },
     "metadata": {},
     "output_type": "display_data"
    }
   ],
   "source": [
    "df.head()\n",
    "\n",
    "\n",
    "df['Category'].hist()\n",
    "\n",
    "for i in range(len(df['Category'])):\n",
    "    if(df['Category'][i] == \"lung cancer\"):\n",
    "        print(\"lung cancer\")\n",
    "\n"
   ]
  },
  {
   "cell_type": "markdown",
   "metadata": {},
   "source": [
    "Map classes to the integers\n",
    "\n",
    "The first line defines a dictionary target_map that maps the original categorical target variable 'sentiment' to a numerical representation, with 'positive' mapped to 1, 'negative' mapped to 0 and ‘neutral’ mapped to 2."
   ]
  },
  {
   "cell_type": "code",
   "execution_count": 166,
   "metadata": {},
   "outputs": [
    {
     "name": "stdout",
     "output_type": "stream",
     "text": [
      "                                                text  label\n",
      "0  I've been dealing with this huge pain in my ri...    2.0\n",
      "1  Hello, doctor. I've been experiencing a persis...    2.0\n",
      "2  Doctor, I've been experiencing some concerning...    2.0\n",
      "3  Hey, doctor, I've been experiencing progressiv...    2.0\n",
      "4  Hi, doctor, I've been feeling this pain on my ...    2.0\n",
      "                                                text  label\n",
      "0  I've been dealing with this huge pain in my ri...      2\n",
      "1  Hello, doctor. I've been experiencing a persis...      2\n",
      "2  Doctor, I've been experiencing some concerning...      2\n",
      "3  Hey, doctor, I've been experiencing progressiv...      2\n",
      "4  Hi, doctor, I've been feeling this pain on my ...      2\n",
      "Longest length is:\n",
      " 2302\n"
     ]
    },
    {
     "name": "stderr",
     "output_type": "stream",
     "text": [
      "/tmp/ipykernel_1767545/2278484673.py:29: SettingWithCopyWarning: \n",
      "A value is trying to be set on a copy of a slice from a DataFrame.\n",
      "Try using .loc[row_indexer,col_indexer] = value instead\n",
      "\n",
      "See the caveats in the documentation: https://pandas.pydata.org/pandas-docs/stable/user_guide/indexing.html#returning-a-view-versus-a-copy\n",
      "  df1['label'] = df2.label.astype(int)\n"
     ]
    }
   ],
   "source": [
    "'''\n",
    "import os\n",
    "from datasets import load_dataset\n",
    "\n",
    "\n",
    "raw_datasets = load_dataset('csv', data_files='./corpus.csv')\n",
    "\n",
    "\n",
    "os.environ['CUDA_VISIBLE_DEVICES'] = \"3\"\n",
    "imdb = load_dataset(\"imdb\")\n",
    "imdb[\"test\"][0]\n",
    "'''\n",
    "\n",
    "target_map = {\"lung cancer\" : 0,  \"kidney disease\": 1  ,  \"heart disease\" : 2 , \"breast cancer\" : 3 ,\"colorectal cancer\" :  4 }\n",
    "\n",
    "df['target'] = df['Category'].map(target_map)\n",
    "#print(df['target'][0])\n",
    "\n",
    "df1 = df[['Description','target']]\n",
    "df1.columns = ['text','label']\n",
    "\n",
    "\n",
    "\n",
    "\n",
    "df2 = df1.fillna(0)\n",
    "\n",
    "print(df2.head())\n",
    "\n",
    "df1['label'] = df2.label.astype(int)\n",
    "\n",
    "\n",
    "\n",
    "df1.to_csv('data.csv', index = False)\n",
    "\n",
    "\n",
    "print(df1.head())\n",
    "\n",
    "\n",
    "\n",
    "\n",
    "#print(\"All sentence is:\\n\",df1.sentence.str.len())\n",
    "print(\"Longest length is:\\n\",df1.text.str.len().max())\n",
    "\n"
   ]
  },
  {
   "cell_type": "markdown",
   "metadata": {},
   "source": [
    "#### Tokenization"
   ]
  },
  {
   "cell_type": "code",
   "execution_count": 167,
   "metadata": {},
   "outputs": [
    {
     "data": {
      "application/vnd.jupyter.widget-view+json": {
       "model_id": "282f800a7a674a02a3e1bc116950eb67",
       "version_major": 2,
       "version_minor": 0
      },
      "text/plain": [
       "Downloading data files:   0%|          | 0/1 [00:00<?, ?it/s]"
      ]
     },
     "metadata": {},
     "output_type": "display_data"
    },
    {
     "data": {
      "application/vnd.jupyter.widget-view+json": {
       "model_id": "e1330ac56776465f800b87d807ff4ca8",
       "version_major": 2,
       "version_minor": 0
      },
      "text/plain": [
       "Extracting data files:   0%|          | 0/1 [00:00<?, ?it/s]"
      ]
     },
     "metadata": {},
     "output_type": "display_data"
    },
    {
     "data": {
      "application/vnd.jupyter.widget-view+json": {
       "model_id": "c939462351334a52957ee535ccef82f1",
       "version_major": 2,
       "version_minor": 0
      },
      "text/plain": [
       "Generating train split: 0 examples [00:00, ? examples/s]"
      ]
     },
     "metadata": {},
     "output_type": "display_data"
    },
    {
     "name": "stdout",
     "output_type": "stream",
     "text": [
      "DatasetDict({\n",
      "    train: Dataset({\n",
      "        features: ['text', 'label'],\n",
      "        num_rows: 3202\n",
      "    })\n",
      "})\n",
      "{'text': \"I've been dealing with this huge pain in my right upper quadrant for the past two months, and it's been getting worse. It's this dull ache, and it really bothers me. Even touching the area feels tender. But that's not all. I've noticed that I have bad appetite and my body weight drop significantly recently, and I always feel so tired. Over the past week, my legs have been swelling up, especially around the ankles. I can't exercise like I used to, and even simple things like taking a shower or brushing my teeth leave me short of breath and exhausted. It's weird; I've had to prop myself up to sleep the last couple of nights because I couldn't breathe well lying down. I've had heart failure, high cholesterol and high blood pressure since my early 40s. I've also suffered from diabetes, which has been under control. I've been on disability for a while now, and I'm covered by Medicaid. I've had gotten two doses of Pfizer COVID vaccine. I don’t know whether they are this the reason. Oh, in my 20s, I had two surgeries and removed both my appendix and tonsils. I'm really concerned about what's going on, especially with my heart history. Docter, can you help me figure out what's happening and what we can do about it?\", 'label': 2}\n"
     ]
    }
   ],
   "source": [
    "'''\n",
    "def preprocess_function(examples):\n",
    "    return tokenizer(examples[\"text\"], truncation=True)\n",
    "\n",
    "tokenized_imdb = imdb.map(preprocess_function, batched=True)\n",
    "'''\n",
    "\n",
    "\n",
    "\n",
    "from datasets import load_dataset\n",
    "raw_dataset = load_dataset('csv', data_files = 'data.csv')\n",
    "\n",
    "print(raw_dataset)\n",
    "\n",
    "print(raw_dataset['train'][0])\n",
    "\n",
    "\n"
   ]
  },
  {
   "cell_type": "code",
   "execution_count": 168,
   "metadata": {},
   "outputs": [
    {
     "name": "stdout",
     "output_type": "stream",
     "text": [
      "{'text': \"I've been dealing with this huge pain in my right upper quadrant for the past two months, and it's been getting worse. It's this dull ache, and it really bothers me. Even touching the area feels tender. But that's not all. I've noticed that I have bad appetite and my body weight drop significantly recently, and I always feel so tired. Over the past week, my legs have been swelling up, especially around the ankles. I can't exercise like I used to, and even simple things like taking a shower or brushing my teeth leave me short of breath and exhausted. It's weird; I've had to prop myself up to sleep the last couple of nights because I couldn't breathe well lying down. I've had heart failure, high cholesterol and high blood pressure since my early 40s. I've also suffered from diabetes, which has been under control. I've been on disability for a while now, and I'm covered by Medicaid. I've had gotten two doses of Pfizer COVID vaccine. I don’t know whether they are this the reason. Oh, in my 20s, I had two surgeries and removed both my appendix and tonsils. I'm really concerned about what's going on, especially with my heart history. Docter, can you help me figure out what's happening and what we can do about it?\", 'label': 2}\n",
      "{'text': \"Doctor, over the past few months, I've noticed that after even minor physical activities, I've been feeling unusually tired and short of breath. Recently, I've also experienced mild chest discomfort, especially during exertion. It's like my heart is working harder than usual.\", 'label': 2}\n",
      "{'text': \"Hi, um, I've been feeling really tired all the time, and it's been going on for a while now. I also have this weird thing where my heart beats really fast, and it's hard to breathe. That's been getting worse over the past month. And, well, I've had this fever and I've been losing weight for about a month too. There's something going on with my leg too. It started hurting and swelling up with redness on my left thigh about a month ago. I remember falling in the rice field, so maybe that's related? The pain has been getting worse. I haven't been feeling well overall, and now I'm here. I guess the doctors said something about severe malnutrition. I don't know; it's just been kind of rough lately, and I'm not sure why all these things are happening. Doctor, can you help figure out what's going on?\", 'label': 2}\n",
      "{'text': \"Over the last three weeks, I've observed a consistent shortness of breath that's not confined to physical exertion. It's present even during moments of rest, and I'm uncertain about what might be triggering it.\", 'label': 2}\n",
      "{'text': \"My tummy often feels queasy, especially after eating, and it's tough because my legs ache a lot. Playing with my friends becomes a challenge, and I just wish I could enjoy things without feeling sick all the time.\", 'label': 2}\n",
      "{'text': \"I've been having this persistent discomfort in my chest, Doctor, and I'm worried about the possibility of a blood clot or thrombosis. It's been going on for the past couple of weeks.\", 'label': 2}\n",
      "{'text': \"Doctor, an uncomfortable constriction in my chest has persisted for about 55 minutes, and an unrelenting, throbbing pain shoots down my left arm. Breathing is difficult, and I'm soaked in inexplicable sweat.\", 'label': 2}\n",
      "{'text': \"Doctor, I'm really concerned. For about two weeks now, my energy levels are just on the floor. I can barely get through the day without feeling exhausted. And my feet, they're all swollen. Plus, my pee's been kind of scanty. It's weird.\", 'label': 1}\n",
      "{'text': \"I've been feeling really tired lately, more than usual. I've also noticed some swelling in my ankles and feet. It's been going on for a couple of weeks now. I thought it was just because of my new exercise routine, but it doesn't seem to be getting better.\", 'label': 1}\n",
      "{'text': \"Doctor, I'm quite concerned because for the past six weeks, I've been experiencing this overwhelming fatigue. It's not just feeling tired; it's like a deep exhaustion that doesn't improve with rest. Along with this, there's noticeable swelling in my legs and ankles, which gets particularly bad by the evening. I can actually press my finger into my shin and leave an indentation.\", 'label': 1}\n",
      "{'text': \"I've been feeling really tired lately, doc. My urine is dark and foamy, and I've noticed some swelling in my ankles and face. These symptoms have been bothering me for about a month now.\", 'label': 1}\n",
      "{'text': \"I keep having to pee a lot, especially at night, and it's really bright yellow. I've been getting fevers and night sweats and this dull pain in my belly. It's been like this for about a month.\", 'label': 1}\n",
      "{'text': \"I've been having pain in my lower back for the past few months, Doctor. It's a dull ache that comes and goes. Sometimes I feel a bit bloated, but I thought it was just indigestion. The pain has been persistent, though.\", 'label': 1}\n",
      "{'text': \"Hey Doc, I've been feeling pretty lousy lately. For about four months now, I've had this nagging pain in my lower back, mostly on the right side. Sometimes it's so intense that I can't find a comfortable position to sit or lie down. On top of that, I've noticed my urine looking darker than usual, and I have trouble starting to pee sometimes. Is there something wrong?\", 'label': 1}\n",
      "{'text': \"I'm a 46-year-old guy, worked in a factory. Hoarseness is my new normal, and there's this persistent headache that won't quit.\", 'label': 0}\n",
      "{'text': \"Occasional smoker. Shortness of breath and this nagging cough are making me rethink my choices. I'm a 33-year-old man, living in a region with poor air quality.\", 'label': 0}\n",
      "{'text': \"Turning 42, one child. My nipple inverted recently, and it's concerning. With no family history, it's time to schedule a breast checkup.\", 'label': 3}\n",
      "{'text': \"I'm 50, beginning menopause at an older age. Recently, my breast skin started peeling, and there's subtle itching. It's not just dry skin; something feels off. Time to get it checked.\", 'label': 3}\n",
      "{'text': \"I'm a 41-year-old woman, a photographer with a personal history of digestive concerns. Constant fatigue and unexplained weight loss are causing me to question and seek answers.\", 'label': 4}\n",
      "{'text': 'At 55, a man with a sedentary lifestyle. Experiencing constant fatigue and unexplained weight loss.', 'label': 4}\n"
     ]
    }
   ],
   "source": [
    "for i in range(0 ,3000, 150) :\n",
    "    print(raw_dataset['train'][i])"
   ]
  },
  {
   "cell_type": "code",
   "execution_count": 169,
   "metadata": {},
   "outputs": [
    {
     "name": "stdout",
     "output_type": "stream",
     "text": [
      "DatasetDict({\n",
      "    train: Dataset({\n",
      "        features: ['text', 'label'],\n",
      "        num_rows: 2241\n",
      "    })\n",
      "    test: Dataset({\n",
      "        features: ['text', 'label'],\n",
      "        num_rows: 961\n",
      "    })\n",
      "})\n",
      "{'text': \"Over the recent fortnight, I've been ensconced in episodes typified by bradycardic manifestations, concomitant with discernible asthenia and prostration. These incidents seem to transpire capriciously, irrespective of periods of repose or engagement in trifling activities. Episodically, I've also experienced episodes of syncopal predisposition and cognitive attenuation. Given the protraction and accentuation of these symptoms, I am inclined to confer with you to deliberate upon potential causative factors and formulate cogent remedial strategies.\", 'label': 2}\n"
     ]
    }
   ],
   "source": [
    "split = raw_dataset['train'].train_test_split(test_size=0.3, seed=42)\n",
    "\n",
    "print(split)\n",
    "\n",
    "print(split['train'][2])"
   ]
  },
  {
   "cell_type": "code",
   "execution_count": 170,
   "metadata": {},
   "outputs": [
    {
     "data": {
      "application/vnd.jupyter.widget-view+json": {
       "model_id": "573a40f9b1aa4e7b82b85bea47de3e21",
       "version_major": 2,
       "version_minor": 0
      },
      "text/plain": [
       "Map:   0%|          | 0/2241 [00:00<?, ? examples/s]"
      ]
     },
     "metadata": {},
     "output_type": "display_data"
    },
    {
     "data": {
      "application/vnd.jupyter.widget-view+json": {
       "model_id": "6635d028fa1e464a887987ae0c3d8b60",
       "version_major": 2,
       "version_minor": 0
      },
      "text/plain": [
       "Map:   0%|          | 0/961 [00:00<?, ? examples/s]"
      ]
     },
     "metadata": {},
     "output_type": "display_data"
    },
    {
     "name": "stdout",
     "output_type": "stream",
     "text": [
      "{'text': \"I've been having episodes of rapid heartbeat that coincide with a feeling of tightness and discomfort in my chest. These occurrences tend to happen unexpectedly and can last for varying durations. Alongside the palpitations, I've experienced moments of light-headedness and a persistent sense of unease. Recognizing the potential seriousness of these symptoms, I decided it's important to consult with you to determine the underlying cause and discuss appropriate measures to address the issue.\", 'label': 2, 'input_ids': [101, 1045, 1005, 2310, 2042, 2383, 4178, 1997, 5915, 12251, 2008, 19680, 2007, 1037, 3110, 1997, 4389, 2791, 1998, 17964, 1999, 2026, 3108, 1012, 2122, 27247, 7166, 2000, 4148, 14153, 1998, 2064, 2197, 2005, 9671, 9367, 2015, 1012, 4077, 1996, 14412, 23270, 10708, 1010, 1045, 1005, 2310, 5281, 5312, 1997, 2422, 1011, 3753, 2791, 1998, 1037, 14516, 3168, 1997, 27880, 1012, 14622, 1996, 4022, 27994, 1997, 2122, 8030, 1010, 1045, 2787, 2009, 1005, 1055, 2590, 2000, 23363, 2007, 2017, 2000, 5646, 1996, 10318, 3426, 1998, 6848, 6413, 5761, 2000, 4769, 1996, 3277, 1012, 102], 'attention_mask': [1, 1, 1, 1, 1, 1, 1, 1, 1, 1, 1, 1, 1, 1, 1, 1, 1, 1, 1, 1, 1, 1, 1, 1, 1, 1, 1, 1, 1, 1, 1, 1, 1, 1, 1, 1, 1, 1, 1, 1, 1, 1, 1, 1, 1, 1, 1, 1, 1, 1, 1, 1, 1, 1, 1, 1, 1, 1, 1, 1, 1, 1, 1, 1, 1, 1, 1, 1, 1, 1, 1, 1, 1, 1, 1, 1, 1, 1, 1, 1, 1, 1, 1, 1, 1, 1, 1, 1, 1, 1, 1, 1, 1, 1]}\n"
     ]
    }
   ],
   "source": [
    "from transformers import AutoTokenizer\n",
    "\n",
    "\n",
    "tokenizer = AutoTokenizer.from_pretrained(\"distilbert-base-uncased\")\n",
    "\n",
    "\n",
    "max_length = 2302\n",
    "\n",
    "def tokenize_fn(batch):\n",
    "  return tokenizer(batch['text'] , truncation = True )\n",
    "  #return tokenizer(batch['sentence'], truncation = True, padding = True , return_tensors=\"pt\")\n",
    "\n",
    "#print(split)\n",
    "\n",
    "tokenized_dataset = split.map(tokenize_fn, batched = True)\n",
    "\n",
    "\n",
    "print(tokenized_dataset['train'][132])\n",
    "\n",
    "\n"
   ]
  },
  {
   "cell_type": "markdown",
   "metadata": {},
   "source": [
    "Split the Dataset to test and train\n",
    "- test-size = 0.3\n",
    "- seed = 42"
   ]
  },
  {
   "cell_type": "code",
   "execution_count": 171,
   "metadata": {},
   "outputs": [
    {
     "data": {
      "text/plain": [
       "DatasetDict({\n",
       "    train: Dataset({\n",
       "        features: ['text', 'label', 'input_ids', 'attention_mask'],\n",
       "        num_rows: 2241\n",
       "    })\n",
       "    test: Dataset({\n",
       "        features: ['text', 'label', 'input_ids', 'attention_mask'],\n",
       "        num_rows: 961\n",
       "    })\n",
       "})"
      ]
     },
     "execution_count": 171,
     "metadata": {},
     "output_type": "execute_result"
    }
   ],
   "source": [
    "\n",
    "tokenized_dataset\n"
   ]
  },
  {
   "cell_type": "code",
   "execution_count": 172,
   "metadata": {},
   "outputs": [
    {
     "name": "stdout",
     "output_type": "stream",
     "text": [
      "{'text': \"Turning 50, I'm a man, a construction worker with a personal history of digestive issues. Noticing blood in the stool and ongoing abdominal pain has prompted me to consider potential causes.\", 'label': 4, 'input_ids': [101, 3810, 2753, 1010, 1045, 1005, 1049, 1037, 2158, 1010, 1037, 2810, 7309, 2007, 1037, 3167, 2381, 1997, 17886, 3512, 3314, 1012, 15103, 2668, 1999, 1996, 14708, 1998, 7552, 21419, 3255, 2038, 9469, 2033, 2000, 5136, 4022, 5320, 1012, 102], 'attention_mask': [1, 1, 1, 1, 1, 1, 1, 1, 1, 1, 1, 1, 1, 1, 1, 1, 1, 1, 1, 1, 1, 1, 1, 1, 1, 1, 1, 1, 1, 1, 1, 1, 1, 1, 1, 1, 1, 1, 1, 1]}\n",
      "{'text': \"Always tired, and this cough just won't go away. Used to work in a dusty environment. I'm a 38-year-old woman.\", 'label': 0, 'input_ids': [101, 2467, 5458, 1010, 1998, 2023, 19340, 2074, 2180, 1005, 1056, 2175, 2185, 1012, 2109, 2000, 2147, 1999, 1037, 12727, 4044, 1012, 1045, 1005, 1049, 1037, 4229, 1011, 2095, 1011, 2214, 2450, 1012, 102], 'attention_mask': [1, 1, 1, 1, 1, 1, 1, 1, 1, 1, 1, 1, 1, 1, 1, 1, 1, 1, 1, 1, 1, 1, 1, 1, 1, 1, 1, 1, 1, 1, 1, 1, 1, 1]}\n",
      "{'text': \"Over the recent fortnight, I've been ensconced in episodes typified by bradycardic manifestations, concomitant with discernible asthenia and prostration. These incidents seem to transpire capriciously, irrespective of periods of repose or engagement in trifling activities. Episodically, I've also experienced episodes of syncopal predisposition and cognitive attenuation. Given the protraction and accentuation of these symptoms, I am inclined to confer with you to deliberate upon potential causative factors and formulate cogent remedial strategies.\", 'label': 2, 'input_ids': [101, 2058, 1996, 3522, 3481, 15864, 1010, 1045, 1005, 2310, 2042, 4372, 9363, 5897, 2094, 1999, 4178, 5939, 8197, 10451, 2011, 10184, 11522, 2594, 24491, 2015, 1010, 9530, 9006, 25451, 2102, 2007, 5860, 11795, 7028, 2004, 10760, 6200, 1998, 4013, 20528, 3508, 1012, 2122, 10444, 4025, 2000, 9099, 20781, 6178, 7277, 19426, 1010, 20868, 6072, 5051, 15277, 1997, 6993, 1997, 16360, 9232, 2030, 8147, 1999, 13012, 10258, 2075, 3450, 1012, 4958, 19565, 14808, 3973, 1010, 1045, 1005, 2310, 2036, 5281, 4178, 1997, 26351, 29477, 2140, 3653, 10521, 26994, 1998, 10699, 2012, 6528, 14505, 1012, 2445, 1996, 4013, 6494, 7542, 1998, 9669, 14505, 1997, 2122, 8030, 1010, 1045, 2572, 13050, 2000, 9530, 7512, 2007, 2017, 2000, 15063, 2588, 4022, 6187, 10383, 6024, 5876, 1998, 5675, 2618, 2522, 11461, 2128, 16969, 2140, 9942, 1012, 102], 'attention_mask': [1, 1, 1, 1, 1, 1, 1, 1, 1, 1, 1, 1, 1, 1, 1, 1, 1, 1, 1, 1, 1, 1, 1, 1, 1, 1, 1, 1, 1, 1, 1, 1, 1, 1, 1, 1, 1, 1, 1, 1, 1, 1, 1, 1, 1, 1, 1, 1, 1, 1, 1, 1, 1, 1, 1, 1, 1, 1, 1, 1, 1, 1, 1, 1, 1, 1, 1, 1, 1, 1, 1, 1, 1, 1, 1, 1, 1, 1, 1, 1, 1, 1, 1, 1, 1, 1, 1, 1, 1, 1, 1, 1, 1, 1, 1, 1, 1, 1, 1, 1, 1, 1, 1, 1, 1, 1, 1, 1, 1, 1, 1, 1, 1, 1, 1, 1, 1, 1, 1, 1, 1, 1, 1, 1, 1, 1, 1, 1, 1, 1, 1, 1, 1]}\n",
      "{'text': \"Occasional smoker. Shortness of breath and this nagging cough are making me rethink my choices. I'm a 33-year-old man.\", 'label': 0, 'input_ids': [101, 8138, 5610, 2099, 1012, 2460, 2791, 1997, 3052, 1998, 2023, 6583, 12588, 19340, 2024, 2437, 2033, 2128, 15222, 8950, 2026, 9804, 1012, 1045, 1005, 1049, 1037, 3943, 1011, 2095, 1011, 2214, 2158, 1012, 102], 'attention_mask': [1, 1, 1, 1, 1, 1, 1, 1, 1, 1, 1, 1, 1, 1, 1, 1, 1, 1, 1, 1, 1, 1, 1, 1, 1, 1, 1, 1, 1, 1, 1, 1, 1, 1, 1]}\n",
      "{'text': \"You know, for the past year, my heart's been acting all funny, like irregular beats or something. At the same time, my chest feels super tight, and I just don't have the usual energy. I was thinking, could this be related to a valve thing in my heart? Like maybe the valve is not working right?\", 'label': 2, 'input_ids': [101, 2017, 2113, 1010, 2005, 1996, 2627, 2095, 1010, 2026, 2540, 1005, 1055, 2042, 3772, 2035, 6057, 1010, 2066, 12052, 10299, 2030, 2242, 1012, 2012, 1996, 2168, 2051, 1010, 2026, 3108, 5683, 3565, 4389, 1010, 1998, 1045, 2074, 2123, 1005, 1056, 2031, 1996, 5156, 2943, 1012, 1045, 2001, 3241, 1010, 2071, 2023, 2022, 3141, 2000, 1037, 10764, 2518, 1999, 2026, 2540, 1029, 2066, 2672, 1996, 10764, 2003, 2025, 2551, 2157, 1029, 102], 'attention_mask': [1, 1, 1, 1, 1, 1, 1, 1, 1, 1, 1, 1, 1, 1, 1, 1, 1, 1, 1, 1, 1, 1, 1, 1, 1, 1, 1, 1, 1, 1, 1, 1, 1, 1, 1, 1, 1, 1, 1, 1, 1, 1, 1, 1, 1, 1, 1, 1, 1, 1, 1, 1, 1, 1, 1, 1, 1, 1, 1, 1, 1, 1, 1, 1, 1, 1, 1, 1, 1, 1, 1, 1]}\n",
      "{'text': \"At 49, I'm a man, an IT professional with a personal history of digestive issues. Experiencing constant fatigue and unexplained weight loss, it's time for me to seek guidance.\", 'label': 4, 'input_ids': [101, 2012, 4749, 1010, 1045, 1005, 1049, 1037, 2158, 1010, 2019, 2009, 2658, 2007, 1037, 3167, 2381, 1997, 17886, 3512, 3314, 1012, 13417, 5377, 16342, 1998, 16655, 2595, 24759, 18175, 2094, 3635, 3279, 1010, 2009, 1005, 1055, 2051, 2005, 2033, 2000, 6148, 8606, 1012, 102], 'attention_mask': [1, 1, 1, 1, 1, 1, 1, 1, 1, 1, 1, 1, 1, 1, 1, 1, 1, 1, 1, 1, 1, 1, 1, 1, 1, 1, 1, 1, 1, 1, 1, 1, 1, 1, 1, 1, 1, 1, 1, 1, 1, 1, 1, 1, 1]}\n",
      "{'text': \"Turning 44, thought I was past the risky age. But this newly inverted nipple is concerning. With my family history, it's time to schedule a breast checkup.\", 'label': 3, 'input_ids': [101, 3810, 4008, 1010, 2245, 1045, 2001, 2627, 1996, 19188, 2287, 1012, 2021, 2023, 4397, 20037, 14298, 2003, 7175, 1012, 2007, 2026, 2155, 2381, 1010, 2009, 1005, 1055, 2051, 2000, 6134, 1037, 7388, 4638, 6279, 1012, 102], 'attention_mask': [1, 1, 1, 1, 1, 1, 1, 1, 1, 1, 1, 1, 1, 1, 1, 1, 1, 1, 1, 1, 1, 1, 1, 1, 1, 1, 1, 1, 1, 1, 1, 1, 1, 1, 1, 1, 1]}\n",
      "{'text': \"It's been a strange few weeks of feeling constantly tired, and I can't seem to shake it off. I'm trying not to think the worst, but the duration is starting to make me uneasy.\", 'label': 2, 'input_ids': [101, 2009, 1005, 1055, 2042, 1037, 4326, 2261, 3134, 1997, 3110, 7887, 5458, 1010, 1998, 1045, 2064, 1005, 1056, 4025, 2000, 6073, 2009, 2125, 1012, 1045, 1005, 1049, 2667, 2025, 2000, 2228, 1996, 5409, 1010, 2021, 1996, 9367, 2003, 3225, 2000, 2191, 2033, 15491, 1012, 102], 'attention_mask': [1, 1, 1, 1, 1, 1, 1, 1, 1, 1, 1, 1, 1, 1, 1, 1, 1, 1, 1, 1, 1, 1, 1, 1, 1, 1, 1, 1, 1, 1, 1, 1, 1, 1, 1, 1, 1, 1, 1, 1, 1, 1, 1, 1, 1, 1]}\n",
      "{'text': \"Hi there, doc. So, for about two and a half months, I've been dealing with these sharp, stabbing pains on my side. They come and go, but when they hit, it's like a lightning strike. And here's the kicker - I've seen some red stuff in my pee a few times. What's going on inside me?\", 'label': 1, 'input_ids': [101, 7632, 2045, 1010, 9986, 1012, 2061, 1010, 2005, 2055, 2048, 1998, 1037, 2431, 2706, 1010, 1045, 1005, 2310, 2042, 7149, 2007, 2122, 4629, 1010, 21690, 20398, 2006, 2026, 2217, 1012, 2027, 2272, 1998, 2175, 1010, 2021, 2043, 2027, 2718, 1010, 2009, 1005, 1055, 2066, 1037, 7407, 4894, 1012, 1998, 2182, 1005, 1055, 1996, 22652, 1011, 1045, 1005, 2310, 2464, 2070, 2417, 4933, 1999, 2026, 21392, 1037, 2261, 2335, 1012, 2054, 1005, 1055, 2183, 2006, 2503, 2033, 1029, 102], 'attention_mask': [1, 1, 1, 1, 1, 1, 1, 1, 1, 1, 1, 1, 1, 1, 1, 1, 1, 1, 1, 1, 1, 1, 1, 1, 1, 1, 1, 1, 1, 1, 1, 1, 1, 1, 1, 1, 1, 1, 1, 1, 1, 1, 1, 1, 1, 1, 1, 1, 1, 1, 1, 1, 1, 1, 1, 1, 1, 1, 1, 1, 1, 1, 1, 1, 1, 1, 1, 1, 1, 1, 1, 1, 1, 1, 1, 1, 1, 1, 1]}\n",
      "{'text': \"At 55, I'm a man with a history of smoking. Recently noticed ongoing abdominal cramps and bloating, prompting me to consider potential lifestyle impacts.\", 'label': 4, 'input_ids': [101, 2012, 4583, 1010, 1045, 1005, 1049, 1037, 2158, 2007, 1037, 2381, 1997, 9422, 1012, 3728, 4384, 7552, 21419, 13675, 25167, 1998, 1038, 4135, 5844, 1010, 15870, 2033, 2000, 5136, 4022, 9580, 14670, 1012, 102], 'attention_mask': [1, 1, 1, 1, 1, 1, 1, 1, 1, 1, 1, 1, 1, 1, 1, 1, 1, 1, 1, 1, 1, 1, 1, 1, 1, 1, 1, 1, 1, 1, 1, 1, 1, 1, 1]}\n",
      "{'text': \"I'm a 50-year-old woman, a flight attendant with a personal history of digestive concerns. Experiencing constant fatigue and unexplained weight loss, it's time for me to seek guidance.\", 'label': 4, 'input_ids': [101, 1045, 1005, 1049, 1037, 2753, 1011, 2095, 1011, 2214, 2450, 1010, 1037, 3462, 16742, 2007, 1037, 3167, 2381, 1997, 17886, 3512, 5936, 1012, 13417, 5377, 16342, 1998, 16655, 2595, 24759, 18175, 2094, 3635, 3279, 1010, 2009, 1005, 1055, 2051, 2005, 2033, 2000, 6148, 8606, 1012, 102], 'attention_mask': [1, 1, 1, 1, 1, 1, 1, 1, 1, 1, 1, 1, 1, 1, 1, 1, 1, 1, 1, 1, 1, 1, 1, 1, 1, 1, 1, 1, 1, 1, 1, 1, 1, 1, 1, 1, 1, 1, 1, 1, 1, 1, 1, 1, 1, 1, 1]}\n",
      "{'text': \"Hi, Doctor. I've been feeling a constant ringing in my ears, occasional blurry vision, and increased fatigue. Could this be related to allergies or perhaps something with my eyesight?\", 'label': 2, 'input_ids': [101, 7632, 1010, 3460, 1012, 1045, 1005, 2310, 2042, 3110, 1037, 5377, 13060, 1999, 2026, 5551, 1010, 8138, 14819, 2854, 4432, 1010, 1998, 3445, 16342, 1012, 2071, 2023, 2022, 3141, 2000, 2035, 2121, 17252, 2030, 3383, 2242, 2007, 2026, 2159, 18743, 1029, 102], 'attention_mask': [1, 1, 1, 1, 1, 1, 1, 1, 1, 1, 1, 1, 1, 1, 1, 1, 1, 1, 1, 1, 1, 1, 1, 1, 1, 1, 1, 1, 1, 1, 1, 1, 1, 1, 1, 1, 1, 1, 1, 1, 1, 1, 1]}\n",
      "{'text': \"Doc, it's been a constant battle with shortness of breath, even at rest, for three years since my aortic valve got replaced. Could this be pointing to a heart problem or maybe the new valve isn't quite right?\", 'label': 2, 'input_ids': [101, 9986, 1010, 2009, 1005, 1055, 2042, 1037, 5377, 2645, 2007, 2460, 2791, 1997, 3052, 1010, 2130, 2012, 2717, 1010, 2005, 2093, 2086, 2144, 2026, 20118, 28228, 2278, 10764, 2288, 2999, 1012, 2071, 2023, 2022, 7302, 2000, 1037, 2540, 3291, 2030, 2672, 1996, 2047, 10764, 3475, 1005, 1056, 3243, 2157, 1029, 102], 'attention_mask': [1, 1, 1, 1, 1, 1, 1, 1, 1, 1, 1, 1, 1, 1, 1, 1, 1, 1, 1, 1, 1, 1, 1, 1, 1, 1, 1, 1, 1, 1, 1, 1, 1, 1, 1, 1, 1, 1, 1, 1, 1, 1, 1, 1, 1, 1, 1, 1, 1, 1, 1, 1]}\n",
      "{'text': 'In addition to the initial dyspnea and fever, the persistent leukocytosis, with a white blood cell count of 18,000/mm³ and neutrophilia at 80%, signaled an ongoing inflammatory response. These hematological abnormalities hinted at an underlying infectious or inflammatory etiology, prompting a thorough investigation to identify the root cause.', 'label': 2, 'input_ids': [101, 1999, 2804, 2000, 1996, 3988, 1040, 7274, 2361, 22084, 1998, 9016, 1010, 1996, 14516, 3393, 6968, 10085, 22123, 12650, 1010, 2007, 1037, 2317, 2668, 3526, 4175, 1997, 2324, 1010, 2199, 1013, 3461, 18107, 1998, 11265, 4904, 18981, 19466, 2401, 2012, 3770, 1003, 1010, 22319, 2019, 7552, 20187, 3433, 1012, 2122, 19610, 10610, 9966, 28828, 21795, 2012, 2019, 10318, 16514, 2030, 20187, 3802, 20569, 1010, 15870, 1037, 16030, 4812, 2000, 6709, 1996, 7117, 3426, 1012, 102], 'attention_mask': [1, 1, 1, 1, 1, 1, 1, 1, 1, 1, 1, 1, 1, 1, 1, 1, 1, 1, 1, 1, 1, 1, 1, 1, 1, 1, 1, 1, 1, 1, 1, 1, 1, 1, 1, 1, 1, 1, 1, 1, 1, 1, 1, 1, 1, 1, 1, 1, 1, 1, 1, 1, 1, 1, 1, 1, 1, 1, 1, 1, 1, 1, 1, 1, 1, 1, 1, 1, 1, 1, 1, 1, 1, 1, 1, 1]}\n",
      "{'text': \"I'm a 46-year-old woman, non-smoker. This new cough is accompanied by a strange ache in my chest. Can't ignore it any longer.\", 'label': 0, 'input_ids': [101, 1045, 1005, 1049, 1037, 4805, 1011, 2095, 1011, 2214, 2450, 1010, 2512, 1011, 5610, 2099, 1012, 2023, 2047, 19340, 2003, 5642, 2011, 1037, 4326, 12336, 1999, 2026, 3108, 1012, 2064, 1005, 1056, 8568, 2009, 2151, 2936, 1012, 102], 'attention_mask': [1, 1, 1, 1, 1, 1, 1, 1, 1, 1, 1, 1, 1, 1, 1, 1, 1, 1, 1, 1, 1, 1, 1, 1, 1, 1, 1, 1, 1, 1, 1, 1, 1, 1, 1, 1, 1, 1, 1]}\n",
      "{'text': \"Over the last ten months, I've been dealing with recurrent febrile episodes, accompanied by migrating joint pain. The pain tends to concentrate around my hips and shoulders, and I've noticed a decrease in my overall energy levels.\", 'label': 2, 'input_ids': [101, 2058, 1996, 2197, 2702, 2706, 1010, 1045, 1005, 2310, 2042, 7149, 2007, 28667, 29264, 13114, 15928, 2063, 4178, 1010, 5642, 2011, 28636, 4101, 3255, 1012, 1996, 3255, 12102, 2000, 10152, 2105, 2026, 6700, 1998, 4065, 1010, 1998, 1045, 1005, 2310, 4384, 1037, 9885, 1999, 2026, 3452, 2943, 3798, 1012, 102], 'attention_mask': [1, 1, 1, 1, 1, 1, 1, 1, 1, 1, 1, 1, 1, 1, 1, 1, 1, 1, 1, 1, 1, 1, 1, 1, 1, 1, 1, 1, 1, 1, 1, 1, 1, 1, 1, 1, 1, 1, 1, 1, 1, 1, 1, 1, 1, 1, 1, 1, 1, 1, 1]}\n",
      "{'text': \"40-year-old woman, always on the move. Lately, a persistent headache and this unexplained weight loss have thrown me off balance. It's time to prioritize my health.\", 'label': 0, 'input_ids': [101, 2871, 1011, 2095, 1011, 2214, 2450, 1010, 2467, 2006, 1996, 2693, 1012, 9906, 1010, 1037, 14516, 14978, 1998, 2023, 16655, 2595, 24759, 18175, 2094, 3635, 3279, 2031, 6908, 2033, 2125, 5703, 1012, 2009, 1005, 1055, 2051, 2000, 3188, 25090, 4371, 2026, 2740, 1012, 102], 'attention_mask': [1, 1, 1, 1, 1, 1, 1, 1, 1, 1, 1, 1, 1, 1, 1, 1, 1, 1, 1, 1, 1, 1, 1, 1, 1, 1, 1, 1, 1, 1, 1, 1, 1, 1, 1, 1, 1, 1, 1, 1, 1, 1, 1, 1, 1]}\n",
      "{'text': \"Hello, doctor. I've been dealing with these symptoms for over a year now, and it's been quite challenging. The palpitations and chest tightness have been bothering me, and lately, they've become even more severe with these episodes of rapid heartbeats, both ventricular and supraventricular. It's not just about my heart, though. My sleep quality has been terrible, and I feel weak. I've also noticed that my hands and feet are always cold, which is quite uncomfortable. Additionally, I've been experiencing a sore mouth and a dry throat. I saw another doctor at the beginning of the year. At that time, I used to be fat, and it is said that there were petechiae on my tongue, with my lips and tongue appearing dark red, but I don’t think it is related to my heart problem. I'm really concerned about what's happening, especially with the palpitations and the other symptoms. It's significantly affecting my daily life, and I'm struggling to cope. Is there anything we can do to figure out the cause of these symptoms and find a way to manage them?\", 'label': 2, 'input_ids': [101, 7592, 1010, 3460, 1012, 1045, 1005, 2310, 2042, 7149, 2007, 2122, 8030, 2005, 2058, 1037, 2095, 2085, 1010, 1998, 2009, 1005, 1055, 2042, 3243, 10368, 1012, 1996, 14412, 23270, 10708, 1998, 3108, 4389, 2791, 2031, 2042, 17067, 2033, 1010, 1998, 9906, 1010, 2027, 1005, 2310, 2468, 2130, 2062, 5729, 2007, 2122, 4178, 1997, 5915, 12251, 2015, 1010, 2119, 18834, 7277, 7934, 1998, 10514, 18098, 10696, 3372, 7277, 7934, 1012, 2009, 1005, 1055, 2025, 2074, 2055, 2026, 2540, 1010, 2295, 1012, 2026, 3637, 3737, 2038, 2042, 6659, 1010, 1998, 1045, 2514, 5410, 1012, 1045, 1005, 2310, 2036, 4384, 2008, 2026, 2398, 1998, 2519, 2024, 2467, 3147, 1010, 2029, 2003, 3243, 8796, 1012, 5678, 1010, 1045, 1005, 2310, 2042, 13417, 1037, 14699, 2677, 1998, 1037, 4318, 3759, 1012, 1045, 2387, 2178, 3460, 2012, 1996, 2927, 1997, 1996, 2095, 1012, 2012, 2008, 2051, 1010, 1045, 2109, 2000, 2022, 6638, 1010, 1998, 2009, 2003, 2056, 2008, 2045, 2020, 6969, 20881, 2063, 2006, 2026, 4416, 1010, 2007, 2026, 2970, 1998, 4416, 6037, 2601, 2417, 1010, 2021, 1045, 2123, 1521, 1056, 2228, 2009, 2003, 3141, 2000, 2026, 2540, 3291, 1012, 1045, 1005, 1049, 2428, 4986, 2055, 2054, 1005, 1055, 6230, 1010, 2926, 2007, 1996, 14412, 23270, 10708, 1998, 1996, 2060, 8030, 1012, 2009, 1005, 1055, 6022, 12473, 2026, 3679, 2166, 1010, 1998, 1045, 1005, 1049, 8084, 2000, 11997, 1012, 2003, 2045, 2505, 2057, 2064, 2079, 2000, 3275, 2041, 1996, 3426, 1997, 2122, 8030, 1998, 2424, 1037, 2126, 2000, 6133, 2068, 1029, 102], 'attention_mask': [1, 1, 1, 1, 1, 1, 1, 1, 1, 1, 1, 1, 1, 1, 1, 1, 1, 1, 1, 1, 1, 1, 1, 1, 1, 1, 1, 1, 1, 1, 1, 1, 1, 1, 1, 1, 1, 1, 1, 1, 1, 1, 1, 1, 1, 1, 1, 1, 1, 1, 1, 1, 1, 1, 1, 1, 1, 1, 1, 1, 1, 1, 1, 1, 1, 1, 1, 1, 1, 1, 1, 1, 1, 1, 1, 1, 1, 1, 1, 1, 1, 1, 1, 1, 1, 1, 1, 1, 1, 1, 1, 1, 1, 1, 1, 1, 1, 1, 1, 1, 1, 1, 1, 1, 1, 1, 1, 1, 1, 1, 1, 1, 1, 1, 1, 1, 1, 1, 1, 1, 1, 1, 1, 1, 1, 1, 1, 1, 1, 1, 1, 1, 1, 1, 1, 1, 1, 1, 1, 1, 1, 1, 1, 1, 1, 1, 1, 1, 1, 1, 1, 1, 1, 1, 1, 1, 1, 1, 1, 1, 1, 1, 1, 1, 1, 1, 1, 1, 1, 1, 1, 1, 1, 1, 1, 1, 1, 1, 1, 1, 1, 1, 1, 1, 1, 1, 1, 1, 1, 1, 1, 1, 1, 1, 1, 1, 1, 1, 1, 1, 1, 1, 1, 1, 1, 1, 1, 1, 1, 1, 1, 1, 1, 1, 1, 1, 1, 1, 1, 1, 1, 1, 1, 1, 1, 1, 1, 1, 1, 1, 1, 1, 1, 1, 1, 1, 1, 1, 1, 1, 1, 1, 1, 1, 1, 1, 1]}\n",
      "{'text': \"Former miner. Chest pain and breathlessness are my new normal. I'm a 48-year-old man.\", 'label': 0, 'input_ids': [101, 2280, 18594, 1012, 3108, 3255, 1998, 16701, 2791, 2024, 2026, 2047, 3671, 1012, 1045, 1005, 1049, 1037, 4466, 1011, 2095, 1011, 2214, 2158, 1012, 102], 'attention_mask': [1, 1, 1, 1, 1, 1, 1, 1, 1, 1, 1, 1, 1, 1, 1, 1, 1, 1, 1, 1, 1, 1, 1, 1, 1, 1]}\n",
      "{'text': \"Hey, 29-year-old woman here. Breathlessness has become my new norm, and an unexplained weight loss is raising eyebrows. This persistent cough isn't letting up, prompting a visit to the doctor.\", 'label': 0, 'input_ids': [101, 4931, 1010, 2756, 1011, 2095, 1011, 2214, 2450, 2182, 1012, 16701, 2791, 2038, 2468, 2026, 2047, 13373, 1010, 1998, 2019, 16655, 2595, 24759, 18175, 2094, 3635, 3279, 2003, 6274, 8407, 1012, 2023, 14516, 19340, 3475, 1005, 1056, 5599, 2039, 1010, 15870, 1037, 3942, 2000, 1996, 3460, 1012, 102], 'attention_mask': [1, 1, 1, 1, 1, 1, 1, 1, 1, 1, 1, 1, 1, 1, 1, 1, 1, 1, 1, 1, 1, 1, 1, 1, 1, 1, 1, 1, 1, 1, 1, 1, 1, 1, 1, 1, 1, 1, 1, 1, 1, 1, 1, 1, 1, 1, 1, 1, 1]}\n"
     ]
    }
   ],
   "source": [
    "for i in range(0,20):\n",
    "    print(tokenized_dataset['train'][i])\n"
   ]
  },
  {
   "cell_type": "code",
   "execution_count": 173,
   "metadata": {},
   "outputs": [
    {
     "name": "stdout",
     "output_type": "stream",
     "text": [
      "DataCollatorWithPadding(tokenizer=DistilBertTokenizerFast(name_or_path='distilbert-base-uncased', vocab_size=30522, model_max_length=512, is_fast=True, padding_side='right', truncation_side='right', special_tokens={'unk_token': '[UNK]', 'sep_token': '[SEP]', 'pad_token': '[PAD]', 'cls_token': '[CLS]', 'mask_token': '[MASK]'}, clean_up_tokenization_spaces=True), padding=True, max_length=None, pad_to_multiple_of=None, return_tensors='pt')\n"
     ]
    }
   ],
   "source": [
    "from transformers import DataCollatorWithPadding\n",
    "\n",
    "data_collator = DataCollatorWithPadding(tokenizer=tokenizer)\n",
    "\n",
    "print(data_collator)"
   ]
  },
  {
   "cell_type": "markdown",
   "metadata": {},
   "source": [
    "Define tokenizer function\n",
    "\n"
   ]
  },
  {
   "cell_type": "code",
   "execution_count": null,
   "metadata": {},
   "outputs": [],
   "source": []
  },
  {
   "cell_type": "markdown",
   "metadata": {},
   "source": [
    "### Evaluation Metric"
   ]
  },
  {
   "cell_type": "code",
   "execution_count": 174,
   "metadata": {},
   "outputs": [],
   "source": [
    "import evaluate\n",
    "import numpy as np\n",
    "\n",
    "accuracy = evaluate.load(\"accuracy\")\n",
    "\n",
    "def compute_metrics(eval_pred):\n",
    "    predictions, labels = eval_pred\n",
    "    predictions = np.argmax(predictions, axis=1)\n",
    "    return accuracy.compute(predictions=predictions, references=labels)"
   ]
  },
  {
   "cell_type": "markdown",
   "metadata": {},
   "source": [
    "### Training"
   ]
  },
  {
   "cell_type": "code",
   "execution_count": 175,
   "metadata": {},
   "outputs": [
    {
     "name": "stdout",
     "output_type": "stream",
     "text": [
      "cuda:0\n",
      "NVIDIA GeForce RTX 4090\n"
     ]
    }
   ],
   "source": [
    "import torch\n",
    "torch.cuda.is_available()\n",
    "\n",
    "device = torch.device('cuda:0' if torch.cuda.is_available() else 'cpu')\n",
    "\n",
    "print(device)\n",
    "\n",
    "#Additional Info when using cuda\n",
    "if device.type == 'cuda':\n",
    "    print(torch.cuda.get_device_name(0))"
   ]
  },
  {
   "cell_type": "code",
   "execution_count": 132,
   "metadata": {},
   "outputs": [
    {
     "data": {
      "text/plain": [
       "0"
      ]
     },
     "execution_count": 132,
     "metadata": {},
     "output_type": "execute_result"
    }
   ],
   "source": [
    "import torch\n",
    "\n",
    "torch.cuda.device_count()\n",
    "torch.cuda.current_device()\n",
    "\n"
   ]
  },
  {
   "cell_type": "code",
   "execution_count": 177,
   "metadata": {},
   "outputs": [
    {
     "name": "stderr",
     "output_type": "stream",
     "text": [
      "Some weights of the model checkpoint at distilbert-base-uncased were not used when initializing DistilBertForSequenceClassification: ['vocab_layer_norm.weight', 'vocab_transform.bias', 'vocab_transform.weight', 'vocab_projector.bias', 'vocab_layer_norm.bias']\n",
      "- This IS expected if you are initializing DistilBertForSequenceClassification from the checkpoint of a model trained on another task or with another architecture (e.g. initializing a BertForSequenceClassification model from a BertForPreTraining model).\n",
      "- This IS NOT expected if you are initializing DistilBertForSequenceClassification from the checkpoint of a model that you expect to be exactly identical (initializing a BertForSequenceClassification model from a BertForSequenceClassification model).\n",
      "Some weights of DistilBertForSequenceClassification were not initialized from the model checkpoint at distilbert-base-uncased and are newly initialized: ['pre_classifier.bias', 'pre_classifier.weight', 'classifier.bias', 'classifier.weight']\n",
      "You should probably TRAIN this model on a down-stream task to be able to use it for predictions and inference.\n",
      "/home/ray/anaconda3/lib/python3.11/site-packages/transformers/optimization.py:391: FutureWarning: This implementation of AdamW is deprecated and will be removed in a future version. Use the PyTorch implementation torch.optim.AdamW instead, or set `no_deprecation_warning=True` to disable this warning\n",
      "  warnings.warn(\n"
     ]
    },
    {
     "data": {
      "application/vnd.jupyter.widget-view+json": {
       "model_id": "22ee7122feaf4b31bccf914e94afacb1",
       "version_major": 2,
       "version_minor": 0
      },
      "text/plain": [
       "  0%|          | 0/14100 [00:00<?, ?it/s]"
      ]
     },
     "metadata": {},
     "output_type": "display_data"
    },
    {
     "data": {
      "application/vnd.jupyter.widget-view+json": {
       "model_id": "d02d75f941b24723b559a67e13719436",
       "version_major": 2,
       "version_minor": 0
      },
      "text/plain": [
       "  0%|          | 0/61 [00:00<?, ?it/s]"
      ]
     },
     "metadata": {},
     "output_type": "display_data"
    },
    {
     "name": "stdout",
     "output_type": "stream",
     "text": [
      "{'eval_loss': 0.08695439994335175, 'eval_accuracy': 0.9802289281997919, 'eval_runtime': 0.4272, 'eval_samples_per_second': 2249.363, 'eval_steps_per_second': 142.78, 'epoch': 1.0}\n"
     ]
    },
    {
     "data": {
      "application/vnd.jupyter.widget-view+json": {
       "model_id": "7a21d1842d1a45499b4f4840f302f771",
       "version_major": 2,
       "version_minor": 0
      },
      "text/plain": [
       "  0%|          | 0/61 [00:00<?, ?it/s]"
      ]
     },
     "metadata": {},
     "output_type": "display_data"
    },
    {
     "name": "stdout",
     "output_type": "stream",
     "text": [
      "{'eval_loss': 0.034402381628751755, 'eval_accuracy': 0.991675338189386, 'eval_runtime': 0.4211, 'eval_samples_per_second': 2282.297, 'eval_steps_per_second': 144.87, 'epoch': 2.0}\n"
     ]
    },
    {
     "data": {
      "application/vnd.jupyter.widget-view+json": {
       "model_id": "b13be505565b42bda7e59f084a14749d",
       "version_major": 2,
       "version_minor": 0
      },
      "text/plain": [
       "  0%|          | 0/61 [00:00<?, ?it/s]"
      ]
     },
     "metadata": {},
     "output_type": "display_data"
    },
    {
     "name": "stdout",
     "output_type": "stream",
     "text": [
      "{'eval_loss': 0.03220369666814804, 'eval_accuracy': 0.9927159209157128, 'eval_runtime': 0.4205, 'eval_samples_per_second': 2285.277, 'eval_steps_per_second': 145.059, 'epoch': 3.0}\n",
      "{'loss': 0.1798, 'learning_rate': 1.929078014184397e-05, 'epoch': 3.55}\n"
     ]
    },
    {
     "data": {
      "application/vnd.jupyter.widget-view+json": {
       "model_id": "b48a6269de7040248083f2110b6f81ce",
       "version_major": 2,
       "version_minor": 0
      },
      "text/plain": [
       "  0%|          | 0/61 [00:00<?, ?it/s]"
      ]
     },
     "metadata": {},
     "output_type": "display_data"
    },
    {
     "name": "stdout",
     "output_type": "stream",
     "text": [
      "{'eval_loss': 0.055653754621744156, 'eval_accuracy': 0.9895941727367326, 'eval_runtime': 0.4241, 'eval_samples_per_second': 2265.829, 'eval_steps_per_second': 143.825, 'epoch': 4.0}\n"
     ]
    },
    {
     "data": {
      "application/vnd.jupyter.widget-view+json": {
       "model_id": "35954e28f3fc438e91e2ed557649635e",
       "version_major": 2,
       "version_minor": 0
      },
      "text/plain": [
       "  0%|          | 0/61 [00:00<?, ?it/s]"
      ]
     },
     "metadata": {},
     "output_type": "display_data"
    },
    {
     "name": "stdout",
     "output_type": "stream",
     "text": [
      "{'eval_loss': 0.04662766680121422, 'eval_accuracy': 0.9906347554630593, 'eval_runtime': 0.4241, 'eval_samples_per_second': 2265.82, 'eval_steps_per_second': 143.824, 'epoch': 5.0}\n"
     ]
    },
    {
     "data": {
      "application/vnd.jupyter.widget-view+json": {
       "model_id": "81b7fd3f2b234282b71d6e5c8f299b30",
       "version_major": 2,
       "version_minor": 0
      },
      "text/plain": [
       "  0%|          | 0/61 [00:00<?, ?it/s]"
      ]
     },
     "metadata": {},
     "output_type": "display_data"
    },
    {
     "name": "stdout",
     "output_type": "stream",
     "text": [
      "{'eval_loss': 0.030126724392175674, 'eval_accuracy': 0.9937565036420395, 'eval_runtime': 0.4212, 'eval_samples_per_second': 2281.611, 'eval_steps_per_second': 144.827, 'epoch': 6.0}\n"
     ]
    },
    {
     "data": {
      "application/vnd.jupyter.widget-view+json": {
       "model_id": "267b61cc3ad9458288e0e9fe41a5b779",
       "version_major": 2,
       "version_minor": 0
      },
      "text/plain": [
       "  0%|          | 0/61 [00:00<?, ?it/s]"
      ]
     },
     "metadata": {},
     "output_type": "display_data"
    },
    {
     "name": "stdout",
     "output_type": "stream",
     "text": [
      "{'eval_loss': 0.051618874073028564, 'eval_accuracy': 0.9906347554630593, 'eval_runtime': 0.4252, 'eval_samples_per_second': 2259.927, 'eval_steps_per_second': 143.45, 'epoch': 7.0}\n",
      "{'loss': 0.0027, 'learning_rate': 1.8581560283687945e-05, 'epoch': 7.09}\n"
     ]
    },
    {
     "data": {
      "application/vnd.jupyter.widget-view+json": {
       "model_id": "9e938419e5f44f549931e93afa329c0e",
       "version_major": 2,
       "version_minor": 0
      },
      "text/plain": [
       "  0%|          | 0/61 [00:00<?, ?it/s]"
      ]
     },
     "metadata": {},
     "output_type": "display_data"
    },
    {
     "name": "stdout",
     "output_type": "stream",
     "text": [
      "{'eval_loss': 0.0366264209151268, 'eval_accuracy': 0.9937565036420395, 'eval_runtime': 0.4234, 'eval_samples_per_second': 2269.709, 'eval_steps_per_second': 144.071, 'epoch': 8.0}\n"
     ]
    },
    {
     "data": {
      "application/vnd.jupyter.widget-view+json": {
       "model_id": "f8632ea17156488f95648dacf649ff48",
       "version_major": 2,
       "version_minor": 0
      },
      "text/plain": [
       "  0%|          | 0/61 [00:00<?, ?it/s]"
      ]
     },
     "metadata": {},
     "output_type": "display_data"
    },
    {
     "name": "stdout",
     "output_type": "stream",
     "text": [
      "{'eval_loss': 0.03619358688592911, 'eval_accuracy': 0.9927159209157128, 'eval_runtime': 0.4249, 'eval_samples_per_second': 2261.92, 'eval_steps_per_second': 143.577, 'epoch': 9.0}\n"
     ]
    },
    {
     "data": {
      "application/vnd.jupyter.widget-view+json": {
       "model_id": "0b7c7a195f4f40958bcb7d4cb5a63170",
       "version_major": 2,
       "version_minor": 0
      },
      "text/plain": [
       "  0%|          | 0/61 [00:00<?, ?it/s]"
      ]
     },
     "metadata": {},
     "output_type": "display_data"
    },
    {
     "name": "stdout",
     "output_type": "stream",
     "text": [
      "{'eval_loss': 0.046734243631362915, 'eval_accuracy': 0.9885535900104059, 'eval_runtime': 0.426, 'eval_samples_per_second': 2255.674, 'eval_steps_per_second': 143.18, 'epoch': 10.0}\n",
      "{'loss': 0.0082, 'learning_rate': 1.7872340425531915e-05, 'epoch': 10.64}\n"
     ]
    },
    {
     "data": {
      "application/vnd.jupyter.widget-view+json": {
       "model_id": "60e027ce3b3c4db0bc72454a07d48b98",
       "version_major": 2,
       "version_minor": 0
      },
      "text/plain": [
       "  0%|          | 0/61 [00:00<?, ?it/s]"
      ]
     },
     "metadata": {},
     "output_type": "display_data"
    },
    {
     "name": "stdout",
     "output_type": "stream",
     "text": [
      "{'eval_loss': 0.10066242516040802, 'eval_accuracy': 0.9823100936524454, 'eval_runtime': 0.4259, 'eval_samples_per_second': 2256.492, 'eval_steps_per_second': 143.232, 'epoch': 11.0}\n"
     ]
    },
    {
     "data": {
      "application/vnd.jupyter.widget-view+json": {
       "model_id": "63a163e068a840f9912627377b6fb7a3",
       "version_major": 2,
       "version_minor": 0
      },
      "text/plain": [
       "  0%|          | 0/61 [00:00<?, ?it/s]"
      ]
     },
     "metadata": {},
     "output_type": "display_data"
    },
    {
     "name": "stdout",
     "output_type": "stream",
     "text": [
      "{'eval_loss': 0.09301583468914032, 'eval_accuracy': 0.9875130072840791, 'eval_runtime': 0.4276, 'eval_samples_per_second': 2247.585, 'eval_steps_per_second': 142.667, 'epoch': 12.0}\n"
     ]
    },
    {
     "data": {
      "application/vnd.jupyter.widget-view+json": {
       "model_id": "d5be1a90120444349a48fa541a38cda1",
       "version_major": 2,
       "version_minor": 0
      },
      "text/plain": [
       "  0%|          | 0/61 [00:00<?, ?it/s]"
      ]
     },
     "metadata": {},
     "output_type": "display_data"
    },
    {
     "name": "stdout",
     "output_type": "stream",
     "text": [
      "{'eval_loss': 0.05717036873102188, 'eval_accuracy': 0.9927159209157128, 'eval_runtime': 0.4251, 'eval_samples_per_second': 2260.781, 'eval_steps_per_second': 143.504, 'epoch': 13.0}\n"
     ]
    },
    {
     "data": {
      "application/vnd.jupyter.widget-view+json": {
       "model_id": "223ae37368f54369872b22e8b6a07758",
       "version_major": 2,
       "version_minor": 0
      },
      "text/plain": [
       "  0%|          | 0/61 [00:00<?, ?it/s]"
      ]
     },
     "metadata": {},
     "output_type": "display_data"
    },
    {
     "name": "stdout",
     "output_type": "stream",
     "text": [
      "{'eval_loss': 0.05695433169603348, 'eval_accuracy': 0.9927159209157128, 'eval_runtime': 0.4315, 'eval_samples_per_second': 2227.325, 'eval_steps_per_second': 141.381, 'epoch': 14.0}\n",
      "{'loss': 0.0006, 'learning_rate': 1.716312056737589e-05, 'epoch': 14.18}\n"
     ]
    },
    {
     "data": {
      "application/vnd.jupyter.widget-view+json": {
       "model_id": "4824888ca94e4d05ba083ab121e09f1d",
       "version_major": 2,
       "version_minor": 0
      },
      "text/plain": [
       "  0%|          | 0/61 [00:00<?, ?it/s]"
      ]
     },
     "metadata": {},
     "output_type": "display_data"
    },
    {
     "name": "stdout",
     "output_type": "stream",
     "text": [
      "{'eval_loss': 0.05635353922843933, 'eval_accuracy': 0.9927159209157128, 'eval_runtime': 0.4272, 'eval_samples_per_second': 2249.772, 'eval_steps_per_second': 142.806, 'epoch': 15.0}\n"
     ]
    },
    {
     "data": {
      "application/vnd.jupyter.widget-view+json": {
       "model_id": "dc5af8b922964bdd85e9fd8a75405c6e",
       "version_major": 2,
       "version_minor": 0
      },
      "text/plain": [
       "  0%|          | 0/61 [00:00<?, ?it/s]"
      ]
     },
     "metadata": {},
     "output_type": "display_data"
    },
    {
     "name": "stdout",
     "output_type": "stream",
     "text": [
      "{'eval_loss': 0.055560752749443054, 'eval_accuracy': 0.9927159209157128, 'eval_runtime': 0.4282, 'eval_samples_per_second': 2244.038, 'eval_steps_per_second': 142.442, 'epoch': 16.0}\n"
     ]
    },
    {
     "data": {
      "application/vnd.jupyter.widget-view+json": {
       "model_id": "d657c8449c0f4ae887c9e93ab6ebb3f1",
       "version_major": 2,
       "version_minor": 0
      },
      "text/plain": [
       "  0%|          | 0/61 [00:00<?, ?it/s]"
      ]
     },
     "metadata": {},
     "output_type": "display_data"
    },
    {
     "name": "stdout",
     "output_type": "stream",
     "text": [
      "{'eval_loss': 0.05581004545092583, 'eval_accuracy': 0.9927159209157128, 'eval_runtime': 0.4268, 'eval_samples_per_second': 2251.617, 'eval_steps_per_second': 142.923, 'epoch': 17.0}\n",
      "{'loss': 0.0001, 'learning_rate': 1.645390070921986e-05, 'epoch': 17.73}\n"
     ]
    },
    {
     "data": {
      "application/vnd.jupyter.widget-view+json": {
       "model_id": "9f6221287b5c46ffa77be8d014d31cd6",
       "version_major": 2,
       "version_minor": 0
      },
      "text/plain": [
       "  0%|          | 0/61 [00:00<?, ?it/s]"
      ]
     },
     "metadata": {},
     "output_type": "display_data"
    },
    {
     "name": "stdout",
     "output_type": "stream",
     "text": [
      "{'eval_loss': 0.055670443922281265, 'eval_accuracy': 0.9927159209157128, 'eval_runtime': 0.4238, 'eval_samples_per_second': 2267.542, 'eval_steps_per_second': 143.933, 'epoch': 18.0}\n"
     ]
    },
    {
     "data": {
      "application/vnd.jupyter.widget-view+json": {
       "model_id": "36f73fd8166b4eb5b9e823508f085c2c",
       "version_major": 2,
       "version_minor": 0
      },
      "text/plain": [
       "  0%|          | 0/61 [00:00<?, ?it/s]"
      ]
     },
     "metadata": {},
     "output_type": "display_data"
    },
    {
     "name": "stdout",
     "output_type": "stream",
     "text": [
      "{'eval_loss': 0.05637369304895401, 'eval_accuracy': 0.9927159209157128, 'eval_runtime': 0.4207, 'eval_samples_per_second': 2284.36, 'eval_steps_per_second': 145.001, 'epoch': 19.0}\n"
     ]
    },
    {
     "data": {
      "application/vnd.jupyter.widget-view+json": {
       "model_id": "f7f1c91a67f04dea80d6a7c3c64b2ea5",
       "version_major": 2,
       "version_minor": 0
      },
      "text/plain": [
       "  0%|          | 0/61 [00:00<?, ?it/s]"
      ]
     },
     "metadata": {},
     "output_type": "display_data"
    },
    {
     "name": "stdout",
     "output_type": "stream",
     "text": [
      "{'eval_loss': 0.05839966610074043, 'eval_accuracy': 0.9927159209157128, 'eval_runtime': 0.4224, 'eval_samples_per_second': 2274.947, 'eval_steps_per_second': 144.404, 'epoch': 20.0}\n"
     ]
    },
    {
     "data": {
      "application/vnd.jupyter.widget-view+json": {
       "model_id": "374e7886f03741c3be8a825299659957",
       "version_major": 2,
       "version_minor": 0
      },
      "text/plain": [
       "  0%|          | 0/61 [00:00<?, ?it/s]"
      ]
     },
     "metadata": {},
     "output_type": "display_data"
    },
    {
     "name": "stdout",
     "output_type": "stream",
     "text": [
      "{'eval_loss': 0.06224125996232033, 'eval_accuracy': 0.9927159209157128, 'eval_runtime': 0.425, 'eval_samples_per_second': 2261.125, 'eval_steps_per_second': 143.526, 'epoch': 21.0}\n",
      "{'loss': 0.0001, 'learning_rate': 1.5744680851063832e-05, 'epoch': 21.28}\n"
     ]
    },
    {
     "data": {
      "application/vnd.jupyter.widget-view+json": {
       "model_id": "1cf9e73a629e4c7a8b8fbf1e4c02db7d",
       "version_major": 2,
       "version_minor": 0
      },
      "text/plain": [
       "  0%|          | 0/61 [00:00<?, ?it/s]"
      ]
     },
     "metadata": {},
     "output_type": "display_data"
    },
    {
     "name": "stdout",
     "output_type": "stream",
     "text": [
      "{'eval_loss': 0.06163301318883896, 'eval_accuracy': 0.9927159209157128, 'eval_runtime': 0.4242, 'eval_samples_per_second': 2265.322, 'eval_steps_per_second': 143.793, 'epoch': 22.0}\n"
     ]
    },
    {
     "data": {
      "application/vnd.jupyter.widget-view+json": {
       "model_id": "c2300cb05441404ab95906d726d56541",
       "version_major": 2,
       "version_minor": 0
      },
      "text/plain": [
       "  0%|          | 0/61 [00:00<?, ?it/s]"
      ]
     },
     "metadata": {},
     "output_type": "display_data"
    },
    {
     "name": "stdout",
     "output_type": "stream",
     "text": [
      "{'eval_loss': 0.061617039144039154, 'eval_accuracy': 0.9927159209157128, 'eval_runtime': 0.426, 'eval_samples_per_second': 2255.643, 'eval_steps_per_second': 143.178, 'epoch': 23.0}\n"
     ]
    },
    {
     "data": {
      "application/vnd.jupyter.widget-view+json": {
       "model_id": "97da4bb6163846bb93cef184b687bf98",
       "version_major": 2,
       "version_minor": 0
      },
      "text/plain": [
       "  0%|          | 0/61 [00:00<?, ?it/s]"
      ]
     },
     "metadata": {},
     "output_type": "display_data"
    },
    {
     "name": "stdout",
     "output_type": "stream",
     "text": [
      "{'eval_loss': 0.0614357627928257, 'eval_accuracy': 0.991675338189386, 'eval_runtime': 0.4222, 'eval_samples_per_second': 2275.977, 'eval_steps_per_second': 144.469, 'epoch': 24.0}\n",
      "{'loss': 0.0001, 'learning_rate': 1.5035460992907802e-05, 'epoch': 24.82}\n"
     ]
    },
    {
     "data": {
      "application/vnd.jupyter.widget-view+json": {
       "model_id": "b9a7d54845734666abce02732d1af625",
       "version_major": 2,
       "version_minor": 0
      },
      "text/plain": [
       "  0%|          | 0/61 [00:00<?, ?it/s]"
      ]
     },
     "metadata": {},
     "output_type": "display_data"
    },
    {
     "name": "stdout",
     "output_type": "stream",
     "text": [
      "{'eval_loss': 0.04651102423667908, 'eval_accuracy': 0.9937565036420395, 'eval_runtime': 0.4193, 'eval_samples_per_second': 2292.006, 'eval_steps_per_second': 145.486, 'epoch': 25.0}\n"
     ]
    },
    {
     "data": {
      "application/vnd.jupyter.widget-view+json": {
       "model_id": "6032a747254b46db9d8c7f4258e34e10",
       "version_major": 2,
       "version_minor": 0
      },
      "text/plain": [
       "  0%|          | 0/61 [00:00<?, ?it/s]"
      ]
     },
     "metadata": {},
     "output_type": "display_data"
    },
    {
     "name": "stdout",
     "output_type": "stream",
     "text": [
      "{'eval_loss': 0.04830339178442955, 'eval_accuracy': 0.9937565036420395, 'eval_runtime': 0.426, 'eval_samples_per_second': 2255.873, 'eval_steps_per_second': 143.193, 'epoch': 26.0}\n"
     ]
    },
    {
     "data": {
      "application/vnd.jupyter.widget-view+json": {
       "model_id": "b00fb52024a04a39840e0f1facd310c6",
       "version_major": 2,
       "version_minor": 0
      },
      "text/plain": [
       "  0%|          | 0/61 [00:00<?, ?it/s]"
      ]
     },
     "metadata": {},
     "output_type": "display_data"
    },
    {
     "name": "stdout",
     "output_type": "stream",
     "text": [
      "{'eval_loss': 0.049794379621744156, 'eval_accuracy': 0.9937565036420395, 'eval_runtime': 0.4239, 'eval_samples_per_second': 2267.148, 'eval_steps_per_second': 143.908, 'epoch': 27.0}\n"
     ]
    },
    {
     "data": {
      "application/vnd.jupyter.widget-view+json": {
       "model_id": "cc86a2119b14412aa0d08245e299bb00",
       "version_major": 2,
       "version_minor": 0
      },
      "text/plain": [
       "  0%|          | 0/61 [00:00<?, ?it/s]"
      ]
     },
     "metadata": {},
     "output_type": "display_data"
    },
    {
     "name": "stdout",
     "output_type": "stream",
     "text": [
      "{'eval_loss': 0.05513402819633484, 'eval_accuracy': 0.9927159209157128, 'eval_runtime': 0.4248, 'eval_samples_per_second': 2262.431, 'eval_steps_per_second': 143.609, 'epoch': 28.0}\n",
      "{'loss': 0.0, 'learning_rate': 1.4326241134751775e-05, 'epoch': 28.37}\n"
     ]
    },
    {
     "data": {
      "application/vnd.jupyter.widget-view+json": {
       "model_id": "f6395c76d551474880696d7c116f400e",
       "version_major": 2,
       "version_minor": 0
      },
      "text/plain": [
       "  0%|          | 0/61 [00:00<?, ?it/s]"
      ]
     },
     "metadata": {},
     "output_type": "display_data"
    },
    {
     "name": "stdout",
     "output_type": "stream",
     "text": [
      "{'eval_loss': 0.05592320114374161, 'eval_accuracy': 0.9927159209157128, 'eval_runtime': 0.4282, 'eval_samples_per_second': 2244.318, 'eval_steps_per_second': 142.459, 'epoch': 29.0}\n"
     ]
    },
    {
     "data": {
      "application/vnd.jupyter.widget-view+json": {
       "model_id": "80f2259db3024cab9d935b70d24d7b63",
       "version_major": 2,
       "version_minor": 0
      },
      "text/plain": [
       "  0%|          | 0/61 [00:00<?, ?it/s]"
      ]
     },
     "metadata": {},
     "output_type": "display_data"
    },
    {
     "name": "stdout",
     "output_type": "stream",
     "text": [
      "{'eval_loss': 0.056223031133413315, 'eval_accuracy': 0.9927159209157128, 'eval_runtime': 0.4264, 'eval_samples_per_second': 2253.986, 'eval_steps_per_second': 143.073, 'epoch': 30.0}\n"
     ]
    },
    {
     "data": {
      "application/vnd.jupyter.widget-view+json": {
       "model_id": "b6907cdad0444de9a7c86212d7eccaab",
       "version_major": 2,
       "version_minor": 0
      },
      "text/plain": [
       "  0%|          | 0/61 [00:00<?, ?it/s]"
      ]
     },
     "metadata": {},
     "output_type": "display_data"
    },
    {
     "name": "stdout",
     "output_type": "stream",
     "text": [
      "{'eval_loss': 0.05687854439020157, 'eval_accuracy': 0.9927159209157128, 'eval_runtime': 0.4242, 'eval_samples_per_second': 2265.536, 'eval_steps_per_second': 143.806, 'epoch': 31.0}\n",
      "{'loss': 0.0, 'learning_rate': 1.3617021276595745e-05, 'epoch': 31.91}\n"
     ]
    },
    {
     "data": {
      "application/vnd.jupyter.widget-view+json": {
       "model_id": "b04b3abe027f497eac8937b507e8ee62",
       "version_major": 2,
       "version_minor": 0
      },
      "text/plain": [
       "  0%|          | 0/61 [00:00<?, ?it/s]"
      ]
     },
     "metadata": {},
     "output_type": "display_data"
    },
    {
     "name": "stdout",
     "output_type": "stream",
     "text": [
      "{'eval_loss': 0.05719401687383652, 'eval_accuracy': 0.9927159209157128, 'eval_runtime': 0.4301, 'eval_samples_per_second': 2234.273, 'eval_steps_per_second': 141.822, 'epoch': 32.0}\n"
     ]
    },
    {
     "data": {
      "application/vnd.jupyter.widget-view+json": {
       "model_id": "6698ea57a3a644309743c30ab095f836",
       "version_major": 2,
       "version_minor": 0
      },
      "text/plain": [
       "  0%|          | 0/61 [00:00<?, ?it/s]"
      ]
     },
     "metadata": {},
     "output_type": "display_data"
    },
    {
     "name": "stdout",
     "output_type": "stream",
     "text": [
      "{'eval_loss': 0.057982753962278366, 'eval_accuracy': 0.9927159209157128, 'eval_runtime': 0.4255, 'eval_samples_per_second': 2258.553, 'eval_steps_per_second': 143.363, 'epoch': 33.0}\n"
     ]
    },
    {
     "data": {
      "application/vnd.jupyter.widget-view+json": {
       "model_id": "248e45b38bda4e5781168e94d620b821",
       "version_major": 2,
       "version_minor": 0
      },
      "text/plain": [
       "  0%|          | 0/61 [00:00<?, ?it/s]"
      ]
     },
     "metadata": {},
     "output_type": "display_data"
    },
    {
     "name": "stdout",
     "output_type": "stream",
     "text": [
      "{'eval_loss': 0.05860501155257225, 'eval_accuracy': 0.9927159209157128, 'eval_runtime': 0.4329, 'eval_samples_per_second': 2219.971, 'eval_steps_per_second': 140.914, 'epoch': 34.0}\n"
     ]
    },
    {
     "data": {
      "application/vnd.jupyter.widget-view+json": {
       "model_id": "3f3eae805d1643de89d7a786a4adfb1e",
       "version_major": 2,
       "version_minor": 0
      },
      "text/plain": [
       "  0%|          | 0/61 [00:00<?, ?it/s]"
      ]
     },
     "metadata": {},
     "output_type": "display_data"
    },
    {
     "name": "stdout",
     "output_type": "stream",
     "text": [
      "{'eval_loss': 0.05901193246245384, 'eval_accuracy': 0.9927159209157128, 'eval_runtime': 0.429, 'eval_samples_per_second': 2240.297, 'eval_steps_per_second': 142.204, 'epoch': 35.0}\n",
      "{'loss': 0.0, 'learning_rate': 1.2907801418439719e-05, 'epoch': 35.46}\n"
     ]
    },
    {
     "data": {
      "application/vnd.jupyter.widget-view+json": {
       "model_id": "3b6ca5833049462aaf0281066d9baaab",
       "version_major": 2,
       "version_minor": 0
      },
      "text/plain": [
       "  0%|          | 0/61 [00:00<?, ?it/s]"
      ]
     },
     "metadata": {},
     "output_type": "display_data"
    },
    {
     "name": "stdout",
     "output_type": "stream",
     "text": [
      "{'eval_loss': 0.05953745171427727, 'eval_accuracy': 0.9927159209157128, 'eval_runtime': 0.4332, 'eval_samples_per_second': 2218.512, 'eval_steps_per_second': 140.821, 'epoch': 36.0}\n"
     ]
    },
    {
     "data": {
      "application/vnd.jupyter.widget-view+json": {
       "model_id": "8cb5777e0eba4d9f81b815dd73c3f006",
       "version_major": 2,
       "version_minor": 0
      },
      "text/plain": [
       "  0%|          | 0/61 [00:00<?, ?it/s]"
      ]
     },
     "metadata": {},
     "output_type": "display_data"
    },
    {
     "name": "stdout",
     "output_type": "stream",
     "text": [
      "{'eval_loss': 0.05993622541427612, 'eval_accuracy': 0.9927159209157128, 'eval_runtime': 0.4323, 'eval_samples_per_second': 2222.813, 'eval_steps_per_second': 141.094, 'epoch': 37.0}\n"
     ]
    },
    {
     "data": {
      "application/vnd.jupyter.widget-view+json": {
       "model_id": "cfa811602788438784a4a031b76b953e",
       "version_major": 2,
       "version_minor": 0
      },
      "text/plain": [
       "  0%|          | 0/61 [00:00<?, ?it/s]"
      ]
     },
     "metadata": {},
     "output_type": "display_data"
    },
    {
     "name": "stdout",
     "output_type": "stream",
     "text": [
      "{'eval_loss': 0.06048295274376869, 'eval_accuracy': 0.9927159209157128, 'eval_runtime': 0.428, 'eval_samples_per_second': 2245.525, 'eval_steps_per_second': 142.536, 'epoch': 38.0}\n"
     ]
    },
    {
     "data": {
      "application/vnd.jupyter.widget-view+json": {
       "model_id": "3e64e7f5676649db8f9de8b4b6b30175",
       "version_major": 2,
       "version_minor": 0
      },
      "text/plain": [
       "  0%|          | 0/61 [00:00<?, ?it/s]"
      ]
     },
     "metadata": {},
     "output_type": "display_data"
    },
    {
     "name": "stdout",
     "output_type": "stream",
     "text": [
      "{'eval_loss': 0.06100606918334961, 'eval_accuracy': 0.9927159209157128, 'eval_runtime': 0.4299, 'eval_samples_per_second': 2235.33, 'eval_steps_per_second': 141.889, 'epoch': 39.0}\n",
      "{'loss': 0.0, 'learning_rate': 1.2198581560283689e-05, 'epoch': 39.01}\n"
     ]
    },
    {
     "data": {
      "application/vnd.jupyter.widget-view+json": {
       "model_id": "c767076061c0470e91ad744b8fc5f311",
       "version_major": 2,
       "version_minor": 0
      },
      "text/plain": [
       "  0%|          | 0/61 [00:00<?, ?it/s]"
      ]
     },
     "metadata": {},
     "output_type": "display_data"
    },
    {
     "name": "stdout",
     "output_type": "stream",
     "text": [
      "{'eval_loss': 0.061459265649318695, 'eval_accuracy': 0.9927159209157128, 'eval_runtime': 0.4262, 'eval_samples_per_second': 2254.74, 'eval_steps_per_second': 143.121, 'epoch': 40.0}\n"
     ]
    },
    {
     "data": {
      "application/vnd.jupyter.widget-view+json": {
       "model_id": "90f9f6ceba8b4e4caca2b849d170012f",
       "version_major": 2,
       "version_minor": 0
      },
      "text/plain": [
       "  0%|          | 0/61 [00:00<?, ?it/s]"
      ]
     },
     "metadata": {},
     "output_type": "display_data"
    },
    {
     "name": "stdout",
     "output_type": "stream",
     "text": [
      "{'eval_loss': 0.06156303733587265, 'eval_accuracy': 0.9927159209157128, 'eval_runtime': 0.426, 'eval_samples_per_second': 2255.615, 'eval_steps_per_second': 143.176, 'epoch': 41.0}\n"
     ]
    },
    {
     "data": {
      "application/vnd.jupyter.widget-view+json": {
       "model_id": "e0411613f8ab4380affdeff92ba9944c",
       "version_major": 2,
       "version_minor": 0
      },
      "text/plain": [
       "  0%|          | 0/61 [00:00<?, ?it/s]"
      ]
     },
     "metadata": {},
     "output_type": "display_data"
    },
    {
     "name": "stdout",
     "output_type": "stream",
     "text": [
      "{'eval_loss': 0.06190268322825432, 'eval_accuracy': 0.9927159209157128, 'eval_runtime': 0.4289, 'eval_samples_per_second': 2240.526, 'eval_steps_per_second': 142.219, 'epoch': 42.0}\n",
      "{'loss': 0.0, 'learning_rate': 1.1489361702127662e-05, 'epoch': 42.55}\n"
     ]
    },
    {
     "data": {
      "application/vnd.jupyter.widget-view+json": {
       "model_id": "c8f8149dc6ca496c847c829ab49a91d7",
       "version_major": 2,
       "version_minor": 0
      },
      "text/plain": [
       "  0%|          | 0/61 [00:00<?, ?it/s]"
      ]
     },
     "metadata": {},
     "output_type": "display_data"
    },
    {
     "name": "stdout",
     "output_type": "stream",
     "text": [
      "{'eval_loss': 0.06284641474485397, 'eval_accuracy': 0.9927159209157128, 'eval_runtime': 0.4339, 'eval_samples_per_second': 2214.959, 'eval_steps_per_second': 140.596, 'epoch': 43.0}\n"
     ]
    },
    {
     "data": {
      "application/vnd.jupyter.widget-view+json": {
       "model_id": "30d8295110624fd0a8e63424b6523a88",
       "version_major": 2,
       "version_minor": 0
      },
      "text/plain": [
       "  0%|          | 0/61 [00:00<?, ?it/s]"
      ]
     },
     "metadata": {},
     "output_type": "display_data"
    },
    {
     "name": "stdout",
     "output_type": "stream",
     "text": [
      "{'eval_loss': 0.0632757619023323, 'eval_accuracy': 0.9927159209157128, 'eval_runtime': 0.4303, 'eval_samples_per_second': 2233.491, 'eval_steps_per_second': 141.772, 'epoch': 44.0}\n"
     ]
    },
    {
     "data": {
      "application/vnd.jupyter.widget-view+json": {
       "model_id": "6ff64088262d40b2a51e7c1b678962b5",
       "version_major": 2,
       "version_minor": 0
      },
      "text/plain": [
       "  0%|          | 0/61 [00:00<?, ?it/s]"
      ]
     },
     "metadata": {},
     "output_type": "display_data"
    },
    {
     "name": "stdout",
     "output_type": "stream",
     "text": [
      "{'eval_loss': 0.06364523619413376, 'eval_accuracy': 0.9927159209157128, 'eval_runtime': 0.4315, 'eval_samples_per_second': 2227.025, 'eval_steps_per_second': 141.362, 'epoch': 45.0}\n"
     ]
    },
    {
     "data": {
      "application/vnd.jupyter.widget-view+json": {
       "model_id": "4716187ff0124e25a9f1d77a7cc0509e",
       "version_major": 2,
       "version_minor": 0
      },
      "text/plain": [
       "  0%|          | 0/61 [00:00<?, ?it/s]"
      ]
     },
     "metadata": {},
     "output_type": "display_data"
    },
    {
     "name": "stdout",
     "output_type": "stream",
     "text": [
      "{'eval_loss': 0.06378308683633804, 'eval_accuracy': 0.9927159209157128, 'eval_runtime': 0.4311, 'eval_samples_per_second': 2228.948, 'eval_steps_per_second': 141.484, 'epoch': 46.0}\n",
      "{'loss': 0.0, 'learning_rate': 1.0780141843971632e-05, 'epoch': 46.1}\n"
     ]
    },
    {
     "data": {
      "application/vnd.jupyter.widget-view+json": {
       "model_id": "0c0d519b3862402497cf0b819161181d",
       "version_major": 2,
       "version_minor": 0
      },
      "text/plain": [
       "  0%|          | 0/61 [00:00<?, ?it/s]"
      ]
     },
     "metadata": {},
     "output_type": "display_data"
    },
    {
     "name": "stdout",
     "output_type": "stream",
     "text": [
      "{'eval_loss': 0.06395271420478821, 'eval_accuracy': 0.9927159209157128, 'eval_runtime': 0.4234, 'eval_samples_per_second': 2269.64, 'eval_steps_per_second': 144.067, 'epoch': 47.0}\n"
     ]
    },
    {
     "data": {
      "application/vnd.jupyter.widget-view+json": {
       "model_id": "e1ef11641c234940bfd163cc4a54a780",
       "version_major": 2,
       "version_minor": 0
      },
      "text/plain": [
       "  0%|          | 0/61 [00:00<?, ?it/s]"
      ]
     },
     "metadata": {},
     "output_type": "display_data"
    },
    {
     "name": "stdout",
     "output_type": "stream",
     "text": [
      "{'eval_loss': 0.0643044263124466, 'eval_accuracy': 0.9927159209157128, 'eval_runtime': 0.4199, 'eval_samples_per_second': 2288.64, 'eval_steps_per_second': 145.273, 'epoch': 48.0}\n"
     ]
    },
    {
     "data": {
      "application/vnd.jupyter.widget-view+json": {
       "model_id": "00105879976f4073b00afcaada715705",
       "version_major": 2,
       "version_minor": 0
      },
      "text/plain": [
       "  0%|          | 0/61 [00:00<?, ?it/s]"
      ]
     },
     "metadata": {},
     "output_type": "display_data"
    },
    {
     "name": "stdout",
     "output_type": "stream",
     "text": [
      "{'eval_loss': 0.06493913382291794, 'eval_accuracy': 0.9927159209157128, 'eval_runtime': 0.4293, 'eval_samples_per_second': 2238.464, 'eval_steps_per_second': 142.088, 'epoch': 49.0}\n",
      "{'loss': 0.0, 'learning_rate': 1.0070921985815602e-05, 'epoch': 49.65}\n"
     ]
    },
    {
     "data": {
      "application/vnd.jupyter.widget-view+json": {
       "model_id": "b0d458e2e568481381eeb05a8e261a69",
       "version_major": 2,
       "version_minor": 0
      },
      "text/plain": [
       "  0%|          | 0/61 [00:00<?, ?it/s]"
      ]
     },
     "metadata": {},
     "output_type": "display_data"
    },
    {
     "name": "stdout",
     "output_type": "stream",
     "text": [
      "{'eval_loss': 0.06612495332956314, 'eval_accuracy': 0.9927159209157128, 'eval_runtime': 0.428, 'eval_samples_per_second': 2245.197, 'eval_steps_per_second': 142.515, 'epoch': 50.0}\n"
     ]
    },
    {
     "data": {
      "application/vnd.jupyter.widget-view+json": {
       "model_id": "6199661b237c4a9e829126beee5d189d",
       "version_major": 2,
       "version_minor": 0
      },
      "text/plain": [
       "  0%|          | 0/61 [00:00<?, ?it/s]"
      ]
     },
     "metadata": {},
     "output_type": "display_data"
    },
    {
     "name": "stdout",
     "output_type": "stream",
     "text": [
      "{'eval_loss': 0.06622598320245743, 'eval_accuracy': 0.9927159209157128, 'eval_runtime': 0.4289, 'eval_samples_per_second': 2240.765, 'eval_steps_per_second': 142.234, 'epoch': 51.0}\n"
     ]
    },
    {
     "data": {
      "application/vnd.jupyter.widget-view+json": {
       "model_id": "0a70bfb4c96144c6b6b1392cba07c522",
       "version_major": 2,
       "version_minor": 0
      },
      "text/plain": [
       "  0%|          | 0/61 [00:00<?, ?it/s]"
      ]
     },
     "metadata": {},
     "output_type": "display_data"
    },
    {
     "name": "stdout",
     "output_type": "stream",
     "text": [
      "{'eval_loss': 0.06636352837085724, 'eval_accuracy': 0.9927159209157128, 'eval_runtime': 0.4276, 'eval_samples_per_second': 2247.529, 'eval_steps_per_second': 142.663, 'epoch': 52.0}\n"
     ]
    },
    {
     "data": {
      "application/vnd.jupyter.widget-view+json": {
       "model_id": "cc69543745c64594a7615263540e7c72",
       "version_major": 2,
       "version_minor": 0
      },
      "text/plain": [
       "  0%|          | 0/61 [00:00<?, ?it/s]"
      ]
     },
     "metadata": {},
     "output_type": "display_data"
    },
    {
     "name": "stdout",
     "output_type": "stream",
     "text": [
      "{'eval_loss': 0.06659194082021713, 'eval_accuracy': 0.9927159209157128, 'eval_runtime': 0.4267, 'eval_samples_per_second': 2252.153, 'eval_steps_per_second': 142.957, 'epoch': 53.0}\n",
      "{'loss': 0.0, 'learning_rate': 9.361702127659576e-06, 'epoch': 53.19}\n"
     ]
    },
    {
     "data": {
      "application/vnd.jupyter.widget-view+json": {
       "model_id": "14b98349718145548d815ba012d62485",
       "version_major": 2,
       "version_minor": 0
      },
      "text/plain": [
       "  0%|          | 0/61 [00:00<?, ?it/s]"
      ]
     },
     "metadata": {},
     "output_type": "display_data"
    },
    {
     "name": "stdout",
     "output_type": "stream",
     "text": [
      "{'eval_loss': 0.06659643352031708, 'eval_accuracy': 0.9927159209157128, 'eval_runtime': 0.4294, 'eval_samples_per_second': 2238.012, 'eval_steps_per_second': 142.059, 'epoch': 54.0}\n"
     ]
    },
    {
     "data": {
      "application/vnd.jupyter.widget-view+json": {
       "model_id": "2d5d924e1355462fa92b528eb841f6be",
       "version_major": 2,
       "version_minor": 0
      },
      "text/plain": [
       "  0%|          | 0/61 [00:00<?, ?it/s]"
      ]
     },
     "metadata": {},
     "output_type": "display_data"
    },
    {
     "name": "stdout",
     "output_type": "stream",
     "text": [
      "{'eval_loss': 0.06695527583360672, 'eval_accuracy': 0.9927159209157128, 'eval_runtime': 0.4301, 'eval_samples_per_second': 2234.465, 'eval_steps_per_second': 141.834, 'epoch': 55.0}\n"
     ]
    },
    {
     "data": {
      "application/vnd.jupyter.widget-view+json": {
       "model_id": "c9f7fabcdba749d8b3836fc395e02f26",
       "version_major": 2,
       "version_minor": 0
      },
      "text/plain": [
       "  0%|          | 0/61 [00:00<?, ?it/s]"
      ]
     },
     "metadata": {},
     "output_type": "display_data"
    },
    {
     "name": "stdout",
     "output_type": "stream",
     "text": [
      "{'eval_loss': 0.0673537626862526, 'eval_accuracy': 0.9927159209157128, 'eval_runtime': 0.4324, 'eval_samples_per_second': 2222.424, 'eval_steps_per_second': 141.07, 'epoch': 56.0}\n",
      "{'loss': 0.0, 'learning_rate': 8.652482269503547e-06, 'epoch': 56.74}\n"
     ]
    },
    {
     "data": {
      "application/vnd.jupyter.widget-view+json": {
       "model_id": "7cada5a4960948d89d712dbcd4c3daf4",
       "version_major": 2,
       "version_minor": 0
      },
      "text/plain": [
       "  0%|          | 0/61 [00:00<?, ?it/s]"
      ]
     },
     "metadata": {},
     "output_type": "display_data"
    },
    {
     "name": "stdout",
     "output_type": "stream",
     "text": [
      "{'eval_loss': 0.06677623093128204, 'eval_accuracy': 0.9927159209157128, 'eval_runtime': 0.424, 'eval_samples_per_second': 2266.455, 'eval_steps_per_second': 143.864, 'epoch': 57.0}\n"
     ]
    },
    {
     "data": {
      "application/vnd.jupyter.widget-view+json": {
       "model_id": "7977ec3edbe042cd87d4321906caa294",
       "version_major": 2,
       "version_minor": 0
      },
      "text/plain": [
       "  0%|          | 0/61 [00:00<?, ?it/s]"
      ]
     },
     "metadata": {},
     "output_type": "display_data"
    },
    {
     "name": "stdout",
     "output_type": "stream",
     "text": [
      "{'eval_loss': 0.06656785309314728, 'eval_accuracy': 0.9927159209157128, 'eval_runtime': 0.4199, 'eval_samples_per_second': 2288.906, 'eval_steps_per_second': 145.29, 'epoch': 58.0}\n"
     ]
    },
    {
     "data": {
      "application/vnd.jupyter.widget-view+json": {
       "model_id": "e9333e89e2434dd0bfd17508df5db068",
       "version_major": 2,
       "version_minor": 0
      },
      "text/plain": [
       "  0%|          | 0/61 [00:00<?, ?it/s]"
      ]
     },
     "metadata": {},
     "output_type": "display_data"
    },
    {
     "name": "stdout",
     "output_type": "stream",
     "text": [
      "{'eval_loss': 0.0668499693274498, 'eval_accuracy': 0.9927159209157128, 'eval_runtime': 0.4309, 'eval_samples_per_second': 2230.328, 'eval_steps_per_second': 141.571, 'epoch': 59.0}\n"
     ]
    },
    {
     "data": {
      "application/vnd.jupyter.widget-view+json": {
       "model_id": "5f9551def1a347c7a82e0bbfc1513ddf",
       "version_major": 2,
       "version_minor": 0
      },
      "text/plain": [
       "  0%|          | 0/61 [00:00<?, ?it/s]"
      ]
     },
     "metadata": {},
     "output_type": "display_data"
    },
    {
     "name": "stdout",
     "output_type": "stream",
     "text": [
      "{'eval_loss': 0.06699735671281815, 'eval_accuracy': 0.9927159209157128, 'eval_runtime': 0.4329, 'eval_samples_per_second': 2219.756, 'eval_steps_per_second': 140.9, 'epoch': 60.0}\n",
      "{'loss': 0.0, 'learning_rate': 7.943262411347519e-06, 'epoch': 60.28}\n"
     ]
    },
    {
     "data": {
      "application/vnd.jupyter.widget-view+json": {
       "model_id": "6927ebccff2e4eefb51e1104ab847e99",
       "version_major": 2,
       "version_minor": 0
      },
      "text/plain": [
       "  0%|          | 0/61 [00:00<?, ?it/s]"
      ]
     },
     "metadata": {},
     "output_type": "display_data"
    },
    {
     "name": "stdout",
     "output_type": "stream",
     "text": [
      "{'eval_loss': 0.06740286946296692, 'eval_accuracy': 0.9927159209157128, 'eval_runtime': 0.4288, 'eval_samples_per_second': 2241.022, 'eval_steps_per_second': 142.25, 'epoch': 61.0}\n"
     ]
    },
    {
     "data": {
      "application/vnd.jupyter.widget-view+json": {
       "model_id": "f48abf6c2daa49b687d099e8a7f168f9",
       "version_major": 2,
       "version_minor": 0
      },
      "text/plain": [
       "  0%|          | 0/61 [00:00<?, ?it/s]"
      ]
     },
     "metadata": {},
     "output_type": "display_data"
    },
    {
     "name": "stdout",
     "output_type": "stream",
     "text": [
      "{'eval_loss': 0.0677609071135521, 'eval_accuracy': 0.9927159209157128, 'eval_runtime': 0.433, 'eval_samples_per_second': 2219.353, 'eval_steps_per_second': 140.875, 'epoch': 62.0}\n"
     ]
    },
    {
     "data": {
      "application/vnd.jupyter.widget-view+json": {
       "model_id": "c5ba83734e644883a892e9bff506cd6b",
       "version_major": 2,
       "version_minor": 0
      },
      "text/plain": [
       "  0%|          | 0/61 [00:00<?, ?it/s]"
      ]
     },
     "metadata": {},
     "output_type": "display_data"
    },
    {
     "name": "stdout",
     "output_type": "stream",
     "text": [
      "{'eval_loss': 0.06792508065700531, 'eval_accuracy': 0.9927159209157128, 'eval_runtime': 0.4329, 'eval_samples_per_second': 2219.888, 'eval_steps_per_second': 140.909, 'epoch': 63.0}\n",
      "{'loss': 0.0, 'learning_rate': 7.234042553191491e-06, 'epoch': 63.83}\n"
     ]
    },
    {
     "data": {
      "application/vnd.jupyter.widget-view+json": {
       "model_id": "50b0b120d8a043e2a966a684a9ba7640",
       "version_major": 2,
       "version_minor": 0
      },
      "text/plain": [
       "  0%|          | 0/61 [00:00<?, ?it/s]"
      ]
     },
     "metadata": {},
     "output_type": "display_data"
    },
    {
     "name": "stdout",
     "output_type": "stream",
     "text": [
      "{'eval_loss': 0.06813021749258041, 'eval_accuracy': 0.9927159209157128, 'eval_runtime': 0.4227, 'eval_samples_per_second': 2273.584, 'eval_steps_per_second': 144.317, 'epoch': 64.0}\n"
     ]
    },
    {
     "data": {
      "application/vnd.jupyter.widget-view+json": {
       "model_id": "037105a3861d4c67992359bd2fdb1b68",
       "version_major": 2,
       "version_minor": 0
      },
      "text/plain": [
       "  0%|          | 0/61 [00:00<?, ?it/s]"
      ]
     },
     "metadata": {},
     "output_type": "display_data"
    },
    {
     "name": "stdout",
     "output_type": "stream",
     "text": [
      "{'eval_loss': 0.0685151070356369, 'eval_accuracy': 0.9927159209157128, 'eval_runtime': 0.4322, 'eval_samples_per_second': 2223.675, 'eval_steps_per_second': 141.149, 'epoch': 65.0}\n"
     ]
    },
    {
     "data": {
      "application/vnd.jupyter.widget-view+json": {
       "model_id": "631f38a5402347c798a47f6c5da231a9",
       "version_major": 2,
       "version_minor": 0
      },
      "text/plain": [
       "  0%|          | 0/61 [00:00<?, ?it/s]"
      ]
     },
     "metadata": {},
     "output_type": "display_data"
    },
    {
     "name": "stdout",
     "output_type": "stream",
     "text": [
      "{'eval_loss': 0.06862151622772217, 'eval_accuracy': 0.9927159209157128, 'eval_runtime': 0.4351, 'eval_samples_per_second': 2208.515, 'eval_steps_per_second': 140.187, 'epoch': 66.0}\n"
     ]
    },
    {
     "data": {
      "application/vnd.jupyter.widget-view+json": {
       "model_id": "7e82235ee95148ab8f8b45c4c8ac5759",
       "version_major": 2,
       "version_minor": 0
      },
      "text/plain": [
       "  0%|          | 0/61 [00:00<?, ?it/s]"
      ]
     },
     "metadata": {},
     "output_type": "display_data"
    },
    {
     "name": "stdout",
     "output_type": "stream",
     "text": [
      "{'eval_loss': 0.06890963017940521, 'eval_accuracy': 0.9927159209157128, 'eval_runtime': 0.4309, 'eval_samples_per_second': 2230.284, 'eval_steps_per_second': 141.569, 'epoch': 67.0}\n",
      "{'loss': 0.0, 'learning_rate': 6.524822695035462e-06, 'epoch': 67.38}\n"
     ]
    },
    {
     "data": {
      "application/vnd.jupyter.widget-view+json": {
       "model_id": "ccd9aaedd1d54781b547e284156206e7",
       "version_major": 2,
       "version_minor": 0
      },
      "text/plain": [
       "  0%|          | 0/61 [00:00<?, ?it/s]"
      ]
     },
     "metadata": {},
     "output_type": "display_data"
    },
    {
     "name": "stdout",
     "output_type": "stream",
     "text": [
      "{'eval_loss': 0.06918834894895554, 'eval_accuracy': 0.9927159209157128, 'eval_runtime': 0.435, 'eval_samples_per_second': 2209.234, 'eval_steps_per_second': 140.232, 'epoch': 68.0}\n"
     ]
    },
    {
     "data": {
      "application/vnd.jupyter.widget-view+json": {
       "model_id": "9af1878deb60499d9b5c0e23225f74bd",
       "version_major": 2,
       "version_minor": 0
      },
      "text/plain": [
       "  0%|          | 0/61 [00:00<?, ?it/s]"
      ]
     },
     "metadata": {},
     "output_type": "display_data"
    },
    {
     "name": "stdout",
     "output_type": "stream",
     "text": [
      "{'eval_loss': 0.06953473389148712, 'eval_accuracy': 0.9927159209157128, 'eval_runtime': 0.4224, 'eval_samples_per_second': 2275.258, 'eval_steps_per_second': 144.423, 'epoch': 69.0}\n"
     ]
    },
    {
     "data": {
      "application/vnd.jupyter.widget-view+json": {
       "model_id": "106ca4e895e04ce88e5d3897656ddeda",
       "version_major": 2,
       "version_minor": 0
      },
      "text/plain": [
       "  0%|          | 0/61 [00:00<?, ?it/s]"
      ]
     },
     "metadata": {},
     "output_type": "display_data"
    },
    {
     "name": "stdout",
     "output_type": "stream",
     "text": [
      "{'eval_loss': 0.06979925185441971, 'eval_accuracy': 0.9927159209157128, 'eval_runtime': 0.4268, 'eval_samples_per_second': 2251.738, 'eval_steps_per_second': 142.93, 'epoch': 70.0}\n",
      "{'loss': 0.0, 'learning_rate': 5.815602836879432e-06, 'epoch': 70.92}\n"
     ]
    },
    {
     "data": {
      "application/vnd.jupyter.widget-view+json": {
       "model_id": "189cb87b7c924f7c9855067831557b4d",
       "version_major": 2,
       "version_minor": 0
      },
      "text/plain": [
       "  0%|          | 0/61 [00:00<?, ?it/s]"
      ]
     },
     "metadata": {},
     "output_type": "display_data"
    },
    {
     "name": "stdout",
     "output_type": "stream",
     "text": [
      "{'eval_loss': 0.07012620568275452, 'eval_accuracy': 0.9927159209157128, 'eval_runtime': 0.4231, 'eval_samples_per_second': 2271.39, 'eval_steps_per_second': 144.178, 'epoch': 71.0}\n"
     ]
    },
    {
     "data": {
      "application/vnd.jupyter.widget-view+json": {
       "model_id": "76698967483c422d90c8ba0224740bd7",
       "version_major": 2,
       "version_minor": 0
      },
      "text/plain": [
       "  0%|          | 0/61 [00:00<?, ?it/s]"
      ]
     },
     "metadata": {},
     "output_type": "display_data"
    },
    {
     "name": "stdout",
     "output_type": "stream",
     "text": [
      "{'eval_loss': 0.07026102393865585, 'eval_accuracy': 0.9927159209157128, 'eval_runtime': 0.4211, 'eval_samples_per_second': 2282.191, 'eval_steps_per_second': 144.863, 'epoch': 72.0}\n"
     ]
    },
    {
     "data": {
      "application/vnd.jupyter.widget-view+json": {
       "model_id": "c766c964dad34f35a06df223302f7b22",
       "version_major": 2,
       "version_minor": 0
      },
      "text/plain": [
       "  0%|          | 0/61 [00:00<?, ?it/s]"
      ]
     },
     "metadata": {},
     "output_type": "display_data"
    },
    {
     "name": "stdout",
     "output_type": "stream",
     "text": [
      "{'eval_loss': 0.07052886486053467, 'eval_accuracy': 0.9927159209157128, 'eval_runtime': 0.4299, 'eval_samples_per_second': 2235.225, 'eval_steps_per_second': 141.882, 'epoch': 73.0}\n"
     ]
    },
    {
     "data": {
      "application/vnd.jupyter.widget-view+json": {
       "model_id": "e3d47731647d459b9bac5ba4a48ff392",
       "version_major": 2,
       "version_minor": 0
      },
      "text/plain": [
       "  0%|          | 0/61 [00:00<?, ?it/s]"
      ]
     },
     "metadata": {},
     "output_type": "display_data"
    },
    {
     "name": "stdout",
     "output_type": "stream",
     "text": [
      "{'eval_loss': 0.07097717374563217, 'eval_accuracy': 0.9927159209157128, 'eval_runtime': 0.4256, 'eval_samples_per_second': 2258.053, 'eval_steps_per_second': 143.331, 'epoch': 74.0}\n",
      "{'loss': 0.0, 'learning_rate': 5.106382978723404e-06, 'epoch': 74.47}\n"
     ]
    },
    {
     "data": {
      "application/vnd.jupyter.widget-view+json": {
       "model_id": "5a466b6ea27847c19bea5d939c820634",
       "version_major": 2,
       "version_minor": 0
      },
      "text/plain": [
       "  0%|          | 0/61 [00:00<?, ?it/s]"
      ]
     },
     "metadata": {},
     "output_type": "display_data"
    },
    {
     "name": "stdout",
     "output_type": "stream",
     "text": [
      "{'eval_loss': 0.07140213996171951, 'eval_accuracy': 0.9927159209157128, 'eval_runtime': 0.3995, 'eval_samples_per_second': 2405.585, 'eval_steps_per_second': 152.696, 'epoch': 75.0}\n"
     ]
    },
    {
     "data": {
      "application/vnd.jupyter.widget-view+json": {
       "model_id": "eb6f8415106c4a6bb7bc2a2b71a7010a",
       "version_major": 2,
       "version_minor": 0
      },
      "text/plain": [
       "  0%|          | 0/61 [00:00<?, ?it/s]"
      ]
     },
     "metadata": {},
     "output_type": "display_data"
    },
    {
     "name": "stdout",
     "output_type": "stream",
     "text": [
      "{'eval_loss': 0.07030908763408661, 'eval_accuracy': 0.9927159209157128, 'eval_runtime': 0.391, 'eval_samples_per_second': 2457.77, 'eval_steps_per_second': 156.008, 'epoch': 76.0}\n"
     ]
    },
    {
     "data": {
      "application/vnd.jupyter.widget-view+json": {
       "model_id": "f167d50929094e96b859d80b317b570c",
       "version_major": 2,
       "version_minor": 0
      },
      "text/plain": [
       "  0%|          | 0/61 [00:00<?, ?it/s]"
      ]
     },
     "metadata": {},
     "output_type": "display_data"
    },
    {
     "name": "stdout",
     "output_type": "stream",
     "text": [
      "{'eval_loss': 0.07060914486646652, 'eval_accuracy': 0.9927159209157128, 'eval_runtime': 0.3897, 'eval_samples_per_second': 2465.899, 'eval_steps_per_second': 156.524, 'epoch': 77.0}\n"
     ]
    },
    {
     "data": {
      "application/vnd.jupyter.widget-view+json": {
       "model_id": "b90eaf331eb34e40821172959b908f2a",
       "version_major": 2,
       "version_minor": 0
      },
      "text/plain": [
       "  0%|          | 0/61 [00:00<?, ?it/s]"
      ]
     },
     "metadata": {},
     "output_type": "display_data"
    },
    {
     "name": "stdout",
     "output_type": "stream",
     "text": [
      "{'eval_loss': 0.07109884917736053, 'eval_accuracy': 0.9927159209157128, 'eval_runtime': 0.3943, 'eval_samples_per_second': 2437.381, 'eval_steps_per_second': 154.714, 'epoch': 78.0}\n",
      "{'loss': 0.0, 'learning_rate': 4.397163120567377e-06, 'epoch': 78.01}\n"
     ]
    },
    {
     "data": {
      "application/vnd.jupyter.widget-view+json": {
       "model_id": "77d757faf9be4c5fbcd5ad0d5e6c436d",
       "version_major": 2,
       "version_minor": 0
      },
      "text/plain": [
       "  0%|          | 0/61 [00:00<?, ?it/s]"
      ]
     },
     "metadata": {},
     "output_type": "display_data"
    },
    {
     "name": "stdout",
     "output_type": "stream",
     "text": [
      "{'eval_loss': 0.07138602435588837, 'eval_accuracy': 0.9927159209157128, 'eval_runtime': 0.3906, 'eval_samples_per_second': 2460.279, 'eval_steps_per_second': 156.168, 'epoch': 79.0}\n"
     ]
    },
    {
     "data": {
      "application/vnd.jupyter.widget-view+json": {
       "model_id": "989e14491ffd4cbf9316976cf2103ecf",
       "version_major": 2,
       "version_minor": 0
      },
      "text/plain": [
       "  0%|          | 0/61 [00:00<?, ?it/s]"
      ]
     },
     "metadata": {},
     "output_type": "display_data"
    },
    {
     "name": "stdout",
     "output_type": "stream",
     "text": [
      "{'eval_loss': 0.07174860686063766, 'eval_accuracy': 0.9927159209157128, 'eval_runtime': 0.3853, 'eval_samples_per_second': 2494.254, 'eval_steps_per_second': 158.324, 'epoch': 80.0}\n"
     ]
    },
    {
     "data": {
      "application/vnd.jupyter.widget-view+json": {
       "model_id": "c9bca712b534497db9a64edbced029e0",
       "version_major": 2,
       "version_minor": 0
      },
      "text/plain": [
       "  0%|          | 0/61 [00:00<?, ?it/s]"
      ]
     },
     "metadata": {},
     "output_type": "display_data"
    },
    {
     "name": "stdout",
     "output_type": "stream",
     "text": [
      "{'eval_loss': 0.07210543006658554, 'eval_accuracy': 0.9927159209157128, 'eval_runtime': 0.3917, 'eval_samples_per_second': 2453.481, 'eval_steps_per_second': 155.736, 'epoch': 81.0}\n",
      "{'loss': 0.0, 'learning_rate': 3.6879432624113475e-06, 'epoch': 81.56}\n"
     ]
    },
    {
     "data": {
      "application/vnd.jupyter.widget-view+json": {
       "model_id": "b89e6ed644c34a56aa12946fb1173f77",
       "version_major": 2,
       "version_minor": 0
      },
      "text/plain": [
       "  0%|          | 0/61 [00:00<?, ?it/s]"
      ]
     },
     "metadata": {},
     "output_type": "display_data"
    },
    {
     "name": "stdout",
     "output_type": "stream",
     "text": [
      "{'eval_loss': 0.07247030735015869, 'eval_accuracy': 0.9927159209157128, 'eval_runtime': 0.3923, 'eval_samples_per_second': 2449.468, 'eval_steps_per_second': 155.481, 'epoch': 82.0}\n"
     ]
    },
    {
     "data": {
      "application/vnd.jupyter.widget-view+json": {
       "model_id": "ee3b27a934754785bbf9d7155d70cb6d",
       "version_major": 2,
       "version_minor": 0
      },
      "text/plain": [
       "  0%|          | 0/61 [00:00<?, ?it/s]"
      ]
     },
     "metadata": {},
     "output_type": "display_data"
    },
    {
     "name": "stdout",
     "output_type": "stream",
     "text": [
      "{'eval_loss': 0.07381368428468704, 'eval_accuracy': 0.9927159209157128, 'eval_runtime': 0.3957, 'eval_samples_per_second': 2428.697, 'eval_steps_per_second': 154.163, 'epoch': 83.0}\n"
     ]
    },
    {
     "data": {
      "application/vnd.jupyter.widget-view+json": {
       "model_id": "0c8cc4967a094821b3458082dc2b0604",
       "version_major": 2,
       "version_minor": 0
      },
      "text/plain": [
       "  0%|          | 0/61 [00:00<?, ?it/s]"
      ]
     },
     "metadata": {},
     "output_type": "display_data"
    },
    {
     "name": "stdout",
     "output_type": "stream",
     "text": [
      "{'eval_loss': 0.07387044280767441, 'eval_accuracy': 0.9927159209157128, 'eval_runtime': 0.3908, 'eval_samples_per_second': 2458.941, 'eval_steps_per_second': 156.083, 'epoch': 84.0}\n"
     ]
    },
    {
     "data": {
      "application/vnd.jupyter.widget-view+json": {
       "model_id": "955893886c274644a78ba3070ba32e97",
       "version_major": 2,
       "version_minor": 0
      },
      "text/plain": [
       "  0%|          | 0/61 [00:00<?, ?it/s]"
      ]
     },
     "metadata": {},
     "output_type": "display_data"
    },
    {
     "name": "stdout",
     "output_type": "stream",
     "text": [
      "{'eval_loss': 0.07408980280160904, 'eval_accuracy': 0.9927159209157128, 'eval_runtime': 0.3907, 'eval_samples_per_second': 2459.986, 'eval_steps_per_second': 156.149, 'epoch': 85.0}\n",
      "{'loss': 0.0, 'learning_rate': 2.978723404255319e-06, 'epoch': 85.11}\n"
     ]
    },
    {
     "data": {
      "application/vnd.jupyter.widget-view+json": {
       "model_id": "7843a1b1f4d8469a8de8a56affe9151e",
       "version_major": 2,
       "version_minor": 0
      },
      "text/plain": [
       "  0%|          | 0/61 [00:00<?, ?it/s]"
      ]
     },
     "metadata": {},
     "output_type": "display_data"
    },
    {
     "name": "stdout",
     "output_type": "stream",
     "text": [
      "{'eval_loss': 0.07432129234075546, 'eval_accuracy': 0.9927159209157128, 'eval_runtime': 0.3906, 'eval_samples_per_second': 2460.498, 'eval_steps_per_second': 156.181, 'epoch': 86.0}\n"
     ]
    },
    {
     "data": {
      "application/vnd.jupyter.widget-view+json": {
       "model_id": "fe02533ac741451e9c7ea0f44ca10665",
       "version_major": 2,
       "version_minor": 0
      },
      "text/plain": [
       "  0%|          | 0/61 [00:00<?, ?it/s]"
      ]
     },
     "metadata": {},
     "output_type": "display_data"
    },
    {
     "name": "stdout",
     "output_type": "stream",
     "text": [
      "{'eval_loss': 0.07510343939065933, 'eval_accuracy': 0.9927159209157128, 'eval_runtime': 0.3904, 'eval_samples_per_second': 2461.473, 'eval_steps_per_second': 156.243, 'epoch': 87.0}\n"
     ]
    },
    {
     "data": {
      "application/vnd.jupyter.widget-view+json": {
       "model_id": "9ce600d9a01a42fbbab93d248574b9b7",
       "version_major": 2,
       "version_minor": 0
      },
      "text/plain": [
       "  0%|          | 0/61 [00:00<?, ?it/s]"
      ]
     },
     "metadata": {},
     "output_type": "display_data"
    },
    {
     "name": "stdout",
     "output_type": "stream",
     "text": [
      "{'eval_loss': 0.07535477727651596, 'eval_accuracy': 0.9927159209157128, 'eval_runtime': 0.3929, 'eval_samples_per_second': 2445.882, 'eval_steps_per_second': 155.254, 'epoch': 88.0}\n",
      "{'loss': 0.0, 'learning_rate': 2.269503546099291e-06, 'epoch': 88.65}\n"
     ]
    },
    {
     "data": {
      "application/vnd.jupyter.widget-view+json": {
       "model_id": "e72acba7d5c34ab49029b085cd076581",
       "version_major": 2,
       "version_minor": 0
      },
      "text/plain": [
       "  0%|          | 0/61 [00:00<?, ?it/s]"
      ]
     },
     "metadata": {},
     "output_type": "display_data"
    },
    {
     "name": "stdout",
     "output_type": "stream",
     "text": [
      "{'eval_loss': 0.07541919499635696, 'eval_accuracy': 0.9927159209157128, 'eval_runtime': 0.3917, 'eval_samples_per_second': 2453.283, 'eval_steps_per_second': 155.723, 'epoch': 89.0}\n"
     ]
    },
    {
     "data": {
      "application/vnd.jupyter.widget-view+json": {
       "model_id": "b5a126e1eafd42e192552cd32372e2c6",
       "version_major": 2,
       "version_minor": 0
      },
      "text/plain": [
       "  0%|          | 0/61 [00:00<?, ?it/s]"
      ]
     },
     "metadata": {},
     "output_type": "display_data"
    },
    {
     "name": "stdout",
     "output_type": "stream",
     "text": [
      "{'eval_loss': 0.0747026726603508, 'eval_accuracy': 0.9927159209157128, 'eval_runtime': 0.3929, 'eval_samples_per_second': 2445.621, 'eval_steps_per_second': 155.237, 'epoch': 90.0}\n"
     ]
    },
    {
     "data": {
      "application/vnd.jupyter.widget-view+json": {
       "model_id": "28c2e58c98d04010b9be9b5b53b4ce62",
       "version_major": 2,
       "version_minor": 0
      },
      "text/plain": [
       "  0%|          | 0/61 [00:00<?, ?it/s]"
      ]
     },
     "metadata": {},
     "output_type": "display_data"
    },
    {
     "name": "stdout",
     "output_type": "stream",
     "text": [
      "{'eval_loss': 0.07486279308795929, 'eval_accuracy': 0.9927159209157128, 'eval_runtime': 0.3957, 'eval_samples_per_second': 2428.713, 'eval_steps_per_second': 154.164, 'epoch': 91.0}\n"
     ]
    },
    {
     "data": {
      "application/vnd.jupyter.widget-view+json": {
       "model_id": "f65967a799454a49b2d6e702b28cbcf7",
       "version_major": 2,
       "version_minor": 0
      },
      "text/plain": [
       "  0%|          | 0/61 [00:00<?, ?it/s]"
      ]
     },
     "metadata": {},
     "output_type": "display_data"
    },
    {
     "name": "stdout",
     "output_type": "stream",
     "text": [
      "{'eval_loss': 0.07483011484146118, 'eval_accuracy': 0.9927159209157128, 'eval_runtime': 0.3921, 'eval_samples_per_second': 2450.856, 'eval_steps_per_second': 155.569, 'epoch': 92.0}\n",
      "{'loss': 0.0, 'learning_rate': 1.5602836879432626e-06, 'epoch': 92.2}\n"
     ]
    },
    {
     "data": {
      "application/vnd.jupyter.widget-view+json": {
       "model_id": "a843d069ab6a46b79d9160bea0b7075d",
       "version_major": 2,
       "version_minor": 0
      },
      "text/plain": [
       "  0%|          | 0/61 [00:00<?, ?it/s]"
      ]
     },
     "metadata": {},
     "output_type": "display_data"
    },
    {
     "name": "stdout",
     "output_type": "stream",
     "text": [
      "{'eval_loss': 0.07497594505548477, 'eval_accuracy': 0.9927159209157128, 'eval_runtime': 0.3949, 'eval_samples_per_second': 2433.285, 'eval_steps_per_second': 154.454, 'epoch': 93.0}\n"
     ]
    },
    {
     "data": {
      "application/vnd.jupyter.widget-view+json": {
       "model_id": "5a6ee03321cb4683ba8622ca193791e6",
       "version_major": 2,
       "version_minor": 0
      },
      "text/plain": [
       "  0%|          | 0/61 [00:00<?, ?it/s]"
      ]
     },
     "metadata": {},
     "output_type": "display_data"
    },
    {
     "name": "stdout",
     "output_type": "stream",
     "text": [
      "{'eval_loss': 0.07511138916015625, 'eval_accuracy': 0.9927159209157128, 'eval_runtime': 0.3955, 'eval_samples_per_second': 2429.81, 'eval_steps_per_second': 154.233, 'epoch': 94.0}\n"
     ]
    },
    {
     "data": {
      "application/vnd.jupyter.widget-view+json": {
       "model_id": "e02923a79d8f4b5f85c987bdb40b364c",
       "version_major": 2,
       "version_minor": 0
      },
      "text/plain": [
       "  0%|          | 0/61 [00:00<?, ?it/s]"
      ]
     },
     "metadata": {},
     "output_type": "display_data"
    },
    {
     "name": "stdout",
     "output_type": "stream",
     "text": [
      "{'eval_loss': 0.07535120099782944, 'eval_accuracy': 0.9927159209157128, 'eval_runtime': 0.3961, 'eval_samples_per_second': 2425.975, 'eval_steps_per_second': 153.99, 'epoch': 95.0}\n",
      "{'loss': 0.0, 'learning_rate': 8.510638297872341e-07, 'epoch': 95.74}\n"
     ]
    },
    {
     "data": {
      "application/vnd.jupyter.widget-view+json": {
       "model_id": "5f7c8a2cccc1428e8e788972d74c7373",
       "version_major": 2,
       "version_minor": 0
      },
      "text/plain": [
       "  0%|          | 0/61 [00:00<?, ?it/s]"
      ]
     },
     "metadata": {},
     "output_type": "display_data"
    },
    {
     "name": "stdout",
     "output_type": "stream",
     "text": [
      "{'eval_loss': 0.07538361102342606, 'eval_accuracy': 0.9927159209157128, 'eval_runtime': 0.3868, 'eval_samples_per_second': 2484.229, 'eval_steps_per_second': 157.688, 'epoch': 96.0}\n"
     ]
    },
    {
     "data": {
      "application/vnd.jupyter.widget-view+json": {
       "model_id": "992d83f0de1b42be8d00078f56b64eaa",
       "version_major": 2,
       "version_minor": 0
      },
      "text/plain": [
       "  0%|          | 0/61 [00:00<?, ?it/s]"
      ]
     },
     "metadata": {},
     "output_type": "display_data"
    },
    {
     "name": "stdout",
     "output_type": "stream",
     "text": [
      "{'eval_loss': 0.07541198283433914, 'eval_accuracy': 0.9927159209157128, 'eval_runtime': 0.3906, 'eval_samples_per_second': 2460.582, 'eval_steps_per_second': 156.187, 'epoch': 97.0}\n"
     ]
    },
    {
     "data": {
      "application/vnd.jupyter.widget-view+json": {
       "model_id": "c3fe952e39794219b50108a48184eba6",
       "version_major": 2,
       "version_minor": 0
      },
      "text/plain": [
       "  0%|          | 0/61 [00:00<?, ?it/s]"
      ]
     },
     "metadata": {},
     "output_type": "display_data"
    },
    {
     "name": "stdout",
     "output_type": "stream",
     "text": [
      "{'eval_loss': 0.0754546970129013, 'eval_accuracy': 0.9927159209157128, 'eval_runtime': 0.3935, 'eval_samples_per_second': 2442.04, 'eval_steps_per_second': 155.01, 'epoch': 98.0}\n"
     ]
    },
    {
     "data": {
      "application/vnd.jupyter.widget-view+json": {
       "model_id": "00368c91b743443e8532aab7825ba81f",
       "version_major": 2,
       "version_minor": 0
      },
      "text/plain": [
       "  0%|          | 0/61 [00:00<?, ?it/s]"
      ]
     },
     "metadata": {},
     "output_type": "display_data"
    },
    {
     "name": "stdout",
     "output_type": "stream",
     "text": [
      "{'eval_loss': 0.07550547271966934, 'eval_accuracy': 0.9927159209157128, 'eval_runtime': 0.39, 'eval_samples_per_second': 2463.837, 'eval_steps_per_second': 156.393, 'epoch': 99.0}\n",
      "{'loss': 0.0, 'learning_rate': 1.4184397163120568e-07, 'epoch': 99.29}\n"
     ]
    },
    {
     "data": {
      "application/vnd.jupyter.widget-view+json": {
       "model_id": "2a46caa71267428b96ffdc23b69956e7",
       "version_major": 2,
       "version_minor": 0
      },
      "text/plain": [
       "  0%|          | 0/61 [00:00<?, ?it/s]"
      ]
     },
     "metadata": {},
     "output_type": "display_data"
    },
    {
     "name": "stdout",
     "output_type": "stream",
     "text": [
      "{'eval_loss': 0.0755167156457901, 'eval_accuracy': 0.9927159209157128, 'eval_runtime': 0.3968, 'eval_samples_per_second': 2421.971, 'eval_steps_per_second': 153.736, 'epoch': 100.0}\n",
      "{'train_runtime': 417.5573, 'train_samples_per_second': 536.693, 'train_steps_per_second': 33.768, 'train_loss': 0.006795591461728265, 'epoch': 100.0}\n"
     ]
    },
    {
     "data": {
      "text/plain": [
       "TrainOutput(global_step=14100, training_loss=0.006795591461728265, metrics={'train_runtime': 417.5573, 'train_samples_per_second': 536.693, 'train_steps_per_second': 33.768, 'train_loss': 0.006795591461728265, 'epoch': 100.0})"
      ]
     },
     "execution_count": 177,
     "metadata": {},
     "output_type": "execute_result"
    }
   ],
   "source": [
    "from transformers import AutoModelForSequenceClassification, TrainingArguments, Trainer\n",
    "\n",
    "'''\n",
    "id2label = {0: \"NEGATIVE\", 1: \"POSITIVE\"}\n",
    "label2id = {\"NEGATIVE\": 0, \"POSITIVE\": 1}\n",
    "'''\n",
    "\n",
    "id2label = {0 : \"lung cancer\", 1: \"kidney disease\" , 2: \"heart disease\" , 3 : \"breast cancer\" ,  4 : \"colorectal cancer\" }\n",
    "label2id = {\"lung cancer\" : 0,  \"kidney disease\": 1  ,  \"heart disease\" : 2 , \"breast cancer\" :3 ,\"colorectal cancer\" : 4}\n",
    "#label2id = {\"lung cancer\" : 0.0,  \"kidney disease\": 1.0  , \"heart disease\" : 2.0}\n",
    "#id2label = {0 : \"lung cancer\", 1: \"kidney disease\" , 2: \"heart disease\" } \n",
    "\n",
    "model = AutoModelForSequenceClassification.from_pretrained(\n",
    "    \"distilbert-base-uncased\", num_labels= 5 , id2label=id2label, label2id=label2id\n",
    ")\n",
    "\n",
    "training_args = TrainingArguments(\n",
    "    output_dir=\"cached_model\",\n",
    "    learning_rate=2e-5,\n",
    "    per_device_train_batch_size=16,\n",
    "    per_device_eval_batch_size=16,\n",
    "    num_train_epochs= 100,\n",
    "    weight_decay=0.01,\n",
    "    evaluation_strategy=\"epoch\",\n",
    "    save_strategy=\"epoch\",\n",
    "    load_best_model_at_end=True,\n",
    "    push_to_hub=False,\n",
    ")\n",
    "\n",
    "trainer = Trainer(\n",
    "    model=model,\n",
    "    args=training_args,\n",
    "    train_dataset=tokenized_dataset[\"train\"],\n",
    "    eval_dataset=tokenized_dataset[\"test\"],\n",
    "    tokenizer=tokenizer,\n",
    "    data_collator=data_collator,\n",
    "    compute_metrics=compute_metrics,\n",
    ")\n",
    "\n",
    "trainer.train()\n"
   ]
  },
  {
   "cell_type": "markdown",
   "metadata": {},
   "source": [
    "### Inference"
   ]
  },
  {
   "cell_type": "code",
   "execution_count": 9,
   "metadata": {},
   "outputs": [
    {
     "data": {
      "application/vnd.jupyter.widget-view+json": {
       "model_id": "1c8b939ba6a44260a8c2f347fd7ec9a5",
       "version_major": 2,
       "version_minor": 0
      },
      "text/plain": [
       "config.json:   0%|          | 0.00/538 [00:00<?, ?B/s]"
      ]
     },
     "metadata": {},
     "output_type": "display_data"
    },
    {
     "data": {
      "application/vnd.jupyter.widget-view+json": {
       "model_id": "5ebe19b0bc9f4770992983c0c2f68b40",
       "version_major": 2,
       "version_minor": 0
      },
      "text/plain": [
       "model.safetensors:   0%|          | 0.00/268M [00:00<?, ?B/s]"
      ]
     },
     "metadata": {},
     "output_type": "display_data"
    },
    {
     "data": {
      "application/vnd.jupyter.widget-view+json": {
       "model_id": "ca19a0cb50b648359ccfd7e95ba0925b",
       "version_major": 2,
       "version_minor": 0
      },
      "text/plain": [
       "tokenizer_config.json:   0%|          | 0.00/360 [00:00<?, ?B/s]"
      ]
     },
     "metadata": {},
     "output_type": "display_data"
    },
    {
     "data": {
      "application/vnd.jupyter.widget-view+json": {
       "model_id": "091ab1af4eaf4a728e54c620f0388e80",
       "version_major": 2,
       "version_minor": 0
      },
      "text/plain": [
       "vocab.txt:   0%|          | 0.00/232k [00:00<?, ?B/s]"
      ]
     },
     "metadata": {},
     "output_type": "display_data"
    },
    {
     "data": {
      "application/vnd.jupyter.widget-view+json": {
       "model_id": "c35c446dc4f24a58a2e50877bdb3363b",
       "version_major": 2,
       "version_minor": 0
      },
      "text/plain": [
       "tokenizer.json:   0%|          | 0.00/711k [00:00<?, ?B/s]"
      ]
     },
     "metadata": {},
     "output_type": "display_data"
    },
    {
     "data": {
      "application/vnd.jupyter.widget-view+json": {
       "model_id": "5a21c5bfde8d4cdcaa9f86ab2957f587",
       "version_major": 2,
       "version_minor": 0
      },
      "text/plain": [
       "special_tokens_map.json:   0%|          | 0.00/125 [00:00<?, ?B/s]"
      ]
     },
     "metadata": {},
     "output_type": "display_data"
    },
    {
     "ename": "NameError",
     "evalue": "name 'text' is not defined",
     "output_type": "error",
     "traceback": [
      "\u001b[0;31m---------------------------------------------------------------------------\u001b[0m",
      "\u001b[0;31mNameError\u001b[0m                                 Traceback (most recent call last)",
      "\u001b[1;32m/home/ray/BERT_ContextClassifier/demo.ipynb Cell 16\u001b[0m line \u001b[0;36m4\n\u001b[1;32m      <a href='vscode-notebook-cell:/home/ray/BERT_ContextClassifier/demo.ipynb#X21sZmlsZQ%3D%3D?line=0'>1</a>\u001b[0m \u001b[39mfrom\u001b[39;00m \u001b[39mtransformers\u001b[39;00m \u001b[39mimport\u001b[39;00m pipeline\n\u001b[1;32m      <a href='vscode-notebook-cell:/home/ray/BERT_ContextClassifier/demo.ipynb#X21sZmlsZQ%3D%3D?line=2'>3</a>\u001b[0m classifier \u001b[39m=\u001b[39m pipeline(\u001b[39m\"\u001b[39m\u001b[39msentiment-analysis\u001b[39m\u001b[39m\"\u001b[39m, model\u001b[39m=\u001b[39m\u001b[39m\"\u001b[39m\u001b[39mstevhliu/my_awesome_model\u001b[39m\u001b[39m\"\u001b[39m)\n\u001b[0;32m----> <a href='vscode-notebook-cell:/home/ray/BERT_ContextClassifier/demo.ipynb#X21sZmlsZQ%3D%3D?line=3'>4</a>\u001b[0m classifier(text)\n",
      "\u001b[0;31mNameError\u001b[0m: name 'text' is not defined"
     ]
    }
   ],
   "source": [
    "from transformers import pipeline\n",
    "\n",
    "classifier = pipeline(\"sentiment-analysis\", model=\"stevhliu/my_awesome_model\")\n",
    "classifier(text)"
   ]
  },
  {
   "cell_type": "code",
   "execution_count": 2,
   "metadata": {},
   "outputs": [],
   "source": [
    "from transformers import pipeline, AutoModel, AutoTokenizer ,AutoModelForSequenceClassification, TrainingArguments, Trainer\n",
    "\n",
    "# Replace with your custom model of choice\n",
    "model = AutoModelForSequenceClassification.from_pretrained(\n",
    "    './cached_model/checkpoint-14100'\n",
    ")\n",
    "tokenizer = AutoTokenizer.from_pretrained('./cached_model/checkpoint-14100')\n",
    "\n",
    "pipe = pipeline(\n",
    "    task=\"text-classification\",  # replace with whatever task you have\n",
    "    model=model,\n",
    "    tokenizer=tokenizer\n",
    ")"
   ]
  },
  {
   "cell_type": "code",
   "execution_count": 3,
   "metadata": {},
   "outputs": [
    {
     "data": {
      "text/plain": [
       "[{'label': 'heart disease', 'score': 0.9999998807907104}]"
      ]
     },
     "execution_count": 3,
     "metadata": {},
     "output_type": "execute_result"
    }
   ],
   "source": [
    "text = \"I've been having episodes of rapid and irregular heartbeat, with a palpable sense of fluttering. It's a bit unsettling, and I'm not sure what might be causing these cardiac irregularities.\"\n",
    "pipe(text)"
   ]
  },
  {
   "cell_type": "code",
   "execution_count": 6,
   "metadata": {},
   "outputs": [
    {
     "data": {
      "text/plain": [
       "[{'label': 'heart disease', 'score': 0.9999995231628418}]"
      ]
     },
     "execution_count": 6,
     "metadata": {},
     "output_type": "execute_result"
    }
   ],
   "source": [
    "text = 'I\\'ve been feeling palpitations lately'\n",
    "pipe(text)"
   ]
  }
 ],
 "metadata": {
  "kernelspec": {
   "display_name": "BERT_ContextClassifier",
   "language": "python",
   "name": "python3"
  },
  "language_info": {
   "codemirror_mode": {
    "name": "ipython",
    "version": 3
   },
   "file_extension": ".py",
   "mimetype": "text/x-python",
   "name": "python",
   "nbconvert_exporter": "python",
   "pygments_lexer": "ipython3",
   "version": "3.11.4"
  }
 },
 "nbformat": 4,
 "nbformat_minor": 2
}
