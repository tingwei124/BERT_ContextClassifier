{
  "cells": [
    {
      "cell_type": "markdown",
      "metadata": {
        "id": "LjN_na_Faecs"
      },
      "source": [
        "### Data Preprocessing"
      ]
    },
    {
      "cell_type": "markdown",
      "metadata": {
        "id": "mHGIAtxtaecu"
      },
      "source": [
        "#### Load Dataset"
      ]
    },
    {
      "cell_type": "markdown",
      "metadata": {
        "id": "Fir3ia0Baecv"
      },
      "source": [
        "There are two fields in this dataset:\n",
        "\n",
        "- text: the description of disease  review text.\n",
        "- label: The disease category .\n",
        "\n"
      ]
    },
    {
      "cell_type": "code",
      "execution_count": 3,
      "metadata": {
        "colab": {
          "base_uri": "https://localhost:8080/",
          "height": 206
        },
        "id": "87tas-Pcaecv",
        "outputId": "b120f8b2-a075-4972-8f5e-85d7bfc01c38"
      },
      "outputs": [
        {
          "output_type": "execute_result",
          "data": {
            "text/plain": [
              "                                         Description       Category Unnamed: 2\n",
              "0  I've been dealing with this huge pain in my ri...  heart disease        NaN\n",
              "1  Hello, doctor. I've been experiencing a persis...  heart disease        NaN\n",
              "2  Doctor, I've been experiencing some concerning...  heart disease        NaN\n",
              "3  Hey, doctor, I've been experiencing progressiv...  heart disease        NaN\n",
              "4  Hi, doctor, I've been feeling this pain on my ...  heart disease        NaN"
            ],
            "text/html": [
              "\n",
              "  <div id=\"df-27c1bc6c-f5c3-487f-a880-5ab327c1aca7\" class=\"colab-df-container\">\n",
              "    <div>\n",
              "<style scoped>\n",
              "    .dataframe tbody tr th:only-of-type {\n",
              "        vertical-align: middle;\n",
              "    }\n",
              "\n",
              "    .dataframe tbody tr th {\n",
              "        vertical-align: top;\n",
              "    }\n",
              "\n",
              "    .dataframe thead th {\n",
              "        text-align: right;\n",
              "    }\n",
              "</style>\n",
              "<table border=\"1\" class=\"dataframe\">\n",
              "  <thead>\n",
              "    <tr style=\"text-align: right;\">\n",
              "      <th></th>\n",
              "      <th>Description</th>\n",
              "      <th>Category</th>\n",
              "      <th>Unnamed: 2</th>\n",
              "    </tr>\n",
              "  </thead>\n",
              "  <tbody>\n",
              "    <tr>\n",
              "      <th>0</th>\n",
              "      <td>I've been dealing with this huge pain in my ri...</td>\n",
              "      <td>heart disease</td>\n",
              "      <td>NaN</td>\n",
              "    </tr>\n",
              "    <tr>\n",
              "      <th>1</th>\n",
              "      <td>Hello, doctor. I've been experiencing a persis...</td>\n",
              "      <td>heart disease</td>\n",
              "      <td>NaN</td>\n",
              "    </tr>\n",
              "    <tr>\n",
              "      <th>2</th>\n",
              "      <td>Doctor, I've been experiencing some concerning...</td>\n",
              "      <td>heart disease</td>\n",
              "      <td>NaN</td>\n",
              "    </tr>\n",
              "    <tr>\n",
              "      <th>3</th>\n",
              "      <td>Hey, doctor, I've been experiencing progressiv...</td>\n",
              "      <td>heart disease</td>\n",
              "      <td>NaN</td>\n",
              "    </tr>\n",
              "    <tr>\n",
              "      <th>4</th>\n",
              "      <td>Hi, doctor, I've been feeling this pain on my ...</td>\n",
              "      <td>heart disease</td>\n",
              "      <td>NaN</td>\n",
              "    </tr>\n",
              "  </tbody>\n",
              "</table>\n",
              "</div>\n",
              "    <div class=\"colab-df-buttons\">\n",
              "\n",
              "  <div class=\"colab-df-container\">\n",
              "    <button class=\"colab-df-convert\" onclick=\"convertToInteractive('df-27c1bc6c-f5c3-487f-a880-5ab327c1aca7')\"\n",
              "            title=\"Convert this dataframe to an interactive table.\"\n",
              "            style=\"display:none;\">\n",
              "\n",
              "  <svg xmlns=\"http://www.w3.org/2000/svg\" height=\"24px\" viewBox=\"0 -960 960 960\">\n",
              "    <path d=\"M120-120v-720h720v720H120Zm60-500h600v-160H180v160Zm220 220h160v-160H400v160Zm0 220h160v-160H400v160ZM180-400h160v-160H180v160Zm440 0h160v-160H620v160ZM180-180h160v-160H180v160Zm440 0h160v-160H620v160Z\"/>\n",
              "  </svg>\n",
              "    </button>\n",
              "\n",
              "  <style>\n",
              "    .colab-df-container {\n",
              "      display:flex;\n",
              "      gap: 12px;\n",
              "    }\n",
              "\n",
              "    .colab-df-convert {\n",
              "      background-color: #E8F0FE;\n",
              "      border: none;\n",
              "      border-radius: 50%;\n",
              "      cursor: pointer;\n",
              "      display: none;\n",
              "      fill: #1967D2;\n",
              "      height: 32px;\n",
              "      padding: 0 0 0 0;\n",
              "      width: 32px;\n",
              "    }\n",
              "\n",
              "    .colab-df-convert:hover {\n",
              "      background-color: #E2EBFA;\n",
              "      box-shadow: 0px 1px 2px rgba(60, 64, 67, 0.3), 0px 1px 3px 1px rgba(60, 64, 67, 0.15);\n",
              "      fill: #174EA6;\n",
              "    }\n",
              "\n",
              "    .colab-df-buttons div {\n",
              "      margin-bottom: 4px;\n",
              "    }\n",
              "\n",
              "    [theme=dark] .colab-df-convert {\n",
              "      background-color: #3B4455;\n",
              "      fill: #D2E3FC;\n",
              "    }\n",
              "\n",
              "    [theme=dark] .colab-df-convert:hover {\n",
              "      background-color: #434B5C;\n",
              "      box-shadow: 0px 1px 3px 1px rgba(0, 0, 0, 0.15);\n",
              "      filter: drop-shadow(0px 1px 2px rgba(0, 0, 0, 0.3));\n",
              "      fill: #FFFFFF;\n",
              "    }\n",
              "  </style>\n",
              "\n",
              "    <script>\n",
              "      const buttonEl =\n",
              "        document.querySelector('#df-27c1bc6c-f5c3-487f-a880-5ab327c1aca7 button.colab-df-convert');\n",
              "      buttonEl.style.display =\n",
              "        google.colab.kernel.accessAllowed ? 'block' : 'none';\n",
              "\n",
              "      async function convertToInteractive(key) {\n",
              "        const element = document.querySelector('#df-27c1bc6c-f5c3-487f-a880-5ab327c1aca7');\n",
              "        const dataTable =\n",
              "          await google.colab.kernel.invokeFunction('convertToInteractive',\n",
              "                                                    [key], {});\n",
              "        if (!dataTable) return;\n",
              "\n",
              "        const docLinkHtml = 'Like what you see? Visit the ' +\n",
              "          '<a target=\"_blank\" href=https://colab.research.google.com/notebooks/data_table.ipynb>data table notebook</a>'\n",
              "          + ' to learn more about interactive tables.';\n",
              "        element.innerHTML = '';\n",
              "        dataTable['output_type'] = 'display_data';\n",
              "        await google.colab.output.renderOutput(dataTable, element);\n",
              "        const docLink = document.createElement('div');\n",
              "        docLink.innerHTML = docLinkHtml;\n",
              "        element.appendChild(docLink);\n",
              "      }\n",
              "    </script>\n",
              "  </div>\n",
              "\n",
              "\n",
              "<div id=\"df-4a4f797c-5d7f-4399-9fa6-fdfce2ad4fac\">\n",
              "  <button class=\"colab-df-quickchart\" onclick=\"quickchart('df-4a4f797c-5d7f-4399-9fa6-fdfce2ad4fac')\"\n",
              "            title=\"Suggest charts\"\n",
              "            style=\"display:none;\">\n",
              "\n",
              "<svg xmlns=\"http://www.w3.org/2000/svg\" height=\"24px\"viewBox=\"0 0 24 24\"\n",
              "     width=\"24px\">\n",
              "    <g>\n",
              "        <path d=\"M19 3H5c-1.1 0-2 .9-2 2v14c0 1.1.9 2 2 2h14c1.1 0 2-.9 2-2V5c0-1.1-.9-2-2-2zM9 17H7v-7h2v7zm4 0h-2V7h2v10zm4 0h-2v-4h2v4z\"/>\n",
              "    </g>\n",
              "</svg>\n",
              "  </button>\n",
              "\n",
              "<style>\n",
              "  .colab-df-quickchart {\n",
              "      --bg-color: #E8F0FE;\n",
              "      --fill-color: #1967D2;\n",
              "      --hover-bg-color: #E2EBFA;\n",
              "      --hover-fill-color: #174EA6;\n",
              "      --disabled-fill-color: #AAA;\n",
              "      --disabled-bg-color: #DDD;\n",
              "  }\n",
              "\n",
              "  [theme=dark] .colab-df-quickchart {\n",
              "      --bg-color: #3B4455;\n",
              "      --fill-color: #D2E3FC;\n",
              "      --hover-bg-color: #434B5C;\n",
              "      --hover-fill-color: #FFFFFF;\n",
              "      --disabled-bg-color: #3B4455;\n",
              "      --disabled-fill-color: #666;\n",
              "  }\n",
              "\n",
              "  .colab-df-quickchart {\n",
              "    background-color: var(--bg-color);\n",
              "    border: none;\n",
              "    border-radius: 50%;\n",
              "    cursor: pointer;\n",
              "    display: none;\n",
              "    fill: var(--fill-color);\n",
              "    height: 32px;\n",
              "    padding: 0;\n",
              "    width: 32px;\n",
              "  }\n",
              "\n",
              "  .colab-df-quickchart:hover {\n",
              "    background-color: var(--hover-bg-color);\n",
              "    box-shadow: 0 1px 2px rgba(60, 64, 67, 0.3), 0 1px 3px 1px rgba(60, 64, 67, 0.15);\n",
              "    fill: var(--button-hover-fill-color);\n",
              "  }\n",
              "\n",
              "  .colab-df-quickchart-complete:disabled,\n",
              "  .colab-df-quickchart-complete:disabled:hover {\n",
              "    background-color: var(--disabled-bg-color);\n",
              "    fill: var(--disabled-fill-color);\n",
              "    box-shadow: none;\n",
              "  }\n",
              "\n",
              "  .colab-df-spinner {\n",
              "    border: 2px solid var(--fill-color);\n",
              "    border-color: transparent;\n",
              "    border-bottom-color: var(--fill-color);\n",
              "    animation:\n",
              "      spin 1s steps(1) infinite;\n",
              "  }\n",
              "\n",
              "  @keyframes spin {\n",
              "    0% {\n",
              "      border-color: transparent;\n",
              "      border-bottom-color: var(--fill-color);\n",
              "      border-left-color: var(--fill-color);\n",
              "    }\n",
              "    20% {\n",
              "      border-color: transparent;\n",
              "      border-left-color: var(--fill-color);\n",
              "      border-top-color: var(--fill-color);\n",
              "    }\n",
              "    30% {\n",
              "      border-color: transparent;\n",
              "      border-left-color: var(--fill-color);\n",
              "      border-top-color: var(--fill-color);\n",
              "      border-right-color: var(--fill-color);\n",
              "    }\n",
              "    40% {\n",
              "      border-color: transparent;\n",
              "      border-right-color: var(--fill-color);\n",
              "      border-top-color: var(--fill-color);\n",
              "    }\n",
              "    60% {\n",
              "      border-color: transparent;\n",
              "      border-right-color: var(--fill-color);\n",
              "    }\n",
              "    80% {\n",
              "      border-color: transparent;\n",
              "      border-right-color: var(--fill-color);\n",
              "      border-bottom-color: var(--fill-color);\n",
              "    }\n",
              "    90% {\n",
              "      border-color: transparent;\n",
              "      border-bottom-color: var(--fill-color);\n",
              "    }\n",
              "  }\n",
              "</style>\n",
              "\n",
              "  <script>\n",
              "    async function quickchart(key) {\n",
              "      const quickchartButtonEl =\n",
              "        document.querySelector('#' + key + ' button');\n",
              "      quickchartButtonEl.disabled = true;  // To prevent multiple clicks.\n",
              "      quickchartButtonEl.classList.add('colab-df-spinner');\n",
              "      try {\n",
              "        const charts = await google.colab.kernel.invokeFunction(\n",
              "            'suggestCharts', [key], {});\n",
              "      } catch (error) {\n",
              "        console.error('Error during call to suggestCharts:', error);\n",
              "      }\n",
              "      quickchartButtonEl.classList.remove('colab-df-spinner');\n",
              "      quickchartButtonEl.classList.add('colab-df-quickchart-complete');\n",
              "    }\n",
              "    (() => {\n",
              "      let quickchartButtonEl =\n",
              "        document.querySelector('#df-4a4f797c-5d7f-4399-9fa6-fdfce2ad4fac button');\n",
              "      quickchartButtonEl.style.display =\n",
              "        google.colab.kernel.accessAllowed ? 'block' : 'none';\n",
              "    })();\n",
              "  </script>\n",
              "</div>\n",
              "\n",
              "    </div>\n",
              "  </div>\n"
            ],
            "application/vnd.google.colaboratory.intrinsic+json": {
              "type": "dataframe",
              "variable_name": "df",
              "summary": "{\n  \"name\": \"df\",\n  \"rows\": 3202,\n  \"fields\": [\n    {\n      \"column\": \"Description\",\n      \"properties\": {\n        \"dtype\": \"string\",\n        \"num_unique_values\": 2433,\n        \"samples\": [\n          \"Lately, alongside the overwhelming fatigue for the past month, I've been experiencing recurring headaches and occasional dizziness in the last three weeks. Doctor, could these symptoms be linked to something neurological or perhaps a vascular issue?\",\n          \"Turning 48, thought I was past the risky age. But my nipple inverted recently, and it's concerning. With my family history, it's time to schedule a breast checkup.\",\n          \"Hey, Doc. I've been grappling with this uneasy feeling in my chest, coupled with intermittent tightness. It's like a pressure that comes and goes, and I've also noticed my heart racing at times. Can we delve into the potential reasons behind these symptoms?\"\n        ],\n        \"semantic_type\": \"\",\n        \"description\": \"\"\n      }\n    },\n    {\n      \"column\": \"Category\",\n      \"properties\": {\n        \"dtype\": \"category\",\n        \"num_unique_values\": 8,\n        \"samples\": [\n          \"kidney disease\",\n          \"breast cancer\",\n          \"heart disease\"\n        ],\n        \"semantic_type\": \"\",\n        \"description\": \"\"\n      }\n    },\n    {\n      \"column\": \"Unnamed: 2\",\n      \"properties\": {\n        \"dtype\": \"category\",\n        \"num_unique_values\": 3,\n        \"samples\": [\n          \"kidney disease\",\n          \"lung cancer\",\n          \"breast cancer\"\n        ],\n        \"semantic_type\": \"\",\n        \"description\": \"\"\n      }\n    }\n  ]\n}"
            }
          },
          "metadata": {},
          "execution_count": 3
        }
      ],
      "source": [
        "# import required libraries\n",
        "import pandas as pd\n",
        "import numpy as np\n",
        "import seaborn as sns\n",
        "\n",
        "\n",
        "\n",
        "from sklearn.metrics import f1_score, accuracy_score, confusion_matrix\n",
        "# f1 score\n",
        "from sklearn.model_selection import train_test_split\n",
        "\n",
        "# read the disease description\n",
        "df = pd.read_csv('combined.csv')\n",
        "# pandas variable\n",
        "\n",
        "df.head()\n",
        "\n"
      ]
    },
    {
      "cell_type": "code",
      "execution_count": 4,
      "metadata": {
        "id": "tUW6vVRqaecx",
        "outputId": "2ac68358-6945-4017-9e00-a22f3055c4e0",
        "colab": {
          "base_uri": "https://localhost:8080/"
        }
      },
      "outputs": [
        {
          "output_type": "stream",
          "name": "stdout",
          "text": [
            "<class 'pandas.core.frame.DataFrame'>\n",
            "RangeIndex: 3202 entries, 0 to 3201\n",
            "Data columns (total 3 columns):\n",
            " #   Column       Non-Null Count  Dtype \n",
            "---  ------       --------------  ----- \n",
            " 0   Description  3202 non-null   object\n",
            " 1   Category     3202 non-null   object\n",
            " 2   Unnamed: 2   3 non-null      object\n",
            "dtypes: object(3)\n",
            "memory usage: 75.2+ KB\n",
            "                                         Description       Category\n",
            "0  I've been dealing with this huge pain in my ri...  heart disease\n",
            "1  Hello, doctor. I've been experiencing a persis...  heart disease\n",
            "2  Doctor, I've been experiencing some concerning...  heart disease\n",
            "3  Hey, doctor, I've been experiencing progressiv...  heart disease\n",
            "4  Hi, doctor, I've been feeling this pain on my ...  heart disease\n",
            "<class 'pandas.core.frame.DataFrame'>\n",
            "RangeIndex: 3202 entries, 0 to 3201\n",
            "Data columns (total 2 columns):\n",
            " #   Column       Non-Null Count  Dtype \n",
            "---  ------       --------------  ----- \n",
            " 0   Description  3202 non-null   object\n",
            " 1   Category     3202 non-null   object\n",
            "dtypes: object(2)\n",
            "memory usage: 50.2+ KB\n"
          ]
        }
      ],
      "source": [
        "df.info()\n",
        "df = df[['Description','Category']]\n",
        "\n",
        "print(df.head())\n",
        "df.info()"
      ]
    },
    {
      "cell_type": "code",
      "execution_count": 5,
      "metadata": {
        "colab": {
          "base_uri": "https://localhost:8080/",
          "height": 337
        },
        "id": "wJ3PnyP0aecy",
        "outputId": "5751098e-7eab-415d-aecd-a9050a6edd4a"
      },
      "outputs": [
        {
          "output_type": "display_data",
          "data": {
            "text/plain": [
              "<Figure size 640x480 with 1 Axes>"
            ],
            "image/png": "[encoded data removed]"
          },
          "metadata": {}
        }
      ],
      "source": [
        "df.head()\n",
        "\n",
        "\n",
        "df['Category'].hist()\n",
        "\n",
        "for i in range(len(df['Category'])):\n",
        "    if(df['Category'][i] == \"lung cancer\"):\n",
        "        continue\n",
        "\n"
      ]
    },
    {
      "cell_type": "markdown",
      "metadata": {
        "id": "cPLznieuaecy"
      },
      "source": [
        "Map classes to the integers\n",
        "\n",
        "The first line defines a dictionary target_map that maps the original categorical target variable 'sentiment' to a numerical representation, with 'positive' mapped to 1, 'negative' mapped to 0 and ‘neutral’ mapped to 2."
      ]
    },
    {
      "cell_type": "code",
      "execution_count": 6,
      "metadata": {
        "colab": {
          "base_uri": "https://localhost:8080/"
        },
        "id": "Zi1_yOtgaecy",
        "outputId": "9456e49a-56ac-4467-e522-88d46c3a06f6"
      },
      "outputs": [
        {
          "output_type": "stream",
          "name": "stdout",
          "text": [
            "                                                text  label\n",
            "0  I've been dealing with this huge pain in my ri...    2.0\n",
            "1  Hello, doctor. I've been experiencing a persis...    2.0\n",
            "2  Doctor, I've been experiencing some concerning...    2.0\n",
            "3  Hey, doctor, I've been experiencing progressiv...    2.0\n",
            "4  Hi, doctor, I've been feeling this pain on my ...    2.0\n",
            "                                                text  label\n",
            "0  I've been dealing with this huge pain in my ri...      2\n",
            "1  Hello, doctor. I've been experiencing a persis...      2\n",
            "2  Doctor, I've been experiencing some concerning...      2\n",
            "3  Hey, doctor, I've been experiencing progressiv...      2\n",
            "4  Hi, doctor, I've been feeling this pain on my ...      2\n",
            "Longest length is:\n",
            " 2302\n"
          ]
        },
        {
          "output_type": "stream",
          "name": "stderr",
          "text": [
            "<ipython-input-6-c278313165f2>:29: SettingWithCopyWarning: \n",
            "A value is trying to be set on a copy of a slice from a DataFrame.\n",
            "Try using .loc[row_indexer,col_indexer] = value instead\n",
            "\n",
            "See the caveats in the documentation: https://pandas.pydata.org/pandas-docs/stable/user_guide/indexing.html#returning-a-view-versus-a-copy\n",
            "  df1['label'] = df2.label.astype(int)\n"
          ]
        }
      ],
      "source": [
        "'''\n",
        "import os\n",
        "from datasets import load_dataset\n",
        "\n",
        "\n",
        "raw_datasets = load_dataset('csv', data_files='./corpus.csv')\n",
        "\n",
        "\n",
        "os.environ['CUDA_VISIBLE_DEVICES'] = \"3\"\n",
        "imdb = load_dataset(\"imdb\")\n",
        "imdb[\"test\"][0]\n",
        "'''\n",
        "\n",
        "#python dictionary\n",
        "target_map = {\"lung cancer\" : 0,  \"kidney disease\": 1  ,  \"heart disease\" : 2 , \"breast cancer\" : 3 ,\"colorectal cancer\" :  4 }\n",
        "\n",
        "df['target'] = df['Category'].map(target_map)\n",
        "\n",
        "#print(df['target'][0])\n",
        "\n",
        "df1 = df[['Description','target']]\n",
        "df1.columns = ['text','label']\n",
        "\n",
        "\n",
        "df2 = df1.fillna(0)\n",
        "\n",
        "print(df2.head())\n",
        "\n",
        "df1['label'] = df2.label.astype(int)\n",
        "\n",
        "\n",
        "\n",
        "df1.to_csv('data.csv', index = False)\n",
        "\n",
        "\n",
        "print(df1.head())\n",
        "\n",
        "\n",
        "\n",
        "\n",
        "#print(\"All sentence is:\\n\",df1.sentence.str.len())\n",
        "print(\"Longest length is:\\n\",df1.text.str.len().max())\n",
        "\n"
      ]
    },
    {
      "cell_type": "markdown",
      "metadata": {
        "id": "AU9Y7Puiaecz"
      },
      "source": [
        "#### Tokenization"
      ]
    },
    {
      "cell_type": "code",
      "source": [
        "!pip install datasets\n",
        "!pip install git+https://github.com/huggingface/transformers # Get the newest transformers , not colab default version\n",
        "\n",
        "# bash script"
      ],
      "metadata": {
        "colab": {
          "base_uri": "https://localhost:8080/",
          "height": 1000
        },
        "id": "1rNfFyA4a8ET",
        "outputId": "0060bef0-2420-4d6f-c0ff-51452110f3ef"
      },
      "execution_count": 5,
      "outputs": [
        {
          "output_type": "stream",
          "name": "stdout",
          "text": [
            "Collecting datasets\n",
            "  Downloading datasets-2.20.0-py3-none-any.whl (547 kB)\n",
            "\u001b[2K     \u001b[90m━━━━━━━━━━━━━━━━━━━━━━━━━━━━━━━━━━━━━━━━\u001b[0m \u001b[32m547.8/547.8 kB\u001b[0m \u001b[31m4.7 MB/s\u001b[0m eta \u001b[36m0:00:00\u001b[0m\n",
            "\u001b[?25hRequirement already satisfied: filelock in /usr/local/lib/python3.10/dist-packages (from datasets) (3.15.4)\n",
            "Requirement already satisfied: numpy>=1.17 in /usr/local/lib/python3.10/dist-packages (from datasets) (1.25.2)\n",
            "Collecting pyarrow>=15.0.0 (from datasets)\n",
            "  Downloading pyarrow-17.0.0-cp310-cp310-manylinux_2_28_x86_64.whl (39.9 MB)\n",
            "\u001b[2K     \u001b[90m━━━━━━━━━━━━━━━━━━━━━━━━━━━━━━━━━━━━━━━━\u001b[0m \u001b[32m39.9/39.9 MB\u001b[0m \u001b[31m16.6 MB/s\u001b[0m eta \u001b[36m0:00:00\u001b[0m\n",
            "\u001b[?25hRequirement already satisfied: pyarrow-hotfix in /usr/local/lib/python3.10/dist-packages (from datasets) (0.6)\n",
            "Collecting dill<0.3.9,>=0.3.0 (from datasets)\n",
            "  Downloading dill-0.3.8-py3-none-any.whl (116 kB)\n",
            "\u001b[2K     \u001b[90m━━━━━━━━━━━━━━━━━━━━━━━━━━━━━━━━━━━━━━━━\u001b[0m \u001b[32m116.3/116.3 kB\u001b[0m \u001b[31m16.6 MB/s\u001b[0m eta \u001b[36m0:00:00\u001b[0m\n",
            "\u001b[?25hRequirement already satisfied: pandas in /usr/local/lib/python3.10/dist-packages (from datasets) (2.0.3)\n",
            "Collecting requests>=2.32.2 (from datasets)\n",
            "  Downloading requests-2.32.3-py3-none-any.whl (64 kB)\n",
            "\u001b[2K     \u001b[90m━━━━━━━━━━━━━━━━━━━━━━━━━━━━━━━━━━━━━━━━\u001b[0m \u001b[32m64.9/64.9 kB\u001b[0m \u001b[31m9.2 MB/s\u001b[0m eta \u001b[36m0:00:00\u001b[0m\n",
            "\u001b[?25hRequirement already satisfied: tqdm>=4.66.3 in /usr/local/lib/python3.10/dist-packages (from datasets) (4.66.4)\n",
            "Collecting xxhash (from datasets)\n",
            "  Downloading xxhash-3.4.1-cp310-cp310-manylinux_2_17_x86_64.manylinux2014_x86_64.whl (194 kB)\n",
            "\u001b[2K     \u001b[90m━━━━━━━━━━━━━━━━━━━━━━━━━━━━━━━━━━━━━━━━\u001b[0m \u001b[32m194.1/194.1 kB\u001b[0m \u001b[31m22.2 MB/s\u001b[0m eta \u001b[36m0:00:00\u001b[0m\n",
            "\u001b[?25hCollecting multiprocess (from datasets)\n",
            "  Downloading multiprocess-0.70.16-py310-none-any.whl (134 kB)\n",
            "\u001b[2K     \u001b[90m━━━━━━━━━━━━━━━━━━━━━━━━━━━━━━━━━━━━━━━━\u001b[0m \u001b[32m134.8/134.8 kB\u001b[0m \u001b[31m19.1 MB/s\u001b[0m eta \u001b[36m0:00:00\u001b[0m\n",
            "\u001b[?25hRequirement already satisfied: fsspec[http]<=2024.5.0,>=2023.1.0 in /usr/local/lib/python3.10/dist-packages (from datasets) (2023.6.0)\n",
            "Requirement already satisfied: aiohttp in /usr/local/lib/python3.10/dist-packages (from datasets) (3.9.5)\n",
            "Requirement already satisfied: huggingface-hub>=0.21.2 in /usr/local/lib/python3.10/dist-packages (from datasets) (0.23.4)\n",
            "Requirement already satisfied: packaging in /usr/local/lib/python3.10/dist-packages (from datasets) (24.1)\n",
            "Requirement already satisfied: pyyaml>=5.1 in /usr/local/lib/python3.10/dist-packages (from datasets) (6.0.1)\n",
            "Requirement already satisfied: aiosignal>=1.1.2 in /usr/local/lib/python3.10/dist-packages (from aiohttp->datasets) (1.3.1)\n",
            "Requirement already satisfied: attrs>=17.3.0 in /usr/local/lib/python3.10/dist-packages (from aiohttp->datasets) (23.2.0)\n",
            "Requirement already satisfied: frozenlist>=1.1.1 in /usr/local/lib/python3.10/dist-packages (from aiohttp->datasets) (1.4.1)\n",
            "Requirement already satisfied: multidict<7.0,>=4.5 in /usr/local/lib/python3.10/dist-packages (from aiohttp->datasets) (6.0.5)\n",
            "Requirement already satisfied: yarl<2.0,>=1.0 in /usr/local/lib/python3.10/dist-packages (from aiohttp->datasets) (1.9.4)\n",
            "Requirement already satisfied: async-timeout<5.0,>=4.0 in /usr/local/lib/python3.10/dist-packages (from aiohttp->datasets) (4.0.3)\n",
            "Requirement already satisfied: typing-extensions>=3.7.4.3 in /usr/local/lib/python3.10/dist-packages (from huggingface-hub>=0.21.2->datasets) (4.12.2)\n",
            "Requirement already satisfied: charset-normalizer<4,>=2 in /usr/local/lib/python3.10/dist-packages (from requests>=2.32.2->datasets) (3.3.2)\n",
            "Requirement already satisfied: idna<4,>=2.5 in /usr/local/lib/python3.10/dist-packages (from requests>=2.32.2->datasets) (3.7)\n",
            "Requirement already satisfied: urllib3<3,>=1.21.1 in /usr/local/lib/python3.10/dist-packages (from requests>=2.32.2->datasets) (2.0.7)\n",
            "Requirement already satisfied: certifi>=2017.4.17 in /usr/local/lib/python3.10/dist-packages (from requests>=2.32.2->datasets) (2024.7.4)\n",
            "Requirement already satisfied: python-dateutil>=2.8.2 in /usr/local/lib/python3.10/dist-packages (from pandas->datasets) (2.8.2)\n",
            "Requirement already satisfied: pytz>=2020.1 in /usr/local/lib/python3.10/dist-packages (from pandas->datasets) (2023.4)\n",
            "Requirement already satisfied: tzdata>=2022.1 in /usr/local/lib/python3.10/dist-packages (from pandas->datasets) (2024.1)\n",
            "Requirement already satisfied: six>=1.5 in /usr/local/lib/python3.10/dist-packages (from python-dateutil>=2.8.2->pandas->datasets) (1.16.0)\n",
            "Installing collected packages: xxhash, requests, pyarrow, dill, multiprocess, datasets\n",
            "  Attempting uninstall: requests\n",
            "    Found existing installation: requests 2.31.0\n",
            "    Uninstalling requests-2.31.0:\n",
            "      Successfully uninstalled requests-2.31.0\n",
            "  Attempting uninstall: pyarrow\n",
            "    Found existing installation: pyarrow 14.0.2\n",
            "    Uninstalling pyarrow-14.0.2:\n",
            "      Successfully uninstalled pyarrow-14.0.2\n",
            "\u001b[31mERROR: pip's dependency resolver does not currently take into account all the packages that are installed. This behaviour is the source of the following dependency conflicts.\n",
            "cudf-cu12 24.4.1 requires pyarrow<15.0.0a0,>=14.0.1, but you have pyarrow 17.0.0 which is incompatible.\n",
            "google-colab 1.0.0 requires requests==2.31.0, but you have requests 2.32.3 which is incompatible.\n",
            "ibis-framework 8.0.0 requires pyarrow<16,>=2, but you have pyarrow 17.0.0 which is incompatible.\u001b[0m\u001b[31m\n",
            "\u001b[0mSuccessfully installed datasets-2.20.0 dill-0.3.8 multiprocess-0.70.16 pyarrow-17.0.0 requests-2.32.3 xxhash-3.4.1\n"
          ]
        },
        {
          "output_type": "display_data",
          "data": {
            "application/vnd.colab-display-data+json": {
              "pip_warning": {
                "packages": [
                  "pyarrow",
                  "requests"
                ]
              },
              "id": "397d2807eef94a0085e24b93a234cbaa"
            }
          },
          "metadata": {}
        }
      ]
    },
    {
      "cell_type": "code",
      "execution_count": 7,
      "metadata": {
        "colab": {
          "base_uri": "https://localhost:8080/",
          "height": 191,
          "referenced_widgets": [
            "d6bca5c0f305485f9830b54532a4df68",
            "515c3aba853b4d20b40a05f26394fc9f",
            "406f9719cae6468c83f41a17d803f019",
            "e5379d18f4b14b39b705a21759f85cc3",
            "678d20bb7b374c4d9abc340cef65943c",
            "bcf8e7636459492eb511e7fc2f1e3a18",
            "c08f300043e4471dbeef1ab6855cfe3b",
            "6a641bc7f0b14dd58499d4f0949741de",
            "fffa9fc83d43454782786b3053147858",
            "b0f9f4a49e01494896b5840481652903",
            "806eb73db734444f84bdcd17fa5b2f77"
          ]
        },
        "id": "QjoF4JnTaecz",
        "outputId": "32e82a3f-df7b-4f30-d487-cbf28e53dcf0"
      },
      "outputs": [
        {
          "output_type": "display_data",
          "data": {
            "text/plain": [
              "Generating train split: 0 examples [00:00, ? examples/s]"
            ],
            "application/vnd.jupyter.widget-view+json": {
              "version_major": 2,
              "version_minor": 0,
              "model_id": "d6bca5c0f305485f9830b54532a4df68"
            }
          },
          "metadata": {}
        },
        {
          "output_type": "stream",
          "name": "stdout",
          "text": [
            "DatasetDict({\n",
            "    train: Dataset({\n",
            "        features: ['text', 'label'],\n",
            "        num_rows: 3202\n",
            "    })\n",
            "})\n",
            "{'text': \"I've been dealing with this huge pain in my right upper quadrant for the past two months, and it's been getting worse. It's this dull ache, and it really bothers me. Even touching the area feels tender. But that's not all. I've noticed that I have bad appetite and my body weight drop significantly recently, and I always feel so tired. Over the past week, my legs have been swelling up, especially around the ankles. I can't exercise like I used to, and even simple things like taking a shower or brushing my teeth leave me short of breath and exhausted. It's weird; I've had to prop myself up to sleep the last couple of nights because I couldn't breathe well lying down. I've had heart failure, high cholesterol and high blood pressure since my early 40s. I've also suffered from diabetes, which has been under control. I've been on disability for a while now, and I'm covered by Medicaid. I've had gotten two doses of Pfizer COVID vaccine. I don’t know whether they are this the reason. Oh, in my 20s, I had two surgeries and removed both my appendix and tonsils. I'm really concerned about what's going on, especially with my heart history. Docter, can you help me figure out what's happening and what we can do about it?\", 'label': 2}\n"
          ]
        }
      ],
      "source": [
        "'''\n",
        "def preprocess_function(examples):\n",
        "    return tokenizer(examples[\"text\"], truncation=True)\n",
        "\n",
        "tokenized_imdb = imdb.map(preprocess_function, batched=True)\n",
        "'''\n",
        "\n",
        "# make datasets\n",
        "from datasets import load_dataset\n",
        "\n",
        "\n",
        "raw_dataset = load_dataset('csv', data_files = 'data.csv')\n",
        "\n",
        "print(raw_dataset)\n",
        "\n",
        "print(raw_dataset['train'][0])\n",
        "\n",
        "\n"
      ]
    },
    {
      "cell_type": "code",
      "execution_count": 2,
      "metadata": {
        "id": "A8_TEZO-aec0",
        "outputId": "89ed74ef-dfa7-4d97-b8ca-b61a53351082",
        "colab": {
          "base_uri": "https://localhost:8080/"
        }
      },
      "outputs": [
        {
          "output_type": "stream",
          "name": "stdout",
          "text": [
            "{'text': \"I've been dealing with this huge pain in my right upper quadrant for the past two months, and it's been getting worse. It's this dull ache, and it really bothers me. Even touching the area feels tender. But that's not all. I've noticed that I have bad appetite and my body weight drop significantly recently, and I always feel so tired. Over the past week, my legs have been swelling up, especially around the ankles. I can't exercise like I used to, and even simple things like taking a shower or brushing my teeth leave me short of breath and exhausted. It's weird; I've had to prop myself up to sleep the last couple of nights because I couldn't breathe well lying down. I've had heart failure, high cholesterol and high blood pressure since my early 40s. I've also suffered from diabetes, which has been under control. I've been on disability for a while now, and I'm covered by Medicaid. I've had gotten two doses of Pfizer COVID vaccine. I don’t know whether they are this the reason. Oh, in my 20s, I had two surgeries and removed both my appendix and tonsils. I'm really concerned about what's going on, especially with my heart history. Docter, can you help me figure out what's happening and what we can do about it?\", 'label': 2}\n",
            "{'text': \"Doctor, over the past few months, I've noticed that after even minor physical activities, I've been feeling unusually tired and short of breath. Recently, I've also experienced mild chest discomfort, especially during exertion. It's like my heart is working harder than usual.\", 'label': 2}\n",
            "{'text': \"Hi, um, I've been feeling really tired all the time, and it's been going on for a while now. I also have this weird thing where my heart beats really fast, and it's hard to breathe. That's been getting worse over the past month. And, well, I've had this fever and I've been losing weight for about a month too. There's something going on with my leg too. It started hurting and swelling up with redness on my left thigh about a month ago. I remember falling in the rice field, so maybe that's related? The pain has been getting worse. I haven't been feeling well overall, and now I'm here. I guess the doctors said something about severe malnutrition. I don't know; it's just been kind of rough lately, and I'm not sure why all these things are happening. Doctor, can you help figure out what's going on?\", 'label': 2}\n",
            "{'text': \"Over the last three weeks, I've observed a consistent shortness of breath that's not confined to physical exertion. It's present even during moments of rest, and I'm uncertain about what might be triggering it.\", 'label': 2}\n",
            "{'text': \"My tummy often feels queasy, especially after eating, and it's tough because my legs ache a lot. Playing with my friends becomes a challenge, and I just wish I could enjoy things without feeling sick all the time.\", 'label': 2}\n",
            "{'text': \"I've been having this persistent discomfort in my chest, Doctor, and I'm worried about the possibility of a blood clot or thrombosis. It's been going on for the past couple of weeks.\", 'label': 2}\n",
            "{'text': \"Doctor, an uncomfortable constriction in my chest has persisted for about 55 minutes, and an unrelenting, throbbing pain shoots down my left arm. Breathing is difficult, and I'm soaked in inexplicable sweat.\", 'label': 2}\n",
            "{'text': \"Doctor, I'm really concerned. For about two weeks now, my energy levels are just on the floor. I can barely get through the day without feeling exhausted. And my feet, they're all swollen. Plus, my pee's been kind of scanty. It's weird.\", 'label': 1}\n",
            "{'text': \"I've been feeling really tired lately, more than usual. I've also noticed some swelling in my ankles and feet. It's been going on for a couple of weeks now. I thought it was just because of my new exercise routine, but it doesn't seem to be getting better.\", 'label': 1}\n",
            "{'text': \"Doctor, I'm quite concerned because for the past six weeks, I've been experiencing this overwhelming fatigue. It's not just feeling tired; it's like a deep exhaustion that doesn't improve with rest. Along with this, there's noticeable swelling in my legs and ankles, which gets particularly bad by the evening. I can actually press my finger into my shin and leave an indentation.\", 'label': 1}\n",
            "{'text': \"I've been feeling really tired lately, doc. My urine is dark and foamy, and I've noticed some swelling in my ankles and face. These symptoms have been bothering me for about a month now.\", 'label': 1}\n",
            "{'text': \"I keep having to pee a lot, especially at night, and it's really bright yellow. I've been getting fevers and night sweats and this dull pain in my belly. It's been like this for about a month.\", 'label': 1}\n",
            "{'text': \"I've been having pain in my lower back for the past few months, Doctor. It's a dull ache that comes and goes. Sometimes I feel a bit bloated, but I thought it was just indigestion. The pain has been persistent, though.\", 'label': 1}\n",
            "{'text': \"Hey Doc, I've been feeling pretty lousy lately. For about four months now, I've had this nagging pain in my lower back, mostly on the right side. Sometimes it's so intense that I can't find a comfortable position to sit or lie down. On top of that, I've noticed my urine looking darker than usual, and I have trouble starting to pee sometimes. Is there something wrong?\", 'label': 1}\n",
            "{'text': \"I'm a 46-year-old guy, worked in a factory. Hoarseness is my new normal, and there's this persistent headache that won't quit.\", 'label': 0}\n",
            "{'text': \"Occasional smoker. Shortness of breath and this nagging cough are making me rethink my choices. I'm a 33-year-old man, living in a region with poor air quality.\", 'label': 0}\n",
            "{'text': \"Turning 42, one child. My nipple inverted recently, and it's concerning. With no family history, it's time to schedule a breast checkup.\", 'label': 3}\n",
            "{'text': \"I'm 50, beginning menopause at an older age. Recently, my breast skin started peeling, and there's subtle itching. It's not just dry skin; something feels off. Time to get it checked.\", 'label': 3}\n",
            "{'text': \"I'm a 41-year-old woman, a photographer with a personal history of digestive concerns. Constant fatigue and unexplained weight loss are causing me to question and seek answers.\", 'label': 4}\n",
            "{'text': 'At 55, a man with a sedentary lifestyle. Experiencing constant fatigue and unexplained weight loss.', 'label': 4}\n"
          ]
        }
      ],
      "source": [
        "for i in range(0 ,3000, 150) :\n",
        "    print(raw_dataset['train'][i])"
      ]
    },
    {
      "cell_type": "code",
      "execution_count": 8,
      "metadata": {
        "colab": {
          "base_uri": "https://localhost:8080/"
        },
        "id": "lYELW_iBaec0",
        "outputId": "e08619a9-df15-4108-9174-76140e2a9144"
      },
      "outputs": [
        {
          "output_type": "stream",
          "name": "stdout",
          "text": [
            "DatasetDict({\n",
            "    train: Dataset({\n",
            "        features: ['text', 'label'],\n",
            "        num_rows: 2241\n",
            "    })\n",
            "    test: Dataset({\n",
            "        features: ['text', 'label'],\n",
            "        num_rows: 961\n",
            "    })\n",
            "})\n",
            "{'text': \"Over the recent fortnight, I've been ensconced in episodes typified by bradycardic manifestations, concomitant with discernible asthenia and prostration. These incidents seem to transpire capriciously, irrespective of periods of repose or engagement in trifling activities. Episodically, I've also experienced episodes of syncopal predisposition and cognitive attenuation. Given the protraction and accentuation of these symptoms, I am inclined to confer with you to deliberate upon potential causative factors and formulate cogent remedial strategies.\", 'label': 2}\n"
          ]
        }
      ],
      "source": [
        "split = raw_dataset['train'].train_test_split(test_size=0.3, seed=42)\n",
        "\n",
        "print(split)\n",
        "\n",
        "print(split['train'][2])"
      ]
    },
    {
      "cell_type": "code",
      "execution_count": 11,
      "metadata": {
        "colab": {
          "base_uri": "https://localhost:8080/",
          "height": 118,
          "referenced_widgets": [
            "dea81b14e241497f937158aba345b077",
            "e92d8a62f6af4d99aac533dcea626aab",
            "a6f4ff5627dc4de7bd275170ee981f26",
            "f7c79720fef64b6a90eb5f6dc4652f9d",
            "754cfa0f20514e9a892c00c2c89cdde9",
            "22e3ff95ec16402cbb851a6d2abb9fee",
            "7e23aff9b960494495a68670bd87cf89",
            "30fb6a7674da4f36adf02d803a08f82c",
            "3e3551c3b600420d9443c8cdaadbd52a",
            "ed5b0631f2ef45d28b2a027410d81862",
            "7cb5ee9c3312492785b4371970121e10",
            "83266f6342ae4a91bfa7121d67205a35",
            "54a45044d5de440fb31be802d84e1435",
            "831b74f1c988455db25a1cd2167dca29",
            "5b1a24f127b6462fa2f09c1839b85a98",
            "19c66608006646e7bcfddb234d34dc13",
            "eb5cccd0dc8d4f08b1f0f0b06c621d4c",
            "ccba5f47d5b94d359aa3e9ffa631d393",
            "d03fbbff471546ea812dd3e1f860cf08",
            "f9a7a523b7814933888b861aaa37f059",
            "c188bc0a47d9473a89c5bd570e999da3",
            "53698b2a39884e98b9cbef45a204ae34"
          ]
        },
        "id": "FwP_o1Mmaec0",
        "outputId": "c8701b4b-459d-4b7d-d74f-0c28e6c1066d"
      },
      "outputs": [
        {
          "output_type": "display_data",
          "data": {
            "text/plain": [
              "Map:   0%|          | 0/2241 [00:00<?, ? examples/s]"
            ],
            "application/vnd.jupyter.widget-view+json": {
              "version_major": 2,
              "version_minor": 0,
              "model_id": "dea81b14e241497f937158aba345b077"
            }
          },
          "metadata": {}
        },
        {
          "output_type": "display_data",
          "data": {
            "text/plain": [
              "Map:   0%|          | 0/961 [00:00<?, ? examples/s]"
            ],
            "application/vnd.jupyter.widget-view+json": {
              "version_major": 2,
              "version_minor": 0,
              "model_id": "83266f6342ae4a91bfa7121d67205a35"
            }
          },
          "metadata": {}
        },
        {
          "output_type": "stream",
          "name": "stdout",
          "text": [
            "{'text': \"I've been having episodes of rapid heartbeat that coincide with a feeling of tightness and discomfort in my chest. These occurrences tend to happen unexpectedly and can last for varying durations. Alongside the palpitations, I've experienced moments of light-headedness and a persistent sense of unease. Recognizing the potential seriousness of these symptoms, I decided it's important to consult with you to determine the underlying cause and discuss appropriate measures to address the issue.\", 'label': 2, 'input_ids': [101, 1045, 1005, 2310, 2042, 2383, 4178, 1997, 5915, 12251, 2008, 19680, 2007, 1037, 3110, 1997, 4389, 2791, 1998, 17964, 1999, 2026, 3108, 1012, 2122, 27247, 7166, 2000, 4148, 14153, 1998, 2064, 2197, 2005, 9671, 9367, 2015, 1012, 4077, 1996, 14412, 23270, 10708, 1010, 1045, 1005, 2310, 5281, 5312, 1997, 2422, 1011, 3753, 2791, 1998, 1037, 14516, 3168, 1997, 27880, 1012, 14622, 1996, 4022, 27994, 1997, 2122, 8030, 1010, 1045, 2787, 2009, 1005, 1055, 2590, 2000, 23363, 2007, 2017, 2000, 5646, 1996, 10318, 3426, 1998, 6848, 6413, 5761, 2000, 4769, 1996, 3277, 1012, 102], 'attention_mask': [1, 1, 1, 1, 1, 1, 1, 1, 1, 1, 1, 1, 1, 1, 1, 1, 1, 1, 1, 1, 1, 1, 1, 1, 1, 1, 1, 1, 1, 1, 1, 1, 1, 1, 1, 1, 1, 1, 1, 1, 1, 1, 1, 1, 1, 1, 1, 1, 1, 1, 1, 1, 1, 1, 1, 1, 1, 1, 1, 1, 1, 1, 1, 1, 1, 1, 1, 1, 1, 1, 1, 1, 1, 1, 1, 1, 1, 1, 1, 1, 1, 1, 1, 1, 1, 1, 1, 1, 1, 1, 1, 1, 1, 1]}\n"
          ]
        }
      ],
      "source": [
        "from transformers import AutoTokenizer\n",
        "# transformers\n",
        "\n",
        "\n",
        "tokenizer = AutoTokenizer.from_pretrained(\"distilbert-base-uncased\")\n",
        "\n",
        "# distill Bert\n",
        "\n",
        "\n",
        "max_length = 2302\n",
        "\n",
        "\n",
        "# tokenize\n",
        "def tokenize_fn(batch):\n",
        "  return tokenizer(batch['text'] , truncation = True )\n",
        "  #return tokenizer(batch['sentence'], truncation = True, padding = True , return_tensors=\"pt\")\n",
        "\n",
        "#print(split)\n",
        "\n",
        "tokenized_dataset = split.map(tokenize_fn, batched = True)\n",
        "\n",
        "\n",
        "print(tokenized_dataset['train'][132])\n",
        "\n",
        "\n"
      ]
    },
    {
      "cell_type": "markdown",
      "metadata": {
        "id": "cBiFCLkuaec0"
      },
      "source": [
        "Split the Dataset to test and train\n",
        "- test-size = 0.3\n",
        "- seed = 42"
      ]
    },
    {
      "cell_type": "code",
      "execution_count": 12,
      "metadata": {
        "colab": {
          "base_uri": "https://localhost:8080/"
        },
        "id": "o_2euiORaec1",
        "outputId": "cca86033-441c-4fc5-def9-5008aeb6b929"
      },
      "outputs": [
        {
          "output_type": "execute_result",
          "data": {
            "text/plain": [
              "DatasetDict({\n",
              "    train: Dataset({\n",
              "        features: ['text', 'label', 'input_ids', 'attention_mask'],\n",
              "        num_rows: 2241\n",
              "    })\n",
              "    test: Dataset({\n",
              "        features: ['text', 'label', 'input_ids', 'attention_mask'],\n",
              "        num_rows: 961\n",
              "    })\n",
              "})"
            ]
          },
          "metadata": {},
          "execution_count": 12
        }
      ],
      "source": [
        "\n",
        "tokenized_dataset\n"
      ]
    },
    {
      "cell_type": "code",
      "execution_count": 13,
      "metadata": {
        "colab": {
          "base_uri": "https://localhost:8080/"
        },
        "id": "oaoltT8jaec1",
        "outputId": "384199b7-b090-4cf2-bffb-34d28e9e4e07"
      },
      "outputs": [
        {
          "output_type": "stream",
          "name": "stdout",
          "text": [
            "{'text': \"Turning 50, I'm a man, a construction worker with a personal history of digestive issues. Noticing blood in the stool and ongoing abdominal pain has prompted me to consider potential causes.\", 'label': 4, 'input_ids': [101, 3810, 2753, 1010, 1045, 1005, 1049, 1037, 2158, 1010, 1037, 2810, 7309, 2007, 1037, 3167, 2381, 1997, 17886, 3512, 3314, 1012, 15103, 2668, 1999, 1996, 14708, 1998, 7552, 21419, 3255, 2038, 9469, 2033, 2000, 5136, 4022, 5320, 1012, 102], 'attention_mask': [1, 1, 1, 1, 1, 1, 1, 1, 1, 1, 1, 1, 1, 1, 1, 1, 1, 1, 1, 1, 1, 1, 1, 1, 1, 1, 1, 1, 1, 1, 1, 1, 1, 1, 1, 1, 1, 1, 1, 1]}\n",
            "{'text': \"Always tired, and this cough just won't go away. Used to work in a dusty environment. I'm a 38-year-old woman.\", 'label': 0, 'input_ids': [101, 2467, 5458, 1010, 1998, 2023, 19340, 2074, 2180, 1005, 1056, 2175, 2185, 1012, 2109, 2000, 2147, 1999, 1037, 12727, 4044, 1012, 1045, 1005, 1049, 1037, 4229, 1011, 2095, 1011, 2214, 2450, 1012, 102], 'attention_mask': [1, 1, 1, 1, 1, 1, 1, 1, 1, 1, 1, 1, 1, 1, 1, 1, 1, 1, 1, 1, 1, 1, 1, 1, 1, 1, 1, 1, 1, 1, 1, 1, 1, 1]}\n",
            "{'text': \"Over the recent fortnight, I've been ensconced in episodes typified by bradycardic manifestations, concomitant with discernible asthenia and prostration. These incidents seem to transpire capriciously, irrespective of periods of repose or engagement in trifling activities. Episodically, I've also experienced episodes of syncopal predisposition and cognitive attenuation. Given the protraction and accentuation of these symptoms, I am inclined to confer with you to deliberate upon potential causative factors and formulate cogent remedial strategies.\", 'label': 2, 'input_ids': [101, 2058, 1996, 3522, 3481, 15864, 1010, 1045, 1005, 2310, 2042, 4372, 9363, 5897, 2094, 1999, 4178, 5939, 8197, 10451, 2011, 10184, 11522, 2594, 24491, 2015, 1010, 9530, 9006, 25451, 2102, 2007, 5860, 11795, 7028, 2004, 10760, 6200, 1998, 4013, 20528, 3508, 1012, 2122, 10444, 4025, 2000, 9099, 20781, 6178, 7277, 19426, 1010, 20868, 6072, 5051, 15277, 1997, 6993, 1997, 16360, 9232, 2030, 8147, 1999, 13012, 10258, 2075, 3450, 1012, 4958, 19565, 14808, 3973, 1010, 1045, 1005, 2310, 2036, 5281, 4178, 1997, 26351, 29477, 2140, 3653, 10521, 26994, 1998, 10699, 2012, 6528, 14505, 1012, 2445, 1996, 4013, 6494, 7542, 1998, 9669, 14505, 1997, 2122, 8030, 1010, 1045, 2572, 13050, 2000, 9530, 7512, 2007, 2017, 2000, 15063, 2588, 4022, 6187, 10383, 6024, 5876, 1998, 5675, 2618, 2522, 11461, 2128, 16969, 2140, 9942, 1012, 102], 'attention_mask': [1, 1, 1, 1, 1, 1, 1, 1, 1, 1, 1, 1, 1, 1, 1, 1, 1, 1, 1, 1, 1, 1, 1, 1, 1, 1, 1, 1, 1, 1, 1, 1, 1, 1, 1, 1, 1, 1, 1, 1, 1, 1, 1, 1, 1, 1, 1, 1, 1, 1, 1, 1, 1, 1, 1, 1, 1, 1, 1, 1, 1, 1, 1, 1, 1, 1, 1, 1, 1, 1, 1, 1, 1, 1, 1, 1, 1, 1, 1, 1, 1, 1, 1, 1, 1, 1, 1, 1, 1, 1, 1, 1, 1, 1, 1, 1, 1, 1, 1, 1, 1, 1, 1, 1, 1, 1, 1, 1, 1, 1, 1, 1, 1, 1, 1, 1, 1, 1, 1, 1, 1, 1, 1, 1, 1, 1, 1, 1, 1, 1, 1, 1, 1]}\n",
            "{'text': \"Occasional smoker. Shortness of breath and this nagging cough are making me rethink my choices. I'm a 33-year-old man.\", 'label': 0, 'input_ids': [101, 8138, 5610, 2099, 1012, 2460, 2791, 1997, 3052, 1998, 2023, 6583, 12588, 19340, 2024, 2437, 2033, 2128, 15222, 8950, 2026, 9804, 1012, 1045, 1005, 1049, 1037, 3943, 1011, 2095, 1011, 2214, 2158, 1012, 102], 'attention_mask': [1, 1, 1, 1, 1, 1, 1, 1, 1, 1, 1, 1, 1, 1, 1, 1, 1, 1, 1, 1, 1, 1, 1, 1, 1, 1, 1, 1, 1, 1, 1, 1, 1, 1, 1]}\n",
            "{'text': \"You know, for the past year, my heart's been acting all funny, like irregular beats or something. At the same time, my chest feels super tight, and I just don't have the usual energy. I was thinking, could this be related to a valve thing in my heart? Like maybe the valve is not working right?\", 'label': 2, 'input_ids': [101, 2017, 2113, 1010, 2005, 1996, 2627, 2095, 1010, 2026, 2540, 1005, 1055, 2042, 3772, 2035, 6057, 1010, 2066, 12052, 10299, 2030, 2242, 1012, 2012, 1996, 2168, 2051, 1010, 2026, 3108, 5683, 3565, 4389, 1010, 1998, 1045, 2074, 2123, 1005, 1056, 2031, 1996, 5156, 2943, 1012, 1045, 2001, 3241, 1010, 2071, 2023, 2022, 3141, 2000, 1037, 10764, 2518, 1999, 2026, 2540, 1029, 2066, 2672, 1996, 10764, 2003, 2025, 2551, 2157, 1029, 102], 'attention_mask': [1, 1, 1, 1, 1, 1, 1, 1, 1, 1, 1, 1, 1, 1, 1, 1, 1, 1, 1, 1, 1, 1, 1, 1, 1, 1, 1, 1, 1, 1, 1, 1, 1, 1, 1, 1, 1, 1, 1, 1, 1, 1, 1, 1, 1, 1, 1, 1, 1, 1, 1, 1, 1, 1, 1, 1, 1, 1, 1, 1, 1, 1, 1, 1, 1, 1, 1, 1, 1, 1, 1, 1]}\n",
            "{'text': \"At 49, I'm a man, an IT professional with a personal history of digestive issues. Experiencing constant fatigue and unexplained weight loss, it's time for me to seek guidance.\", 'label': 4, 'input_ids': [101, 2012, 4749, 1010, 1045, 1005, 1049, 1037, 2158, 1010, 2019, 2009, 2658, 2007, 1037, 3167, 2381, 1997, 17886, 3512, 3314, 1012, 13417, 5377, 16342, 1998, 16655, 2595, 24759, 18175, 2094, 3635, 3279, 1010, 2009, 1005, 1055, 2051, 2005, 2033, 2000, 6148, 8606, 1012, 102], 'attention_mask': [1, 1, 1, 1, 1, 1, 1, 1, 1, 1, 1, 1, 1, 1, 1, 1, 1, 1, 1, 1, 1, 1, 1, 1, 1, 1, 1, 1, 1, 1, 1, 1, 1, 1, 1, 1, 1, 1, 1, 1, 1, 1, 1, 1, 1]}\n",
            "{'text': \"Turning 44, thought I was past the risky age. But this newly inverted nipple is concerning. With my family history, it's time to schedule a breast checkup.\", 'label': 3, 'input_ids': [101, 3810, 4008, 1010, 2245, 1045, 2001, 2627, 1996, 19188, 2287, 1012, 2021, 2023, 4397, 20037, 14298, 2003, 7175, 1012, 2007, 2026, 2155, 2381, 1010, 2009, 1005, 1055, 2051, 2000, 6134, 1037, 7388, 4638, 6279, 1012, 102], 'attention_mask': [1, 1, 1, 1, 1, 1, 1, 1, 1, 1, 1, 1, 1, 1, 1, 1, 1, 1, 1, 1, 1, 1, 1, 1, 1, 1, 1, 1, 1, 1, 1, 1, 1, 1, 1, 1, 1]}\n",
            "{'text': \"It's been a strange few weeks of feeling constantly tired, and I can't seem to shake it off. I'm trying not to think the worst, but the duration is starting to make me uneasy.\", 'label': 2, 'input_ids': [101, 2009, 1005, 1055, 2042, 1037, 4326, 2261, 3134, 1997, 3110, 7887, 5458, 1010, 1998, 1045, 2064, 1005, 1056, 4025, 2000, 6073, 2009, 2125, 1012, 1045, 1005, 1049, 2667, 2025, 2000, 2228, 1996, 5409, 1010, 2021, 1996, 9367, 2003, 3225, 2000, 2191, 2033, 15491, 1012, 102], 'attention_mask': [1, 1, 1, 1, 1, 1, 1, 1, 1, 1, 1, 1, 1, 1, 1, 1, 1, 1, 1, 1, 1, 1, 1, 1, 1, 1, 1, 1, 1, 1, 1, 1, 1, 1, 1, 1, 1, 1, 1, 1, 1, 1, 1, 1, 1, 1]}\n",
            "{'text': \"Hi there, doc. So, for about two and a half months, I've been dealing with these sharp, stabbing pains on my side. They come and go, but when they hit, it's like a lightning strike. And here's the kicker - I've seen some red stuff in my pee a few times. What's going on inside me?\", 'label': 1, 'input_ids': [101, 7632, 2045, 1010, 9986, 1012, 2061, 1010, 2005, 2055, 2048, 1998, 1037, 2431, 2706, 1010, 1045, 1005, 2310, 2042, 7149, 2007, 2122, 4629, 1010, 21690, 20398, 2006, 2026, 2217, 1012, 2027, 2272, 1998, 2175, 1010, 2021, 2043, 2027, 2718, 1010, 2009, 1005, 1055, 2066, 1037, 7407, 4894, 1012, 1998, 2182, 1005, 1055, 1996, 22652, 1011, 1045, 1005, 2310, 2464, 2070, 2417, 4933, 1999, 2026, 21392, 1037, 2261, 2335, 1012, 2054, 1005, 1055, 2183, 2006, 2503, 2033, 1029, 102], 'attention_mask': [1, 1, 1, 1, 1, 1, 1, 1, 1, 1, 1, 1, 1, 1, 1, 1, 1, 1, 1, 1, 1, 1, 1, 1, 1, 1, 1, 1, 1, 1, 1, 1, 1, 1, 1, 1, 1, 1, 1, 1, 1, 1, 1, 1, 1, 1, 1, 1, 1, 1, 1, 1, 1, 1, 1, 1, 1, 1, 1, 1, 1, 1, 1, 1, 1, 1, 1, 1, 1, 1, 1, 1, 1, 1, 1, 1, 1, 1, 1]}\n",
            "{'text': \"At 55, I'm a man with a history of smoking. Recently noticed ongoing abdominal cramps and bloating, prompting me to consider potential lifestyle impacts.\", 'label': 4, 'input_ids': [101, 2012, 4583, 1010, 1045, 1005, 1049, 1037, 2158, 2007, 1037, 2381, 1997, 9422, 1012, 3728, 4384, 7552, 21419, 13675, 25167, 1998, 1038, 4135, 5844, 1010, 15870, 2033, 2000, 5136, 4022, 9580, 14670, 1012, 102], 'attention_mask': [1, 1, 1, 1, 1, 1, 1, 1, 1, 1, 1, 1, 1, 1, 1, 1, 1, 1, 1, 1, 1, 1, 1, 1, 1, 1, 1, 1, 1, 1, 1, 1, 1, 1, 1]}\n",
            "{'text': \"I'm a 50-year-old woman, a flight attendant with a personal history of digestive concerns. Experiencing constant fatigue and unexplained weight loss, it's time for me to seek guidance.\", 'label': 4, 'input_ids': [101, 1045, 1005, 1049, 1037, 2753, 1011, 2095, 1011, 2214, 2450, 1010, 1037, 3462, 16742, 2007, 1037, 3167, 2381, 1997, 17886, 3512, 5936, 1012, 13417, 5377, 16342, 1998, 16655, 2595, 24759, 18175, 2094, 3635, 3279, 1010, 2009, 1005, 1055, 2051, 2005, 2033, 2000, 6148, 8606, 1012, 102], 'attention_mask': [1, 1, 1, 1, 1, 1, 1, 1, 1, 1, 1, 1, 1, 1, 1, 1, 1, 1, 1, 1, 1, 1, 1, 1, 1, 1, 1, 1, 1, 1, 1, 1, 1, 1, 1, 1, 1, 1, 1, 1, 1, 1, 1, 1, 1, 1, 1]}\n",
            "{'text': \"Hi, Doctor. I've been feeling a constant ringing in my ears, occasional blurry vision, and increased fatigue. Could this be related to allergies or perhaps something with my eyesight?\", 'label': 2, 'input_ids': [101, 7632, 1010, 3460, 1012, 1045, 1005, 2310, 2042, 3110, 1037, 5377, 13060, 1999, 2026, 5551, 1010, 8138, 14819, 2854, 4432, 1010, 1998, 3445, 16342, 1012, 2071, 2023, 2022, 3141, 2000, 2035, 2121, 17252, 2030, 3383, 2242, 2007, 2026, 2159, 18743, 1029, 102], 'attention_mask': [1, 1, 1, 1, 1, 1, 1, 1, 1, 1, 1, 1, 1, 1, 1, 1, 1, 1, 1, 1, 1, 1, 1, 1, 1, 1, 1, 1, 1, 1, 1, 1, 1, 1, 1, 1, 1, 1, 1, 1, 1, 1, 1]}\n",
            "{'text': \"Doc, it's been a constant battle with shortness of breath, even at rest, for three years since my aortic valve got replaced. Could this be pointing to a heart problem or maybe the new valve isn't quite right?\", 'label': 2, 'input_ids': [101, 9986, 1010, 2009, 1005, 1055, 2042, 1037, 5377, 2645, 2007, 2460, 2791, 1997, 3052, 1010, 2130, 2012, 2717, 1010, 2005, 2093, 2086, 2144, 2026, 20118, 28228, 2278, 10764, 2288, 2999, 1012, 2071, 2023, 2022, 7302, 2000, 1037, 2540, 3291, 2030, 2672, 1996, 2047, 10764, 3475, 1005, 1056, 3243, 2157, 1029, 102], 'attention_mask': [1, 1, 1, 1, 1, 1, 1, 1, 1, 1, 1, 1, 1, 1, 1, 1, 1, 1, 1, 1, 1, 1, 1, 1, 1, 1, 1, 1, 1, 1, 1, 1, 1, 1, 1, 1, 1, 1, 1, 1, 1, 1, 1, 1, 1, 1, 1, 1, 1, 1, 1, 1]}\n",
            "{'text': 'In addition to the initial dyspnea and fever, the persistent leukocytosis, with a white blood cell count of 18,000/mm³ and neutrophilia at 80%, signaled an ongoing inflammatory response. These hematological abnormalities hinted at an underlying infectious or inflammatory etiology, prompting a thorough investigation to identify the root cause.', 'label': 2, 'input_ids': [101, 1999, 2804, 2000, 1996, 3988, 1040, 7274, 2361, 22084, 1998, 9016, 1010, 1996, 14516, 3393, 6968, 10085, 22123, 12650, 1010, 2007, 1037, 2317, 2668, 3526, 4175, 1997, 2324, 1010, 2199, 1013, 3461, 18107, 1998, 11265, 4904, 18981, 19466, 2401, 2012, 3770, 1003, 1010, 22319, 2019, 7552, 20187, 3433, 1012, 2122, 19610, 10610, 9966, 28828, 21795, 2012, 2019, 10318, 16514, 2030, 20187, 3802, 20569, 1010, 15870, 1037, 16030, 4812, 2000, 6709, 1996, 7117, 3426, 1012, 102], 'attention_mask': [1, 1, 1, 1, 1, 1, 1, 1, 1, 1, 1, 1, 1, 1, 1, 1, 1, 1, 1, 1, 1, 1, 1, 1, 1, 1, 1, 1, 1, 1, 1, 1, 1, 1, 1, 1, 1, 1, 1, 1, 1, 1, 1, 1, 1, 1, 1, 1, 1, 1, 1, 1, 1, 1, 1, 1, 1, 1, 1, 1, 1, 1, 1, 1, 1, 1, 1, 1, 1, 1, 1, 1, 1, 1, 1, 1]}\n",
            "{'text': \"I'm a 46-year-old woman, non-smoker. This new cough is accompanied by a strange ache in my chest. Can't ignore it any longer.\", 'label': 0, 'input_ids': [101, 1045, 1005, 1049, 1037, 4805, 1011, 2095, 1011, 2214, 2450, 1010, 2512, 1011, 5610, 2099, 1012, 2023, 2047, 19340, 2003, 5642, 2011, 1037, 4326, 12336, 1999, 2026, 3108, 1012, 2064, 1005, 1056, 8568, 2009, 2151, 2936, 1012, 102], 'attention_mask': [1, 1, 1, 1, 1, 1, 1, 1, 1, 1, 1, 1, 1, 1, 1, 1, 1, 1, 1, 1, 1, 1, 1, 1, 1, 1, 1, 1, 1, 1, 1, 1, 1, 1, 1, 1, 1, 1, 1]}\n",
            "{'text': \"Over the last ten months, I've been dealing with recurrent febrile episodes, accompanied by migrating joint pain. The pain tends to concentrate around my hips and shoulders, and I've noticed a decrease in my overall energy levels.\", 'label': 2, 'input_ids': [101, 2058, 1996, 2197, 2702, 2706, 1010, 1045, 1005, 2310, 2042, 7149, 2007, 28667, 29264, 13114, 15928, 2063, 4178, 1010, 5642, 2011, 28636, 4101, 3255, 1012, 1996, 3255, 12102, 2000, 10152, 2105, 2026, 6700, 1998, 4065, 1010, 1998, 1045, 1005, 2310, 4384, 1037, 9885, 1999, 2026, 3452, 2943, 3798, 1012, 102], 'attention_mask': [1, 1, 1, 1, 1, 1, 1, 1, 1, 1, 1, 1, 1, 1, 1, 1, 1, 1, 1, 1, 1, 1, 1, 1, 1, 1, 1, 1, 1, 1, 1, 1, 1, 1, 1, 1, 1, 1, 1, 1, 1, 1, 1, 1, 1, 1, 1, 1, 1, 1, 1]}\n",
            "{'text': \"40-year-old woman, always on the move. Lately, a persistent headache and this unexplained weight loss have thrown me off balance. It's time to prioritize my health.\", 'label': 0, 'input_ids': [101, 2871, 1011, 2095, 1011, 2214, 2450, 1010, 2467, 2006, 1996, 2693, 1012, 9906, 1010, 1037, 14516, 14978, 1998, 2023, 16655, 2595, 24759, 18175, 2094, 3635, 3279, 2031, 6908, 2033, 2125, 5703, 1012, 2009, 1005, 1055, 2051, 2000, 3188, 25090, 4371, 2026, 2740, 1012, 102], 'attention_mask': [1, 1, 1, 1, 1, 1, 1, 1, 1, 1, 1, 1, 1, 1, 1, 1, 1, 1, 1, 1, 1, 1, 1, 1, 1, 1, 1, 1, 1, 1, 1, 1, 1, 1, 1, 1, 1, 1, 1, 1, 1, 1, 1, 1, 1]}\n",
            "{'text': \"Hello, doctor. I've been dealing with these symptoms for over a year now, and it's been quite challenging. The palpitations and chest tightness have been bothering me, and lately, they've become even more severe with these episodes of rapid heartbeats, both ventricular and supraventricular. It's not just about my heart, though. My sleep quality has been terrible, and I feel weak. I've also noticed that my hands and feet are always cold, which is quite uncomfortable. Additionally, I've been experiencing a sore mouth and a dry throat. I saw another doctor at the beginning of the year. At that time, I used to be fat, and it is said that there were petechiae on my tongue, with my lips and tongue appearing dark red, but I don’t think it is related to my heart problem. I'm really concerned about what's happening, especially with the palpitations and the other symptoms. It's significantly affecting my daily life, and I'm struggling to cope. Is there anything we can do to figure out the cause of these symptoms and find a way to manage them?\", 'label': 2, 'input_ids': [101, 7592, 1010, 3460, 1012, 1045, 1005, 2310, 2042, 7149, 2007, 2122, 8030, 2005, 2058, 1037, 2095, 2085, 1010, 1998, 2009, 1005, 1055, 2042, 3243, 10368, 1012, 1996, 14412, 23270, 10708, 1998, 3108, 4389, 2791, 2031, 2042, 17067, 2033, 1010, 1998, 9906, 1010, 2027, 1005, 2310, 2468, 2130, 2062, 5729, 2007, 2122, 4178, 1997, 5915, 12251, 2015, 1010, 2119, 18834, 7277, 7934, 1998, 10514, 18098, 10696, 3372, 7277, 7934, 1012, 2009, 1005, 1055, 2025, 2074, 2055, 2026, 2540, 1010, 2295, 1012, 2026, 3637, 3737, 2038, 2042, 6659, 1010, 1998, 1045, 2514, 5410, 1012, 1045, 1005, 2310, 2036, 4384, 2008, 2026, 2398, 1998, 2519, 2024, 2467, 3147, 1010, 2029, 2003, 3243, 8796, 1012, 5678, 1010, 1045, 1005, 2310, 2042, 13417, 1037, 14699, 2677, 1998, 1037, 4318, 3759, 1012, 1045, 2387, 2178, 3460, 2012, 1996, 2927, 1997, 1996, 2095, 1012, 2012, 2008, 2051, 1010, 1045, 2109, 2000, 2022, 6638, 1010, 1998, 2009, 2003, 2056, 2008, 2045, 2020, 6969, 20881, 2063, 2006, 2026, 4416, 1010, 2007, 2026, 2970, 1998, 4416, 6037, 2601, 2417, 1010, 2021, 1045, 2123, 1521, 1056, 2228, 2009, 2003, 3141, 2000, 2026, 2540, 3291, 1012, 1045, 1005, 1049, 2428, 4986, 2055, 2054, 1005, 1055, 6230, 1010, 2926, 2007, 1996, 14412, 23270, 10708, 1998, 1996, 2060, 8030, 1012, 2009, 1005, 1055, 6022, 12473, 2026, 3679, 2166, 1010, 1998, 1045, 1005, 1049, 8084, 2000, 11997, 1012, 2003, 2045, 2505, 2057, 2064, 2079, 2000, 3275, 2041, 1996, 3426, 1997, 2122, 8030, 1998, 2424, 1037, 2126, 2000, 6133, 2068, 1029, 102], 'attention_mask': [1, 1, 1, 1, 1, 1, 1, 1, 1, 1, 1, 1, 1, 1, 1, 1, 1, 1, 1, 1, 1, 1, 1, 1, 1, 1, 1, 1, 1, 1, 1, 1, 1, 1, 1, 1, 1, 1, 1, 1, 1, 1, 1, 1, 1, 1, 1, 1, 1, 1, 1, 1, 1, 1, 1, 1, 1, 1, 1, 1, 1, 1, 1, 1, 1, 1, 1, 1, 1, 1, 1, 1, 1, 1, 1, 1, 1, 1, 1, 1, 1, 1, 1, 1, 1, 1, 1, 1, 1, 1, 1, 1, 1, 1, 1, 1, 1, 1, 1, 1, 1, 1, 1, 1, 1, 1, 1, 1, 1, 1, 1, 1, 1, 1, 1, 1, 1, 1, 1, 1, 1, 1, 1, 1, 1, 1, 1, 1, 1, 1, 1, 1, 1, 1, 1, 1, 1, 1, 1, 1, 1, 1, 1, 1, 1, 1, 1, 1, 1, 1, 1, 1, 1, 1, 1, 1, 1, 1, 1, 1, 1, 1, 1, 1, 1, 1, 1, 1, 1, 1, 1, 1, 1, 1, 1, 1, 1, 1, 1, 1, 1, 1, 1, 1, 1, 1, 1, 1, 1, 1, 1, 1, 1, 1, 1, 1, 1, 1, 1, 1, 1, 1, 1, 1, 1, 1, 1, 1, 1, 1, 1, 1, 1, 1, 1, 1, 1, 1, 1, 1, 1, 1, 1, 1, 1, 1, 1, 1, 1, 1, 1, 1, 1, 1, 1, 1, 1, 1, 1, 1, 1, 1, 1, 1, 1, 1, 1]}\n",
            "{'text': \"Former miner. Chest pain and breathlessness are my new normal. I'm a 48-year-old man.\", 'label': 0, 'input_ids': [101, 2280, 18594, 1012, 3108, 3255, 1998, 16701, 2791, 2024, 2026, 2047, 3671, 1012, 1045, 1005, 1049, 1037, 4466, 1011, 2095, 1011, 2214, 2158, 1012, 102], 'attention_mask': [1, 1, 1, 1, 1, 1, 1, 1, 1, 1, 1, 1, 1, 1, 1, 1, 1, 1, 1, 1, 1, 1, 1, 1, 1, 1]}\n",
            "{'text': \"Hey, 29-year-old woman here. Breathlessness has become my new norm, and an unexplained weight loss is raising eyebrows. This persistent cough isn't letting up, prompting a visit to the doctor.\", 'label': 0, 'input_ids': [101, 4931, 1010, 2756, 1011, 2095, 1011, 2214, 2450, 2182, 1012, 16701, 2791, 2038, 2468, 2026, 2047, 13373, 1010, 1998, 2019, 16655, 2595, 24759, 18175, 2094, 3635, 3279, 2003, 6274, 8407, 1012, 2023, 14516, 19340, 3475, 1005, 1056, 5599, 2039, 1010, 15870, 1037, 3942, 2000, 1996, 3460, 1012, 102], 'attention_mask': [1, 1, 1, 1, 1, 1, 1, 1, 1, 1, 1, 1, 1, 1, 1, 1, 1, 1, 1, 1, 1, 1, 1, 1, 1, 1, 1, 1, 1, 1, 1, 1, 1, 1, 1, 1, 1, 1, 1, 1, 1, 1, 1, 1, 1, 1, 1, 1, 1]}\n"
          ]
        }
      ],
      "source": [
        "for i in range(0,20):\n",
        "    print(tokenized_dataset['train'][i])\n"
      ]
    },
    {
      "cell_type": "code",
      "execution_count": 14,
      "metadata": {
        "colab": {
          "base_uri": "https://localhost:8080/"
        },
        "id": "fF3WIk2_aec1",
        "outputId": "751e8dfd-9275-4dba-e08b-418fd12ca6dd"
      },
      "outputs": [
        {
          "output_type": "stream",
          "name": "stdout",
          "text": [
            "DataCollatorWithPadding(tokenizer=DistilBertTokenizerFast(name_or_path='distilbert-base-uncased', vocab_size=30522, model_max_length=512, is_fast=True, padding_side='right', truncation_side='right', special_tokens={'unk_token': '[UNK]', 'sep_token': '[SEP]', 'pad_token': '[PAD]', 'cls_token': '[CLS]', 'mask_token': '[MASK]'}, clean_up_tokenization_spaces=True),  added_tokens_decoder={\n",
            "\t0: AddedToken(\"[PAD]\", rstrip=False, lstrip=False, single_word=False, normalized=False, special=True),\n",
            "\t100: AddedToken(\"[UNK]\", rstrip=False, lstrip=False, single_word=False, normalized=False, special=True),\n",
            "\t101: AddedToken(\"[CLS]\", rstrip=False, lstrip=False, single_word=False, normalized=False, special=True),\n",
            "\t102: AddedToken(\"[SEP]\", rstrip=False, lstrip=False, single_word=False, normalized=False, special=True),\n",
            "\t103: AddedToken(\"[MASK]\", rstrip=False, lstrip=False, single_word=False, normalized=False, special=True),\n",
            "}, padding=True, max_length=None, pad_to_multiple_of=None, return_tensors='pt')\n"
          ]
        }
      ],
      "source": [
        "from transformers import DataCollatorWithPadding\n",
        "\n",
        "data_collator = DataCollatorWithPadding(tokenizer=tokenizer)\n",
        "\n",
        "print(data_collator)"
      ]
    },
    {
      "cell_type": "markdown",
      "metadata": {
        "id": "FEJ7GvFQaec1"
      },
      "source": [
        "Define tokenizer function\n",
        "\n"
      ]
    },
    {
      "cell_type": "code",
      "execution_count": 6,
      "metadata": {
        "colab": {
          "base_uri": "https://localhost:8080/"
        },
        "id": "5cENou6taec1",
        "outputId": "4a21a91d-2332-463c-a74e-c0aa96e529ae"
      },
      "outputs": [
        {
          "output_type": "stream",
          "name": "stdout",
          "text": [
            "Collecting evaluate\n",
            "  Downloading evaluate-0.4.2-py3-none-any.whl (84 kB)\n",
            "\u001b[2K     \u001b[90m━━━━━━━━━━━━━━━━━━━━━━━━━━━━━━━━━━━━━━━━\u001b[0m \u001b[32m84.1/84.1 kB\u001b[0m \u001b[31m2.5 MB/s\u001b[0m eta \u001b[36m0:00:00\u001b[0m\n",
            "\u001b[?25hRequirement already satisfied: datasets>=2.0.0 in /usr/local/lib/python3.10/dist-packages (from evaluate) (2.20.0)\n",
            "Requirement already satisfied: numpy>=1.17 in /usr/local/lib/python3.10/dist-packages (from evaluate) (1.25.2)\n",
            "Requirement already satisfied: dill in /usr/local/lib/python3.10/dist-packages (from evaluate) (0.3.8)\n",
            "Requirement already satisfied: pandas in /usr/local/lib/python3.10/dist-packages (from evaluate) (2.0.3)\n",
            "Requirement already satisfied: requests>=2.19.0 in /usr/local/lib/python3.10/dist-packages (from evaluate) (2.32.3)\n",
            "Requirement already satisfied: tqdm>=4.62.1 in /usr/local/lib/python3.10/dist-packages (from evaluate) (4.66.4)\n",
            "Requirement already satisfied: xxhash in /usr/local/lib/python3.10/dist-packages (from evaluate) (3.4.1)\n",
            "Requirement already satisfied: multiprocess in /usr/local/lib/python3.10/dist-packages (from evaluate) (0.70.16)\n",
            "Requirement already satisfied: fsspec[http]>=2021.05.0 in /usr/local/lib/python3.10/dist-packages (from evaluate) (2023.6.0)\n",
            "Requirement already satisfied: huggingface-hub>=0.7.0 in /usr/local/lib/python3.10/dist-packages (from evaluate) (0.23.4)\n",
            "Requirement already satisfied: packaging in /usr/local/lib/python3.10/dist-packages (from evaluate) (24.1)\n",
            "Requirement already satisfied: filelock in /usr/local/lib/python3.10/dist-packages (from datasets>=2.0.0->evaluate) (3.15.4)\n",
            "Requirement already satisfied: pyarrow>=15.0.0 in /usr/local/lib/python3.10/dist-packages (from datasets>=2.0.0->evaluate) (17.0.0)\n",
            "Requirement already satisfied: pyarrow-hotfix in /usr/local/lib/python3.10/dist-packages (from datasets>=2.0.0->evaluate) (0.6)\n",
            "Requirement already satisfied: aiohttp in /usr/local/lib/python3.10/dist-packages (from datasets>=2.0.0->evaluate) (3.9.5)\n",
            "Requirement already satisfied: pyyaml>=5.1 in /usr/local/lib/python3.10/dist-packages (from datasets>=2.0.0->evaluate) (6.0.1)\n",
            "Requirement already satisfied: typing-extensions>=3.7.4.3 in /usr/local/lib/python3.10/dist-packages (from huggingface-hub>=0.7.0->evaluate) (4.12.2)\n",
            "Requirement already satisfied: charset-normalizer<4,>=2 in /usr/local/lib/python3.10/dist-packages (from requests>=2.19.0->evaluate) (3.3.2)\n",
            "Requirement already satisfied: idna<4,>=2.5 in /usr/local/lib/python3.10/dist-packages (from requests>=2.19.0->evaluate) (3.7)\n",
            "Requirement already satisfied: urllib3<3,>=1.21.1 in /usr/local/lib/python3.10/dist-packages (from requests>=2.19.0->evaluate) (2.0.7)\n",
            "Requirement already satisfied: certifi>=2017.4.17 in /usr/local/lib/python3.10/dist-packages (from requests>=2.19.0->evaluate) (2024.7.4)\n",
            "Requirement already satisfied: python-dateutil>=2.8.2 in /usr/local/lib/python3.10/dist-packages (from pandas->evaluate) (2.8.2)\n",
            "Requirement already satisfied: pytz>=2020.1 in /usr/local/lib/python3.10/dist-packages (from pandas->evaluate) (2023.4)\n",
            "Requirement already satisfied: tzdata>=2022.1 in /usr/local/lib/python3.10/dist-packages (from pandas->evaluate) (2024.1)\n",
            "Requirement already satisfied: aiosignal>=1.1.2 in /usr/local/lib/python3.10/dist-packages (from aiohttp->datasets>=2.0.0->evaluate) (1.3.1)\n",
            "Requirement already satisfied: attrs>=17.3.0 in /usr/local/lib/python3.10/dist-packages (from aiohttp->datasets>=2.0.0->evaluate) (23.2.0)\n",
            "Requirement already satisfied: frozenlist>=1.1.1 in /usr/local/lib/python3.10/dist-packages (from aiohttp->datasets>=2.0.0->evaluate) (1.4.1)\n",
            "Requirement already satisfied: multidict<7.0,>=4.5 in /usr/local/lib/python3.10/dist-packages (from aiohttp->datasets>=2.0.0->evaluate) (6.0.5)\n",
            "Requirement already satisfied: yarl<2.0,>=1.0 in /usr/local/lib/python3.10/dist-packages (from aiohttp->datasets>=2.0.0->evaluate) (1.9.4)\n",
            "Requirement already satisfied: async-timeout<5.0,>=4.0 in /usr/local/lib/python3.10/dist-packages (from aiohttp->datasets>=2.0.0->evaluate) (4.0.3)\n",
            "Requirement already satisfied: six>=1.5 in /usr/local/lib/python3.10/dist-packages (from python-dateutil>=2.8.2->pandas->evaluate) (1.16.0)\n",
            "Installing collected packages: evaluate\n",
            "Successfully installed evaluate-0.4.2\n"
          ]
        }
      ],
      "source": [
        "!pip install evaluate"
      ]
    },
    {
      "cell_type": "markdown",
      "metadata": {
        "id": "iIfASu99aec2"
      },
      "source": [
        "### Evaluation Metric"
      ]
    },
    {
      "cell_type": "code",
      "execution_count": 15,
      "metadata": {
        "id": "3RocVgIFaec2"
      },
      "outputs": [],
      "source": [
        "import evaluate\n",
        "import numpy as np\n",
        "\n",
        "accuracy = evaluate.load(\"accuracy\")\n",
        "\n",
        "def compute_metrics(eval_pred):\n",
        "    predictions, labels = eval_pred\n",
        "    predictions = np.argmax(predictions, axis=1)\n",
        "    return accuracy.compute(predictions=predictions, references=labels)"
      ]
    },
    {
      "cell_type": "markdown",
      "metadata": {
        "id": "WKFj8c6waec2"
      },
      "source": [
        "### Training"
      ]
    },
    {
      "cell_type": "code",
      "execution_count": 16,
      "metadata": {
        "colab": {
          "base_uri": "https://localhost:8080/"
        },
        "id": "U9am7HXOaec2",
        "outputId": "c05523cb-8b09-438a-fd36-0130f5a28d5b"
      },
      "outputs": [
        {
          "output_type": "stream",
          "name": "stdout",
          "text": [
            "cuda:0\n",
            "Tesla T4\n"
          ]
        }
      ],
      "source": [
        "import torch\n",
        "# pytorch\n",
        "torch.cuda.is_available()\n",
        "\n",
        "device = torch.device('cuda:0' if torch.cuda.is_available() else 'cpu')\n",
        "\n",
        "print(device)\n",
        "\n",
        "#Additional Info when using cuda\n",
        "if device.type == 'cuda':\n",
        "    print(torch.cuda.get_device_name(0))"
      ]
    },
    {
      "cell_type": "code",
      "execution_count": 2,
      "metadata": {
        "colab": {
          "base_uri": "https://localhost:8080/"
        },
        "id": "DxH3plZ0aec2",
        "outputId": "08ebfcb7-ac66-4f54-fbca-9ab97aaf2f89"
      },
      "outputs": [
        {
          "output_type": "execute_result",
          "data": {
            "text/plain": [
              "0"
            ]
          },
          "metadata": {},
          "execution_count": 2
        }
      ],
      "source": [
        "import torch\n",
        "\n",
        "torch.cuda.device_count()\n",
        "torch.cuda.current_device()\n",
        "\n"
      ]
    },
    {
      "cell_type": "code",
      "source": [],
      "metadata": {
        "colab": {
          "base_uri": "https://localhost:8080/"
        },
        "id": "nlFhXZt1jpMk",
        "outputId": "27ef54ae-97f0-4fe7-a0d0-a238c7ce48d8"
      },
      "execution_count": null,
      "outputs": [
        {
          "output_type": "stream",
          "name": "stdout",
          "text": [
            "Requirement already satisfied: transformers[torch] in /usr/local/lib/python3.10/dist-packages (4.41.2)\n",
            "Requirement already satisfied: filelock in /usr/local/lib/python3.10/dist-packages (from transformers[torch]) (3.15.4)\n",
            "Requirement already satisfied: huggingface-hub<1.0,>=0.23.0 in /usr/local/lib/python3.10/dist-packages (from transformers[torch]) (0.23.4)\n",
            "Requirement already satisfied: numpy>=1.17 in /usr/local/lib/python3.10/dist-packages (from transformers[torch]) (1.25.2)\n",
            "Requirement already satisfied: packaging>=20.0 in /usr/local/lib/python3.10/dist-packages (from transformers[torch]) (24.1)\n",
            "Requirement already satisfied: pyyaml>=5.1 in /usr/local/lib/python3.10/dist-packages (from transformers[torch]) (6.0.1)\n",
            "Requirement already satisfied: regex!=2019.12.17 in /usr/local/lib/python3.10/dist-packages (from transformers[torch]) (2024.5.15)\n",
            "Requirement already satisfied: requests in /usr/local/lib/python3.10/dist-packages (from transformers[torch]) (2.31.0)\n",
            "Requirement already satisfied: tokenizers<0.20,>=0.19 in /usr/local/lib/python3.10/dist-packages (from transformers[torch]) (0.19.1)\n",
            "Requirement already satisfied: safetensors>=0.4.1 in /usr/local/lib/python3.10/dist-packages (from transformers[torch]) (0.4.3)\n",
            "Requirement already satisfied: tqdm>=4.27 in /usr/local/lib/python3.10/dist-packages (from transformers[torch]) (4.66.4)\n",
            "Requirement already satisfied: torch in /usr/local/lib/python3.10/dist-packages (from transformers[torch]) (2.3.0+cu121)\n",
            "Requirement already satisfied: accelerate>=0.21.0 in /usr/local/lib/python3.10/dist-packages (from transformers[torch]) (0.32.1)\n",
            "Requirement already satisfied: psutil in /usr/local/lib/python3.10/dist-packages (from accelerate>=0.21.0->transformers[torch]) (5.9.5)\n",
            "Requirement already satisfied: fsspec>=2023.5.0 in /usr/local/lib/python3.10/dist-packages (from huggingface-hub<1.0,>=0.23.0->transformers[torch]) (2023.6.0)\n",
            "Requirement already satisfied: typing-extensions>=3.7.4.3 in /usr/local/lib/python3.10/dist-packages (from huggingface-hub<1.0,>=0.23.0->transformers[torch]) (4.12.2)\n",
            "Requirement already satisfied: sympy in /usr/local/lib/python3.10/dist-packages (from torch->transformers[torch]) (1.12.1)\n",
            "Requirement already satisfied: networkx in /usr/local/lib/python3.10/dist-packages (from torch->transformers[torch]) (3.3)\n",
            "Requirement already satisfied: jinja2 in /usr/local/lib/python3.10/dist-packages (from torch->transformers[torch]) (3.1.4)\n",
            "Requirement already satisfied: nvidia-cuda-nvrtc-cu12==12.1.105 in /usr/local/lib/python3.10/dist-packages (from torch->transformers[torch]) (12.1.105)\n",
            "Requirement already satisfied: nvidia-cuda-runtime-cu12==12.1.105 in /usr/local/lib/python3.10/dist-packages (from torch->transformers[torch]) (12.1.105)\n",
            "Requirement already satisfied: nvidia-cuda-cupti-cu12==12.1.105 in /usr/local/lib/python3.10/dist-packages (from torch->transformers[torch]) (12.1.105)\n",
            "Requirement already satisfied: nvidia-cudnn-cu12==8.9.2.26 in /usr/local/lib/python3.10/dist-packages (from torch->transformers[torch]) (8.9.2.26)\n",
            "Requirement already satisfied: nvidia-cublas-cu12==12.1.3.1 in /usr/local/lib/python3.10/dist-packages (from torch->transformers[torch]) (12.1.3.1)\n",
            "Requirement already satisfied: nvidia-cufft-cu12==11.0.2.54 in /usr/local/lib/python3.10/dist-packages (from torch->transformers[torch]) (11.0.2.54)\n",
            "Requirement already satisfied: nvidia-curand-cu12==10.3.2.106 in /usr/local/lib/python3.10/dist-packages (from torch->transformers[torch]) (10.3.2.106)\n",
            "Requirement already satisfied: nvidia-cusolver-cu12==11.4.5.107 in /usr/local/lib/python3.10/dist-packages (from torch->transformers[torch]) (11.4.5.107)\n",
            "Requirement already satisfied: nvidia-cusparse-cu12==12.1.0.106 in /usr/local/lib/python3.10/dist-packages (from torch->transformers[torch]) (12.1.0.106)\n",
            "Requirement already satisfied: nvidia-nccl-cu12==2.20.5 in /usr/local/lib/python3.10/dist-packages (from torch->transformers[torch]) (2.20.5)\n",
            "Requirement already satisfied: nvidia-nvtx-cu12==12.1.105 in /usr/local/lib/python3.10/dist-packages (from torch->transformers[torch]) (12.1.105)\n",
            "Requirement already satisfied: triton==2.3.0 in /usr/local/lib/python3.10/dist-packages (from torch->transformers[torch]) (2.3.0)\n",
            "Requirement already satisfied: nvidia-nvjitlink-cu12 in /usr/local/lib/python3.10/dist-packages (from nvidia-cusolver-cu12==11.4.5.107->torch->transformers[torch]) (12.5.82)\n",
            "Requirement already satisfied: charset-normalizer<4,>=2 in /usr/local/lib/python3.10/dist-packages (from requests->transformers[torch]) (3.3.2)\n",
            "Requirement already satisfied: idna<4,>=2.5 in /usr/local/lib/python3.10/dist-packages (from requests->transformers[torch]) (3.7)\n",
            "Requirement already satisfied: urllib3<3,>=1.21.1 in /usr/local/lib/python3.10/dist-packages (from requests->transformers[torch]) (2.0.7)\n",
            "Requirement already satisfied: certifi>=2017.4.17 in /usr/local/lib/python3.10/dist-packages (from requests->transformers[torch]) (2024.6.2)\n",
            "Requirement already satisfied: MarkupSafe>=2.0 in /usr/local/lib/python3.10/dist-packages (from jinja2->torch->transformers[torch]) (2.1.5)\n",
            "Requirement already satisfied: mpmath<1.4.0,>=1.1.0 in /usr/local/lib/python3.10/dist-packages (from sympy->torch->transformers[torch]) (1.3.0)\n"
          ]
        }
      ]
    },
    {
      "cell_type": "code",
      "source": [],
      "metadata": {
        "colab": {
          "base_uri": "https://localhost:8080/"
        },
        "id": "lOCR5nNJkVni",
        "outputId": "2ee327df-d46b-4bc2-c642-97054b3f424b"
      },
      "execution_count": 17,
      "outputs": [
        {
          "output_type": "stream",
          "name": "stdout",
          "text": [
            "Collecting accelerate\n",
            "  Downloading accelerate-0.32.1-py3-none-any.whl (314 kB)\n",
            "\u001b[?25l     \u001b[90m━━━━━━━━━━━━━━━━━━━━━━━━━━━━━━━━━━━━━━━━\u001b[0m \u001b[32m0.0/314.1 kB\u001b[0m \u001b[31m?\u001b[0m eta \u001b[36m-:--:--\u001b[0m\r\u001b[2K     \u001b[91m━━━━━━━━━━\u001b[0m\u001b[90m╺\u001b[0m\u001b[90m━━━━━━━━━━━━━━━━━━━━━━━━━━━━━\u001b[0m \u001b[32m81.9/314.1 kB\u001b[0m \u001b[31m2.4 MB/s\u001b[0m eta \u001b[36m0:00:01\u001b[0m\r\u001b[2K     \u001b[90m━━━━━━━━━━━━━━━━━━━━━━━━━━━━━━━━━━━━━━━━\u001b[0m \u001b[32m314.1/314.1 kB\u001b[0m \u001b[31m5.0 MB/s\u001b[0m eta \u001b[36m0:00:00\u001b[0m\n",
            "\u001b[?25hRequirement already satisfied: numpy<2.0.0,>=1.17 in /usr/local/lib/python3.10/dist-packages (from accelerate) (1.25.2)\n",
            "Requirement already satisfied: packaging>=20.0 in /usr/local/lib/python3.10/dist-packages (from accelerate) (24.1)\n",
            "Requirement already satisfied: psutil in /usr/local/lib/python3.10/dist-packages (from accelerate) (5.9.5)\n",
            "Requirement already satisfied: pyyaml in /usr/local/lib/python3.10/dist-packages (from accelerate) (6.0.1)\n",
            "Requirement already satisfied: torch>=1.10.0 in /usr/local/lib/python3.10/dist-packages (from accelerate) (2.3.0+cu121)\n",
            "Requirement already satisfied: huggingface-hub in /usr/local/lib/python3.10/dist-packages (from accelerate) (0.23.4)\n",
            "Requirement already satisfied: safetensors>=0.3.1 in /usr/local/lib/python3.10/dist-packages (from accelerate) (0.4.3)\n",
            "Requirement already satisfied: filelock in /usr/local/lib/python3.10/dist-packages (from torch>=1.10.0->accelerate) (3.15.4)\n",
            "Requirement already satisfied: typing-extensions>=4.8.0 in /usr/local/lib/python3.10/dist-packages (from torch>=1.10.0->accelerate) (4.12.2)\n",
            "Requirement already satisfied: sympy in /usr/local/lib/python3.10/dist-packages (from torch>=1.10.0->accelerate) (1.13.0)\n",
            "Requirement already satisfied: networkx in /usr/local/lib/python3.10/dist-packages (from torch>=1.10.0->accelerate) (3.3)\n",
            "Requirement already satisfied: jinja2 in /usr/local/lib/python3.10/dist-packages (from torch>=1.10.0->accelerate) (3.1.4)\n",
            "Requirement already satisfied: fsspec in /usr/local/lib/python3.10/dist-packages (from torch>=1.10.0->accelerate) (2023.6.0)\n",
            "Collecting nvidia-cuda-nvrtc-cu12==12.1.105 (from torch>=1.10.0->accelerate)\n",
            "  Using cached nvidia_cuda_nvrtc_cu12-12.1.105-py3-none-manylinux1_x86_64.whl (23.7 MB)\n",
            "Collecting nvidia-cuda-runtime-cu12==12.1.105 (from torch>=1.10.0->accelerate)\n",
            "  Using cached nvidia_cuda_runtime_cu12-12.1.105-py3-none-manylinux1_x86_64.whl (823 kB)\n",
            "Collecting nvidia-cuda-cupti-cu12==12.1.105 (from torch>=1.10.0->accelerate)\n",
            "  Using cached nvidia_cuda_cupti_cu12-12.1.105-py3-none-manylinux1_x86_64.whl (14.1 MB)\n",
            "Collecting nvidia-cudnn-cu12==8.9.2.26 (from torch>=1.10.0->accelerate)\n",
            "  Using cached nvidia_cudnn_cu12-8.9.2.26-py3-none-manylinux1_x86_64.whl (731.7 MB)\n",
            "Collecting nvidia-cublas-cu12==12.1.3.1 (from torch>=1.10.0->accelerate)\n",
            "  Using cached nvidia_cublas_cu12-12.1.3.1-py3-none-manylinux1_x86_64.whl (410.6 MB)\n",
            "Collecting nvidia-cufft-cu12==11.0.2.54 (from torch>=1.10.0->accelerate)\n",
            "  Using cached nvidia_cufft_cu12-11.0.2.54-py3-none-manylinux1_x86_64.whl (121.6 MB)\n",
            "Collecting nvidia-curand-cu12==10.3.2.106 (from torch>=1.10.0->accelerate)\n",
            "  Using cached nvidia_curand_cu12-10.3.2.106-py3-none-manylinux1_x86_64.whl (56.5 MB)\n",
            "Collecting nvidia-cusolver-cu12==11.4.5.107 (from torch>=1.10.0->accelerate)\n",
            "  Using cached nvidia_cusolver_cu12-11.4.5.107-py3-none-manylinux1_x86_64.whl (124.2 MB)\n",
            "Collecting nvidia-cusparse-cu12==12.1.0.106 (from torch>=1.10.0->accelerate)\n",
            "  Using cached nvidia_cusparse_cu12-12.1.0.106-py3-none-manylinux1_x86_64.whl (196.0 MB)\n",
            "Collecting nvidia-nccl-cu12==2.20.5 (from torch>=1.10.0->accelerate)\n",
            "  Using cached nvidia_nccl_cu12-2.20.5-py3-none-manylinux2014_x86_64.whl (176.2 MB)\n",
            "Collecting nvidia-nvtx-cu12==12.1.105 (from torch>=1.10.0->accelerate)\n",
            "  Using cached nvidia_nvtx_cu12-12.1.105-py3-none-manylinux1_x86_64.whl (99 kB)\n",
            "Requirement already satisfied: triton==2.3.0 in /usr/local/lib/python3.10/dist-packages (from torch>=1.10.0->accelerate) (2.3.0)\n",
            "Collecting nvidia-nvjitlink-cu12 (from nvidia-cusolver-cu12==11.4.5.107->torch>=1.10.0->accelerate)\n",
            "  Downloading nvidia_nvjitlink_cu12-12.5.82-py3-none-manylinux2014_x86_64.whl (21.3 MB)\n",
            "\u001b[2K     \u001b[90m━━━━━━━━━━━━━━━━━━━━━━━━━━━━━━━━━━━━━━━━\u001b[0m \u001b[32m21.3/21.3 MB\u001b[0m \u001b[31m65.6 MB/s\u001b[0m eta \u001b[36m0:00:00\u001b[0m\n",
            "\u001b[?25hRequirement already satisfied: requests in /usr/local/lib/python3.10/dist-packages (from huggingface-hub->accelerate) (2.32.3)\n",
            "Requirement already satisfied: tqdm>=4.42.1 in /usr/local/lib/python3.10/dist-packages (from huggingface-hub->accelerate) (4.66.4)\n",
            "Requirement already satisfied: MarkupSafe>=2.0 in /usr/local/lib/python3.10/dist-packages (from jinja2->torch>=1.10.0->accelerate) (2.1.5)\n",
            "Requirement already satisfied: charset-normalizer<4,>=2 in /usr/local/lib/python3.10/dist-packages (from requests->huggingface-hub->accelerate) (3.3.2)\n",
            "Requirement already satisfied: idna<4,>=2.5 in /usr/local/lib/python3.10/dist-packages (from requests->huggingface-hub->accelerate) (3.7)\n",
            "Requirement already satisfied: urllib3<3,>=1.21.1 in /usr/local/lib/python3.10/dist-packages (from requests->huggingface-hub->accelerate) (2.0.7)\n",
            "Requirement already satisfied: certifi>=2017.4.17 in /usr/local/lib/python3.10/dist-packages (from requests->huggingface-hub->accelerate) (2024.7.4)\n",
            "Requirement already satisfied: mpmath<1.4,>=1.1.0 in /usr/local/lib/python3.10/dist-packages (from sympy->torch>=1.10.0->accelerate) (1.3.0)\n",
            "Installing collected packages: nvidia-nvtx-cu12, nvidia-nvjitlink-cu12, nvidia-nccl-cu12, nvidia-curand-cu12, nvidia-cufft-cu12, nvidia-cuda-runtime-cu12, nvidia-cuda-nvrtc-cu12, nvidia-cuda-cupti-cu12, nvidia-cublas-cu12, nvidia-cusparse-cu12, nvidia-cudnn-cu12, nvidia-cusolver-cu12, accelerate\n",
            "Successfully installed accelerate-0.32.1 nvidia-cublas-cu12-12.1.3.1 nvidia-cuda-cupti-cu12-12.1.105 nvidia-cuda-nvrtc-cu12-12.1.105 nvidia-cuda-runtime-cu12-12.1.105 nvidia-cudnn-cu12-8.9.2.26 nvidia-cufft-cu12-11.0.2.54 nvidia-curand-cu12-10.3.2.106 nvidia-cusolver-cu12-11.4.5.107 nvidia-cusparse-cu12-12.1.0.106 nvidia-nccl-cu12-2.20.5 nvidia-nvjitlink-cu12-12.5.82 nvidia-nvtx-cu12-12.1.105\n"
          ]
        }
      ]
    },
    {
      "cell_type": "code",
      "execution_count": 16,
      "metadata": {
        "colab": {
          "base_uri": "https://localhost:8080/",
          "height": 1000
        },
        "id": "XYnr0g10aec2",
        "outputId": "2638c642-ece0-4a32-ae7e-995c19152924"
      },
      "outputs": [
        {
          "output_type": "stream",
          "name": "stderr",
          "text": [
            "Some weights of DistilBertForSequenceClassification were not initialized from the model checkpoint at distilbert-base-uncased and are newly initialized: ['classifier.bias', 'classifier.weight', 'pre_classifier.bias', 'pre_classifier.weight']\n",
            "You should probably TRAIN this model on a down-stream task to be able to use it for predictions and inference.\n",
            "/usr/local/lib/python3.10/dist-packages/transformers/training_args.py:1525: FutureWarning: `evaluation_strategy` is deprecated and will be removed in version 4.46 of 🤗 Transformers. Use `eval_strategy` instead\n",
            "  warnings.warn(\n"
          ]
        },
        {
          "output_type": "display_data",
          "data": {
            "text/plain": [
              "<IPython.core.display.HTML object>"
            ],
            "text/html": [
              "\n",
              "    <div>\n",
              "      \n",
              "      <progress value='6139' max='14100' style='width:300px; height:20px; vertical-align: middle;'></progress>\n",
              "      [ 6139/14100 21:24 < 27:46, 4.78 it/s, Epoch 43.53/100]\n",
              "    </div>\n",
              "    <table border=\"1\" class=\"dataframe\">\n",
              "  <thead>\n",
              " <tr style=\"text-align: left;\">\n",
              "      <th>Epoch</th>\n",
              "      <th>Training Loss</th>\n",
              "      <th>Validation Loss</th>\n",
              "      <th>Accuracy</th>\n",
              "    </tr>\n",
              "  </thead>\n",
              "  <tbody>\n",
              "    <tr>\n",
              "      <td>1</td>\n",
              "      <td>No log</td>\n",
              "      <td>0.112773</td>\n",
              "      <td>0.969823</td>\n",
              "    </tr>\n",
              "    <tr>\n",
              "      <td>2</td>\n",
              "      <td>No log</td>\n",
              "      <td>0.046540</td>\n",
              "      <td>0.990635</td>\n",
              "    </tr>\n",
              "    <tr>\n",
              "      <td>3</td>\n",
              "      <td>No log</td>\n",
              "      <td>0.039579</td>\n",
              "      <td>0.986472</td>\n",
              "    </tr>\n",
              "    <tr>\n",
              "      <td>4</td>\n",
              "      <td>0.183800</td>\n",
              "      <td>0.044976</td>\n",
              "      <td>0.991675</td>\n",
              "    </tr>\n",
              "    <tr>\n",
              "      <td>5</td>\n",
              "      <td>0.183800</td>\n",
              "      <td>0.050287</td>\n",
              "      <td>0.990635</td>\n",
              "    </tr>\n",
              "    <tr>\n",
              "      <td>6</td>\n",
              "      <td>0.183800</td>\n",
              "      <td>0.061064</td>\n",
              "      <td>0.985432</td>\n",
              "    </tr>\n",
              "    <tr>\n",
              "      <td>7</td>\n",
              "      <td>0.183800</td>\n",
              "      <td>0.035396</td>\n",
              "      <td>0.993757</td>\n",
              "    </tr>\n",
              "    <tr>\n",
              "      <td>8</td>\n",
              "      <td>0.008000</td>\n",
              "      <td>0.030399</td>\n",
              "      <td>0.993757</td>\n",
              "    </tr>\n",
              "    <tr>\n",
              "      <td>9</td>\n",
              "      <td>0.008000</td>\n",
              "      <td>0.050207</td>\n",
              "      <td>0.991675</td>\n",
              "    </tr>\n",
              "    <tr>\n",
              "      <td>10</td>\n",
              "      <td>0.008000</td>\n",
              "      <td>0.047485</td>\n",
              "      <td>0.991675</td>\n",
              "    </tr>\n",
              "    <tr>\n",
              "      <td>11</td>\n",
              "      <td>0.001200</td>\n",
              "      <td>0.039803</td>\n",
              "      <td>0.994797</td>\n",
              "    </tr>\n",
              "    <tr>\n",
              "      <td>12</td>\n",
              "      <td>0.001200</td>\n",
              "      <td>0.040163</td>\n",
              "      <td>0.993757</td>\n",
              "    </tr>\n",
              "    <tr>\n",
              "      <td>13</td>\n",
              "      <td>0.001200</td>\n",
              "      <td>0.040392</td>\n",
              "      <td>0.993757</td>\n",
              "    </tr>\n",
              "    <tr>\n",
              "      <td>14</td>\n",
              "      <td>0.001200</td>\n",
              "      <td>0.040715</td>\n",
              "      <td>0.993757</td>\n",
              "    </tr>\n",
              "    <tr>\n",
              "      <td>15</td>\n",
              "      <td>0.000200</td>\n",
              "      <td>0.041477</td>\n",
              "      <td>0.993757</td>\n",
              "    </tr>\n",
              "    <tr>\n",
              "      <td>16</td>\n",
              "      <td>0.000200</td>\n",
              "      <td>0.041880</td>\n",
              "      <td>0.993757</td>\n",
              "    </tr>\n",
              "    <tr>\n",
              "      <td>17</td>\n",
              "      <td>0.000200</td>\n",
              "      <td>0.042058</td>\n",
              "      <td>0.993757</td>\n",
              "    </tr>\n",
              "    <tr>\n",
              "      <td>18</td>\n",
              "      <td>0.000100</td>\n",
              "      <td>0.042255</td>\n",
              "      <td>0.993757</td>\n",
              "    </tr>\n",
              "    <tr>\n",
              "      <td>19</td>\n",
              "      <td>0.000100</td>\n",
              "      <td>0.041464</td>\n",
              "      <td>0.993757</td>\n",
              "    </tr>\n",
              "    <tr>\n",
              "      <td>20</td>\n",
              "      <td>0.000100</td>\n",
              "      <td>0.042048</td>\n",
              "      <td>0.993757</td>\n",
              "    </tr>\n",
              "    <tr>\n",
              "      <td>21</td>\n",
              "      <td>0.000100</td>\n",
              "      <td>0.042190</td>\n",
              "      <td>0.993757</td>\n",
              "    </tr>\n",
              "    <tr>\n",
              "      <td>22</td>\n",
              "      <td>0.000100</td>\n",
              "      <td>0.042749</td>\n",
              "      <td>0.993757</td>\n",
              "    </tr>\n",
              "    <tr>\n",
              "      <td>23</td>\n",
              "      <td>0.000100</td>\n",
              "      <td>0.043069</td>\n",
              "      <td>0.993757</td>\n",
              "    </tr>\n",
              "    <tr>\n",
              "      <td>24</td>\n",
              "      <td>0.000100</td>\n",
              "      <td>0.043392</td>\n",
              "      <td>0.993757</td>\n",
              "    </tr>\n",
              "    <tr>\n",
              "      <td>25</td>\n",
              "      <td>0.000100</td>\n",
              "      <td>0.043706</td>\n",
              "      <td>0.992716</td>\n",
              "    </tr>\n",
              "    <tr>\n",
              "      <td>26</td>\n",
              "      <td>0.000100</td>\n",
              "      <td>0.043861</td>\n",
              "      <td>0.992716</td>\n",
              "    </tr>\n",
              "    <tr>\n",
              "      <td>27</td>\n",
              "      <td>0.000100</td>\n",
              "      <td>0.043563</td>\n",
              "      <td>0.992716</td>\n",
              "    </tr>\n",
              "    <tr>\n",
              "      <td>28</td>\n",
              "      <td>0.000100</td>\n",
              "      <td>0.043890</td>\n",
              "      <td>0.992716</td>\n",
              "    </tr>\n",
              "    <tr>\n",
              "      <td>29</td>\n",
              "      <td>0.000000</td>\n",
              "      <td>0.044190</td>\n",
              "      <td>0.992716</td>\n",
              "    </tr>\n",
              "    <tr>\n",
              "      <td>30</td>\n",
              "      <td>0.000000</td>\n",
              "      <td>0.044384</td>\n",
              "      <td>0.992716</td>\n",
              "    </tr>\n",
              "    <tr>\n",
              "      <td>31</td>\n",
              "      <td>0.000000</td>\n",
              "      <td>0.044717</td>\n",
              "      <td>0.992716</td>\n",
              "    </tr>\n",
              "    <tr>\n",
              "      <td>32</td>\n",
              "      <td>0.000000</td>\n",
              "      <td>0.044987</td>\n",
              "      <td>0.992716</td>\n",
              "    </tr>\n",
              "    <tr>\n",
              "      <td>33</td>\n",
              "      <td>0.000000</td>\n",
              "      <td>0.045265</td>\n",
              "      <td>0.992716</td>\n",
              "    </tr>\n",
              "    <tr>\n",
              "      <td>34</td>\n",
              "      <td>0.000000</td>\n",
              "      <td>0.045586</td>\n",
              "      <td>0.992716</td>\n",
              "    </tr>\n",
              "    <tr>\n",
              "      <td>35</td>\n",
              "      <td>0.000000</td>\n",
              "      <td>0.045997</td>\n",
              "      <td>0.992716</td>\n",
              "    </tr>\n",
              "    <tr>\n",
              "      <td>36</td>\n",
              "      <td>0.000000</td>\n",
              "      <td>0.046366</td>\n",
              "      <td>0.992716</td>\n",
              "    </tr>\n",
              "    <tr>\n",
              "      <td>37</td>\n",
              "      <td>0.000000</td>\n",
              "      <td>0.047346</td>\n",
              "      <td>0.992716</td>\n",
              "    </tr>\n",
              "    <tr>\n",
              "      <td>38</td>\n",
              "      <td>0.000000</td>\n",
              "      <td>0.047610</td>\n",
              "      <td>0.992716</td>\n",
              "    </tr>\n",
              "    <tr>\n",
              "      <td>39</td>\n",
              "      <td>0.000000</td>\n",
              "      <td>0.048165</td>\n",
              "      <td>0.992716</td>\n",
              "    </tr>\n",
              "    <tr>\n",
              "      <td>40</td>\n",
              "      <td>0.000000</td>\n",
              "      <td>0.048191</td>\n",
              "      <td>0.992716</td>\n",
              "    </tr>\n",
              "    <tr>\n",
              "      <td>41</td>\n",
              "      <td>0.000000</td>\n",
              "      <td>0.048305</td>\n",
              "      <td>0.992716</td>\n",
              "    </tr>\n",
              "    <tr>\n",
              "      <td>42</td>\n",
              "      <td>0.000000</td>\n",
              "      <td>0.048691</td>\n",
              "      <td>0.992716</td>\n",
              "    </tr>\n",
              "    <tr>\n",
              "      <td>43</td>\n",
              "      <td>0.000000</td>\n",
              "      <td>0.048935</td>\n",
              "      <td>0.992716</td>\n",
              "    </tr>\n",
              "  </tbody>\n",
              "</table><p>"
            ]
          },
          "metadata": {}
        },
        {
          "output_type": "error",
          "ename": "KeyboardInterrupt",
          "evalue": "",
          "traceback": [
            "\u001b[0;31m---------------------------------------------------------------------------\u001b[0m",
            "\u001b[0;31mKeyboardInterrupt\u001b[0m                         Traceback (most recent call last)",
            "\u001b[0;32m<ipython-input-16-2fb16743aa0e>\u001b[0m in \u001b[0;36m<cell line: 42>\u001b[0;34m()\u001b[0m\n\u001b[1;32m     40\u001b[0m )\n\u001b[1;32m     41\u001b[0m \u001b[0;34m\u001b[0m\u001b[0m\n\u001b[0;32m---> 42\u001b[0;31m \u001b[0mtrainer\u001b[0m\u001b[0;34m.\u001b[0m\u001b[0mtrain\u001b[0m\u001b[0;34m(\u001b[0m\u001b[0;34m)\u001b[0m\u001b[0;34m\u001b[0m\u001b[0;34m\u001b[0m\u001b[0m\n\u001b[0m",
            "\u001b[0;32m/usr/local/lib/python3.10/dist-packages/transformers/trainer.py\u001b[0m in \u001b[0;36mtrain\u001b[0;34m(self, resume_from_checkpoint, trial, ignore_keys_for_eval, **kwargs)\u001b[0m\n\u001b[1;32m   1936\u001b[0m                 \u001b[0mhf_hub_utils\u001b[0m\u001b[0;34m.\u001b[0m\u001b[0menable_progress_bars\u001b[0m\u001b[0;34m(\u001b[0m\u001b[0;34m)\u001b[0m\u001b[0;34m\u001b[0m\u001b[0;34m\u001b[0m\u001b[0m\n\u001b[1;32m   1937\u001b[0m         \u001b[0;32melse\u001b[0m\u001b[0;34m:\u001b[0m\u001b[0;34m\u001b[0m\u001b[0;34m\u001b[0m\u001b[0m\n\u001b[0;32m-> 1938\u001b[0;31m             return inner_training_loop(\n\u001b[0m\u001b[1;32m   1939\u001b[0m                 \u001b[0margs\u001b[0m\u001b[0;34m=\u001b[0m\u001b[0margs\u001b[0m\u001b[0;34m,\u001b[0m\u001b[0;34m\u001b[0m\u001b[0;34m\u001b[0m\u001b[0m\n\u001b[1;32m   1940\u001b[0m                 \u001b[0mresume_from_checkpoint\u001b[0m\u001b[0;34m=\u001b[0m\u001b[0mresume_from_checkpoint\u001b[0m\u001b[0;34m,\u001b[0m\u001b[0;34m\u001b[0m\u001b[0;34m\u001b[0m\u001b[0m\n",
            "\u001b[0;32m/usr/local/lib/python3.10/dist-packages/transformers/trainer.py\u001b[0m in \u001b[0;36m_inner_training_loop\u001b[0;34m(self, batch_size, args, resume_from_checkpoint, trial, ignore_keys_for_eval)\u001b[0m\n\u001b[1;32m   2282\u001b[0m                     \u001b[0margs\u001b[0m\u001b[0;34m.\u001b[0m\u001b[0mlogging_nan_inf_filter\u001b[0m\u001b[0;34m\u001b[0m\u001b[0;34m\u001b[0m\u001b[0m\n\u001b[1;32m   2283\u001b[0m                     \u001b[0;32mand\u001b[0m \u001b[0;32mnot\u001b[0m \u001b[0mis_torch_xla_available\u001b[0m\u001b[0;34m(\u001b[0m\u001b[0;34m)\u001b[0m\u001b[0;34m\u001b[0m\u001b[0;34m\u001b[0m\u001b[0m\n\u001b[0;32m-> 2284\u001b[0;31m                     \u001b[0;32mand\u001b[0m \u001b[0;34m(\u001b[0m\u001b[0mtorch\u001b[0m\u001b[0;34m.\u001b[0m\u001b[0misnan\u001b[0m\u001b[0;34m(\u001b[0m\u001b[0mtr_loss_step\u001b[0m\u001b[0;34m)\u001b[0m \u001b[0;32mor\u001b[0m \u001b[0mtorch\u001b[0m\u001b[0;34m.\u001b[0m\u001b[0misinf\u001b[0m\u001b[0;34m(\u001b[0m\u001b[0mtr_loss_step\u001b[0m\u001b[0;34m)\u001b[0m\u001b[0;34m)\u001b[0m\u001b[0;34m\u001b[0m\u001b[0;34m\u001b[0m\u001b[0m\n\u001b[0m\u001b[1;32m   2285\u001b[0m                 ):\n\u001b[1;32m   2286\u001b[0m                     \u001b[0;31m# if loss is nan or inf simply add the average of previous logged losses\u001b[0m\u001b[0;34m\u001b[0m\u001b[0;34m\u001b[0m\u001b[0m\n",
            "\u001b[0;31mKeyboardInterrupt\u001b[0m: "
          ]
        }
      ],
      "source": [
        "from transformers import AutoModelForSequenceClassification, TrainingArguments, Trainer\n",
        "\n",
        "'''\n",
        "id2label = {0: \"NEGATIVE\", 1: \"POSITIVE\"}\n",
        "label2id = {\"NEGATIVE\": 0, \"POSITIVE\": 1}\n",
        "'''\n",
        "\n",
        "\n",
        "id2label = {0 : \"lung cancer\", 1: \"kidney disease\" , 2: \"heart disease\" , 3 : \"breast cancer\" ,  4 : \"colorectal cancer\" }\n",
        "label2id = {\"lung cancer\" : 0,  \"kidney disease\": 1  ,  \"heart disease\" : 2 , \"breast cancer\" :3 ,\"colorectal cancer\" : 4}\n",
        "#label2id = {\"lung cancer\" : 0.0,  \"kidney disease\": 1.0  , \"heart disease\" : 2.0}\n",
        "#id2label = {0 : \"lung cancer\", 1: \"kidney disease\" , 2: \"heart disease\" }\n",
        "\n",
        "model = AutoModelForSequenceClassification.from_pretrained(\n",
        "    \"distilbert-base-uncased\", num_labels= 5 , id2label=id2label, label2id=label2id\n",
        ")\n",
        "\n",
        "\n",
        "training_args = TrainingArguments(\n",
        "    output_dir=\"cached_model\",\n",
        "    learning_rate=2e-5,\n",
        "    per_device_train_batch_size=16,\n",
        "    per_device_eval_batch_size=16,\n",
        "    num_train_epochs= 100,\n",
        "    weight_decay=0.01,\n",
        "    evaluation_strategy=\"epoch\",\n",
        "    save_strategy=\"epoch\",\n",
        "    load_best_model_at_end=True,\n",
        "    push_to_hub=False,\n",
        ")\n",
        "\n",
        "trainer = Trainer(\n",
        "    model=model,\n",
        "    args=training_args,\n",
        "    train_dataset=tokenized_dataset[\"train\"],\n",
        "    eval_dataset=tokenized_dataset[\"test\"],\n",
        "    tokenizer=tokenizer,\n",
        "    data_collator=data_collator,\n",
        "    compute_metrics=compute_metrics,\n",
        ")\n",
        "\n",
        "trainer.train()\n"
      ]
    },
    {
      "cell_type": "markdown",
      "metadata": {
        "id": "bYPJt9C3aec2"
      },
      "source": [
        "### Inference"
      ]
    },
    {
      "cell_type": "code",
      "execution_count": null,
      "metadata": {
        "colab": {
          "referenced_widgets": [
            "1c8b939ba6a44260a8c2f347fd7ec9a5",
            "5ebe19b0bc9f4770992983c0c2f68b40",
            "ca19a0cb50b648359ccfd7e95ba0925b",
            "091ab1af4eaf4a728e54c620f0388e80",
            "c35c446dc4f24a58a2e50877bdb3363b",
            "5a21c5bfde8d4cdcaa9f86ab2957f587"
          ]
        },
        "id": "zfxkcfZSaec3",
        "outputId": "3aee8f60-359d-4897-ec54-2333db8c951c"
      },
      "outputs": [
        {
          "data": {
            "application/vnd.jupyter.widget-view+json": {
              "model_id": "1c8b939ba6a44260a8c2f347fd7ec9a5",
              "version_major": 2,
              "version_minor": 0
            },
            "text/plain": [
              "config.json:   0%|          | 0.00/538 [00:00<?, ?B/s]"
            ]
          },
          "metadata": {},
          "output_type": "display_data"
        },
        {
          "data": {
            "application/vnd.jupyter.widget-view+json": {
              "model_id": "5ebe19b0bc9f4770992983c0c2f68b40",
              "version_major": 2,
              "version_minor": 0
            },
            "text/plain": [
              "model.safetensors:   0%|          | 0.00/268M [00:00<?, ?B/s]"
            ]
          },
          "metadata": {},
          "output_type": "display_data"
        },
        {
          "data": {
            "application/vnd.jupyter.widget-view+json": {
              "model_id": "ca19a0cb50b648359ccfd7e95ba0925b",
              "version_major": 2,
              "version_minor": 0
            },
            "text/plain": [
              "tokenizer_config.json:   0%|          | 0.00/360 [00:00<?, ?B/s]"
            ]
          },
          "metadata": {},
          "output_type": "display_data"
        },
        {
          "data": {
            "application/vnd.jupyter.widget-view+json": {
              "model_id": "091ab1af4eaf4a728e54c620f0388e80",
              "version_major": 2,
              "version_minor": 0
            },
            "text/plain": [
              "vocab.txt:   0%|          | 0.00/232k [00:00<?, ?B/s]"
            ]
          },
          "metadata": {},
          "output_type": "display_data"
        },
        {
          "data": {
            "application/vnd.jupyter.widget-view+json": {
              "model_id": "c35c446dc4f24a58a2e50877bdb3363b",
              "version_major": 2,
              "version_minor": 0
            },
            "text/plain": [
              "tokenizer.json:   0%|          | 0.00/711k [00:00<?, ?B/s]"
            ]
          },
          "metadata": {},
          "output_type": "display_data"
        },
        {
          "data": {
            "application/vnd.jupyter.widget-view+json": {
              "model_id": "5a21c5bfde8d4cdcaa9f86ab2957f587",
              "version_major": 2,
              "version_minor": 0
            },
            "text/plain": [
              "special_tokens_map.json:   0%|          | 0.00/125 [00:00<?, ?B/s]"
            ]
          },
          "metadata": {},
          "output_type": "display_data"
        },
        {
          "ename": "NameError",
          "evalue": "name 'text' is not defined",
          "output_type": "error",
          "traceback": [
            "\u001b[0;31m---------------------------------------------------------------------------\u001b[0m",
            "\u001b[0;31mNameError\u001b[0m                                 Traceback (most recent call last)",
            "\u001b[1;32m/home/ray/BERT_ContextClassifier/demo.ipynb Cell 16\u001b[0m line \u001b[0;36m4\n\u001b[1;32m      <a href='vscode-notebook-cell:/home/ray/BERT_ContextClassifier/demo.ipynb#X21sZmlsZQ%3D%3D?line=0'>1</a>\u001b[0m \u001b[39mfrom\u001b[39;00m \u001b[39mtransformers\u001b[39;00m \u001b[39mimport\u001b[39;00m pipeline\n\u001b[1;32m      <a href='vscode-notebook-cell:/home/ray/BERT_ContextClassifier/demo.ipynb#X21sZmlsZQ%3D%3D?line=2'>3</a>\u001b[0m classifier \u001b[39m=\u001b[39m pipeline(\u001b[39m\"\u001b[39m\u001b[39msentiment-analysis\u001b[39m\u001b[39m\"\u001b[39m, model\u001b[39m=\u001b[39m\u001b[39m\"\u001b[39m\u001b[39mstevhliu/my_awesome_model\u001b[39m\u001b[39m\"\u001b[39m)\n\u001b[0;32m----> <a href='vscode-notebook-cell:/home/ray/BERT_ContextClassifier/demo.ipynb#X21sZmlsZQ%3D%3D?line=3'>4</a>\u001b[0m classifier(text)\n",
            "\u001b[0;31mNameError\u001b[0m: name 'text' is not defined"
          ]
        }
      ],
      "source": [
        "from transformers import pipeline\n",
        "\n",
        "classifier = pipeline(\"sentiment-analysis\", model=\"stevhliu/my_awesome_model\")\n",
        "classifier(text)"
      ]
    },
    {
      "cell_type": "code",
      "execution_count": null,
      "metadata": {
        "id": "X3vU8OmTaec3"
      },
      "outputs": [],
      "source": [
        "from transformers import pipeline, AutoModel, AutoTokenizer ,AutoModelForSequenceClassification, TrainingArguments, Trainer\n",
        "\n",
        "# Replace with your custom model of choice\n",
        "model = AutoModelForSequenceClassification.from_pretrained(\n",
        "    './cached_model/checkpoint-14100'\n",
        ")\n",
        "tokenizer = AutoTokenizer.from_pretrained('./cached_model/checkpoint-14100')\n",
        "\n",
        "pipe = pipeline(\n",
        "    task=\"text-classification\",  # replace with whatever task you have\n",
        "    model=model,\n",
        "    tokenizer=tokenizer\n",
        ")"
      ]
    },
    {
      "cell_type": "code",
      "execution_count": null,
      "metadata": {
        "id": "R0JhFwcWaec3",
        "outputId": "70b9aae2-96a5-4e71-92ee-ea172ac171bb"
      },
      "outputs": [
        {
          "data": {
            "text/plain": [
              "[{'label': 'heart disease', 'score': 0.9999998807907104}]"
            ]
          },
          "execution_count": 3,
          "metadata": {},
          "output_type": "execute_result"
        }
      ],
      "source": [
        "text = \"I've been having episodes of rapid and irregular heartbeat, with a palpable sense of fluttering. It's a bit unsettling, and I'm not sure what might be causing these cardiac irregularities.\"\n",
        "pipe(text)"
      ]
    },
    {
      "cell_type": "code",
      "execution_count": null,
      "metadata": {
        "id": "I5RO-3SRaec3",
        "outputId": "6f867d75-91ab-451e-90d4-c4eb8140b83f"
      },
      "outputs": [
        {
          "data": {
            "text/plain": [
              "[{'label': 'heart disease', 'score': 0.9999995231628418}]"
            ]
          },
          "execution_count": 6,
          "metadata": {},
          "output_type": "execute_result"
        }
      ],
      "source": [
        "text = 'I\\'ve been feeling palpitations lately'\n",
        "pipe(text)"
      ]
    }
  ],
  "metadata": {
    "kernelspec": {
      "display_name": "Python 3",
      "name": "python3"
    },
    "language_info": {
      "codemirror_mode": {
        "name": "ipython",
        "version": 3
      },
      "file_extension": ".py",
      "mimetype": "text/x-python",
      "name": "python",
      "nbconvert_exporter": "python",
      "pygments_lexer": "ipython3",
      "version": "3.11.4"
    },
    "colab": {
      "provenance": [],
      "gpuType": "T4"
    },
    "accelerator": "GPU",
    "widgets": {
      "application/vnd.jupyter.widget-state+json": {
        "d6bca5c0f305485f9830b54532a4df68": {
          "model_module": "@jupyter-widgets/controls",
          "model_name": "HBoxModel",
          "model_module_version": "1.5.0",
          "state": {
            "_dom_classes": [],
            "_model_module": "@jupyter-widgets/controls",
            "_model_module_version": "1.5.0",
            "_model_name": "HBoxModel",
            "_view_count": null,
            "_view_module": "@jupyter-widgets/controls",
            "_view_module_version": "1.5.0",
            "_view_name": "HBoxView",
            "box_style": "",
            "children": [
              "IPY_MODEL_515c3aba853b4d20b40a05f26394fc9f",
              "IPY_MODEL_406f9719cae6468c83f41a17d803f019",
              "IPY_MODEL_e5379d18f4b14b39b705a21759f85cc3"
            ],
            "layout": "IPY_MODEL_678d20bb7b374c4d9abc340cef65943c"
          }
        },
        "515c3aba853b4d20b40a05f26394fc9f": {
          "model_module": "@jupyter-widgets/controls",
          "model_name": "HTMLModel",
          "model_module_version": "1.5.0",
          "state": {
            "_dom_classes": [],
            "_model_module": "@jupyter-widgets/controls",
            "_model_module_version": "1.5.0",
            "_model_name": "HTMLModel",
            "_view_count": null,
            "_view_module": "@jupyter-widgets/controls",
            "_view_module_version": "1.5.0",
            "_view_name": "HTMLView",
            "description": "",
            "description_tooltip": null,
            "layout": "IPY_MODEL_bcf8e7636459492eb511e7fc2f1e3a18",
            "placeholder": "​",
            "style": "IPY_MODEL_c08f300043e4471dbeef1ab6855cfe3b",
            "value": "Generating train split: "
          }
        },
        "406f9719cae6468c83f41a17d803f019": {
          "model_module": "@jupyter-widgets/controls",
          "model_name": "FloatProgressModel",
          "model_module_version": "1.5.0",
          "state": {
            "_dom_classes": [],
            "_model_module": "@jupyter-widgets/controls",
            "_model_module_version": "1.5.0",
            "_model_name": "FloatProgressModel",
            "_view_count": null,
            "_view_module": "@jupyter-widgets/controls",
            "_view_module_version": "1.5.0",
            "_view_name": "ProgressView",
            "bar_style": "success",
            "description": "",
            "description_tooltip": null,
            "layout": "IPY_MODEL_6a641bc7f0b14dd58499d4f0949741de",
            "max": 1,
            "min": 0,
            "orientation": "horizontal",
            "style": "IPY_MODEL_fffa9fc83d43454782786b3053147858",
            "value": 1
          }
        },
        "e5379d18f4b14b39b705a21759f85cc3": {
          "model_module": "@jupyter-widgets/controls",
          "model_name": "HTMLModel",
          "model_module_version": "1.5.0",
          "state": {
            "_dom_classes": [],
            "_model_module": "@jupyter-widgets/controls",
            "_model_module_version": "1.5.0",
            "_model_name": "HTMLModel",
            "_view_count": null,
            "_view_module": "@jupyter-widgets/controls",
            "_view_module_version": "1.5.0",
            "_view_name": "HTMLView",
            "description": "",
            "description_tooltip": null,
            "layout": "IPY_MODEL_b0f9f4a49e01494896b5840481652903",
            "placeholder": "​",
            "style": "IPY_MODEL_806eb73db734444f84bdcd17fa5b2f77",
            "value": " 3202/0 [00:00&lt;00:00, 47680.65 examples/s]"
          }
        },
        "678d20bb7b374c4d9abc340cef65943c": {
          "model_module": "@jupyter-widgets/base",
          "model_name": "LayoutModel",
          "model_module_version": "1.2.0",
          "state": {
            "_model_module": "@jupyter-widgets/base",
            "_model_module_version": "1.2.0",
            "_model_name": "LayoutModel",
            "_view_count": null,
            "_view_module": "@jupyter-widgets/base",
            "_view_module_version": "1.2.0",
            "_view_name": "LayoutView",
            "align_content": null,
            "align_items": null,
            "align_self": null,
            "border": null,
            "bottom": null,
            "display": null,
            "flex": null,
            "flex_flow": null,
            "grid_area": null,
            "grid_auto_columns": null,
            "grid_auto_flow": null,
            "grid_auto_rows": null,
            "grid_column": null,
            "grid_gap": null,
            "grid_row": null,
            "grid_template_areas": null,
            "grid_template_columns": null,
            "grid_template_rows": null,
            "height": null,
            "justify_content": null,
            "justify_items": null,
            "left": null,
            "margin": null,
            "max_height": null,
            "max_width": null,
            "min_height": null,
            "min_width": null,
            "object_fit": null,
            "object_position": null,
            "order": null,
            "overflow": null,
            "overflow_x": null,
            "overflow_y": null,
            "padding": null,
            "right": null,
            "top": null,
            "visibility": null,
            "width": null
          }
        },
        "bcf8e7636459492eb511e7fc2f1e3a18": {
          "model_module": "@jupyter-widgets/base",
          "model_name": "LayoutModel",
          "model_module_version": "1.2.0",
          "state": {
            "_model_module": "@jupyter-widgets/base",
            "_model_module_version": "1.2.0",
            "_model_name": "LayoutModel",
            "_view_count": null,
            "_view_module": "@jupyter-widgets/base",
            "_view_module_version": "1.2.0",
            "_view_name": "LayoutView",
            "align_content": null,
            "align_items": null,
            "align_self": null,
            "border": null,
            "bottom": null,
            "display": null,
            "flex": null,
            "flex_flow": null,
            "grid_area": null,
            "grid_auto_columns": null,
            "grid_auto_flow": null,
            "grid_auto_rows": null,
            "grid_column": null,
            "grid_gap": null,
            "grid_row": null,
            "grid_template_areas": null,
            "grid_template_columns": null,
            "grid_template_rows": null,
            "height": null,
            "justify_content": null,
            "justify_items": null,
            "left": null,
            "margin": null,
            "max_height": null,
            "max_width": null,
            "min_height": null,
            "min_width": null,
            "object_fit": null,
            "object_position": null,
            "order": null,
            "overflow": null,
            "overflow_x": null,
            "overflow_y": null,
            "padding": null,
            "right": null,
            "top": null,
            "visibility": null,
            "width": null
          }
        },
        "c08f300043e4471dbeef1ab6855cfe3b": {
          "model_module": "@jupyter-widgets/controls",
          "model_name": "DescriptionStyleModel",
          "model_module_version": "1.5.0",
          "state": {
            "_model_module": "@jupyter-widgets/controls",
            "_model_module_version": "1.5.0",
            "_model_name": "DescriptionStyleModel",
            "_view_count": null,
            "_view_module": "@jupyter-widgets/base",
            "_view_module_version": "1.2.0",
            "_view_name": "StyleView",
            "description_width": ""
          }
        },
        "6a641bc7f0b14dd58499d4f0949741de": {
          "model_module": "@jupyter-widgets/base",
          "model_name": "LayoutModel",
          "model_module_version": "1.2.0",
          "state": {
            "_model_module": "@jupyter-widgets/base",
            "_model_module_version": "1.2.0",
            "_model_name": "LayoutModel",
            "_view_count": null,
            "_view_module": "@jupyter-widgets/base",
            "_view_module_version": "1.2.0",
            "_view_name": "LayoutView",
            "align_content": null,
            "align_items": null,
            "align_self": null,
            "border": null,
            "bottom": null,
            "display": null,
            "flex": null,
            "flex_flow": null,
            "grid_area": null,
            "grid_auto_columns": null,
            "grid_auto_flow": null,
            "grid_auto_rows": null,
            "grid_column": null,
            "grid_gap": null,
            "grid_row": null,
            "grid_template_areas": null,
            "grid_template_columns": null,
            "grid_template_rows": null,
            "height": null,
            "justify_content": null,
            "justify_items": null,
            "left": null,
            "margin": null,
            "max_height": null,
            "max_width": null,
            "min_height": null,
            "min_width": null,
            "object_fit": null,
            "object_position": null,
            "order": null,
            "overflow": null,
            "overflow_x": null,
            "overflow_y": null,
            "padding": null,
            "right": null,
            "top": null,
            "visibility": null,
            "width": "20px"
          }
        },
        "fffa9fc83d43454782786b3053147858": {
          "model_module": "@jupyter-widgets/controls",
          "model_name": "ProgressStyleModel",
          "model_module_version": "1.5.0",
          "state": {
            "_model_module": "@jupyter-widgets/controls",
            "_model_module_version": "1.5.0",
            "_model_name": "ProgressStyleModel",
            "_view_count": null,
            "_view_module": "@jupyter-widgets/base",
            "_view_module_version": "1.2.0",
            "_view_name": "StyleView",
            "bar_color": null,
            "description_width": ""
          }
        },
        "b0f9f4a49e01494896b5840481652903": {
          "model_module": "@jupyter-widgets/base",
          "model_name": "LayoutModel",
          "model_module_version": "1.2.0",
          "state": {
            "_model_module": "@jupyter-widgets/base",
            "_model_module_version": "1.2.0",
            "_model_name": "LayoutModel",
            "_view_count": null,
            "_view_module": "@jupyter-widgets/base",
            "_view_module_version": "1.2.0",
            "_view_name": "LayoutView",
            "align_content": null,
            "align_items": null,
            "align_self": null,
            "border": null,
            "bottom": null,
            "display": null,
            "flex": null,
            "flex_flow": null,
            "grid_area": null,
            "grid_auto_columns": null,
            "grid_auto_flow": null,
            "grid_auto_rows": null,
            "grid_column": null,
            "grid_gap": null,
            "grid_row": null,
            "grid_template_areas": null,
            "grid_template_columns": null,
            "grid_template_rows": null,
            "height": null,
            "justify_content": null,
            "justify_items": null,
            "left": null,
            "margin": null,
            "max_height": null,
            "max_width": null,
            "min_height": null,
            "min_width": null,
            "object_fit": null,
            "object_position": null,
            "order": null,
            "overflow": null,
            "overflow_x": null,
            "overflow_y": null,
            "padding": null,
            "right": null,
            "top": null,
            "visibility": null,
            "width": null
          }
        },
        "806eb73db734444f84bdcd17fa5b2f77": {
          "model_module": "@jupyter-widgets/controls",
          "model_name": "DescriptionStyleModel",
          "model_module_version": "1.5.0",
          "state": {
            "_model_module": "@jupyter-widgets/controls",
            "_model_module_version": "1.5.0",
            "_model_name": "DescriptionStyleModel",
            "_view_count": null,
            "_view_module": "@jupyter-widgets/base",
            "_view_module_version": "1.2.0",
            "_view_name": "StyleView",
            "description_width": ""
          }
        },
        "dea81b14e241497f937158aba345b077": {
          "model_module": "@jupyter-widgets/controls",
          "model_name": "HBoxModel",
          "model_module_version": "1.5.0",
          "state": {
            "_dom_classes": [],
            "_model_module": "@jupyter-widgets/controls",
            "_model_module_version": "1.5.0",
            "_model_name": "HBoxModel",
            "_view_count": null,
            "_view_module": "@jupyter-widgets/controls",
            "_view_module_version": "1.5.0",
            "_view_name": "HBoxView",
            "box_style": "",
            "children": [
              "IPY_MODEL_e92d8a62f6af4d99aac533dcea626aab",
              "IPY_MODEL_a6f4ff5627dc4de7bd275170ee981f26",
              "IPY_MODEL_f7c79720fef64b6a90eb5f6dc4652f9d"
            ],
            "layout": "IPY_MODEL_754cfa0f20514e9a892c00c2c89cdde9"
          }
        },
        "e92d8a62f6af4d99aac533dcea626aab": {
          "model_module": "@jupyter-widgets/controls",
          "model_name": "HTMLModel",
          "model_module_version": "1.5.0",
          "state": {
            "_dom_classes": [],
            "_model_module": "@jupyter-widgets/controls",
            "_model_module_version": "1.5.0",
            "_model_name": "HTMLModel",
            "_view_count": null,
            "_view_module": "@jupyter-widgets/controls",
            "_view_module_version": "1.5.0",
            "_view_name": "HTMLView",
            "description": "",
            "description_tooltip": null,
            "layout": "IPY_MODEL_22e3ff95ec16402cbb851a6d2abb9fee",
            "placeholder": "​",
            "style": "IPY_MODEL_7e23aff9b960494495a68670bd87cf89",
            "value": "Map: 100%"
          }
        },
        "a6f4ff5627dc4de7bd275170ee981f26": {
          "model_module": "@jupyter-widgets/controls",
          "model_name": "FloatProgressModel",
          "model_module_version": "1.5.0",
          "state": {
            "_dom_classes": [],
            "_model_module": "@jupyter-widgets/controls",
            "_model_module_version": "1.5.0",
            "_model_name": "FloatProgressModel",
            "_view_count": null,
            "_view_module": "@jupyter-widgets/controls",
            "_view_module_version": "1.5.0",
            "_view_name": "ProgressView",
            "bar_style": "success",
            "description": "",
            "description_tooltip": null,
            "layout": "IPY_MODEL_30fb6a7674da4f36adf02d803a08f82c",
            "max": 2241,
            "min": 0,
            "orientation": "horizontal",
            "style": "IPY_MODEL_3e3551c3b600420d9443c8cdaadbd52a",
            "value": 2241
          }
        },
        "f7c79720fef64b6a90eb5f6dc4652f9d": {
          "model_module": "@jupyter-widgets/controls",
          "model_name": "HTMLModel",
          "model_module_version": "1.5.0",
          "state": {
            "_dom_classes": [],
            "_model_module": "@jupyter-widgets/controls",
            "_model_module_version": "1.5.0",
            "_model_name": "HTMLModel",
            "_view_count": null,
            "_view_module": "@jupyter-widgets/controls",
            "_view_module_version": "1.5.0",
            "_view_name": "HTMLView",
            "description": "",
            "description_tooltip": null,
            "layout": "IPY_MODEL_ed5b0631f2ef45d28b2a027410d81862",
            "placeholder": "​",
            "style": "IPY_MODEL_7cb5ee9c3312492785b4371970121e10",
            "value": " 2241/2241 [00:00&lt;00:00, 5521.33 examples/s]"
          }
        },
        "754cfa0f20514e9a892c00c2c89cdde9": {
          "model_module": "@jupyter-widgets/base",
          "model_name": "LayoutModel",
          "model_module_version": "1.2.0",
          "state": {
            "_model_module": "@jupyter-widgets/base",
            "_model_module_version": "1.2.0",
            "_model_name": "LayoutModel",
            "_view_count": null,
            "_view_module": "@jupyter-widgets/base",
            "_view_module_version": "1.2.0",
            "_view_name": "LayoutView",
            "align_content": null,
            "align_items": null,
            "align_self": null,
            "border": null,
            "bottom": null,
            "display": null,
            "flex": null,
            "flex_flow": null,
            "grid_area": null,
            "grid_auto_columns": null,
            "grid_auto_flow": null,
            "grid_auto_rows": null,
            "grid_column": null,
            "grid_gap": null,
            "grid_row": null,
            "grid_template_areas": null,
            "grid_template_columns": null,
            "grid_template_rows": null,
            "height": null,
            "justify_content": null,
            "justify_items": null,
            "left": null,
            "margin": null,
            "max_height": null,
            "max_width": null,
            "min_height": null,
            "min_width": null,
            "object_fit": null,
            "object_position": null,
            "order": null,
            "overflow": null,
            "overflow_x": null,
            "overflow_y": null,
            "padding": null,
            "right": null,
            "top": null,
            "visibility": null,
            "width": null
          }
        },
        "22e3ff95ec16402cbb851a6d2abb9fee": {
          "model_module": "@jupyter-widgets/base",
          "model_name": "LayoutModel",
          "model_module_version": "1.2.0",
          "state": {
            "_model_module": "@jupyter-widgets/base",
            "_model_module_version": "1.2.0",
            "_model_name": "LayoutModel",
            "_view_count": null,
            "_view_module": "@jupyter-widgets/base",
            "_view_module_version": "1.2.0",
            "_view_name": "LayoutView",
            "align_content": null,
            "align_items": null,
            "align_self": null,
            "border": null,
            "bottom": null,
            "display": null,
            "flex": null,
            "flex_flow": null,
            "grid_area": null,
            "grid_auto_columns": null,
            "grid_auto_flow": null,
            "grid_auto_rows": null,
            "grid_column": null,
            "grid_gap": null,
            "grid_row": null,
            "grid_template_areas": null,
            "grid_template_columns": null,
            "grid_template_rows": null,
            "height": null,
            "justify_content": null,
            "justify_items": null,
            "left": null,
            "margin": null,
            "max_height": null,
            "max_width": null,
            "min_height": null,
            "min_width": null,
            "object_fit": null,
            "object_position": null,
            "order": null,
            "overflow": null,
            "overflow_x": null,
            "overflow_y": null,
            "padding": null,
            "right": null,
            "top": null,
            "visibility": null,
            "width": null
          }
        },
        "7e23aff9b960494495a68670bd87cf89": {
          "model_module": "@jupyter-widgets/controls",
          "model_name": "DescriptionStyleModel",
          "model_module_version": "1.5.0",
          "state": {
            "_model_module": "@jupyter-widgets/controls",
            "_model_module_version": "1.5.0",
            "_model_name": "DescriptionStyleModel",
            "_view_count": null,
            "_view_module": "@jupyter-widgets/base",
            "_view_module_version": "1.2.0",
            "_view_name": "StyleView",
            "description_width": ""
          }
        },
        "30fb6a7674da4f36adf02d803a08f82c": {
          "model_module": "@jupyter-widgets/base",
          "model_name": "LayoutModel",
          "model_module_version": "1.2.0",
          "state": {
            "_model_module": "@jupyter-widgets/base",
            "_model_module_version": "1.2.0",
            "_model_name": "LayoutModel",
            "_view_count": null,
            "_view_module": "@jupyter-widgets/base",
            "_view_module_version": "1.2.0",
            "_view_name": "LayoutView",
            "align_content": null,
            "align_items": null,
            "align_self": null,
            "border": null,
            "bottom": null,
            "display": null,
            "flex": null,
            "flex_flow": null,
            "grid_area": null,
            "grid_auto_columns": null,
            "grid_auto_flow": null,
            "grid_auto_rows": null,
            "grid_column": null,
            "grid_gap": null,
            "grid_row": null,
            "grid_template_areas": null,
            "grid_template_columns": null,
            "grid_template_rows": null,
            "height": null,
            "justify_content": null,
            "justify_items": null,
            "left": null,
            "margin": null,
            "max_height": null,
            "max_width": null,
            "min_height": null,
            "min_width": null,
            "object_fit": null,
            "object_position": null,
            "order": null,
            "overflow": null,
            "overflow_x": null,
            "overflow_y": null,
            "padding": null,
            "right": null,
            "top": null,
            "visibility": null,
            "width": null
          }
        },
        "3e3551c3b600420d9443c8cdaadbd52a": {
          "model_module": "@jupyter-widgets/controls",
          "model_name": "ProgressStyleModel",
          "model_module_version": "1.5.0",
          "state": {
            "_model_module": "@jupyter-widgets/controls",
            "_model_module_version": "1.5.0",
            "_model_name": "ProgressStyleModel",
            "_view_count": null,
            "_view_module": "@jupyter-widgets/base",
            "_view_module_version": "1.2.0",
            "_view_name": "StyleView",
            "bar_color": null,
            "description_width": ""
          }
        },
        "ed5b0631f2ef45d28b2a027410d81862": {
          "model_module": "@jupyter-widgets/base",
          "model_name": "LayoutModel",
          "model_module_version": "1.2.0",
          "state": {
            "_model_module": "@jupyter-widgets/base",
            "_model_module_version": "1.2.0",
            "_model_name": "LayoutModel",
            "_view_count": null,
            "_view_module": "@jupyter-widgets/base",
            "_view_module_version": "1.2.0",
            "_view_name": "LayoutView",
            "align_content": null,
            "align_items": null,
            "align_self": null,
            "border": null,
            "bottom": null,
            "display": null,
            "flex": null,
            "flex_flow": null,
            "grid_area": null,
            "grid_auto_columns": null,
            "grid_auto_flow": null,
            "grid_auto_rows": null,
            "grid_column": null,
            "grid_gap": null,
            "grid_row": null,
            "grid_template_areas": null,
            "grid_template_columns": null,
            "grid_template_rows": null,
            "height": null,
            "justify_content": null,
            "justify_items": null,
            "left": null,
            "margin": null,
            "max_height": null,
            "max_width": null,
            "min_height": null,
            "min_width": null,
            "object_fit": null,
            "object_position": null,
            "order": null,
            "overflow": null,
            "overflow_x": null,
            "overflow_y": null,
            "padding": null,
            "right": null,
            "top": null,
            "visibility": null,
            "width": null
          }
        },
        "7cb5ee9c3312492785b4371970121e10": {
          "model_module": "@jupyter-widgets/controls",
          "model_name": "DescriptionStyleModel",
          "model_module_version": "1.5.0",
          "state": {
            "_model_module": "@jupyter-widgets/controls",
            "_model_module_version": "1.5.0",
            "_model_name": "DescriptionStyleModel",
            "_view_count": null,
            "_view_module": "@jupyter-widgets/base",
            "_view_module_version": "1.2.0",
            "_view_name": "StyleView",
            "description_width": ""
          }
        },
        "83266f6342ae4a91bfa7121d67205a35": {
          "model_module": "@jupyter-widgets/controls",
          "model_name": "HBoxModel",
          "model_module_version": "1.5.0",
          "state": {
            "_dom_classes": [],
            "_model_module": "@jupyter-widgets/controls",
            "_model_module_version": "1.5.0",
            "_model_name": "HBoxModel",
            "_view_count": null,
            "_view_module": "@jupyter-widgets/controls",
            "_view_module_version": "1.5.0",
            "_view_name": "HBoxView",
            "box_style": "",
            "children": [
              "IPY_MODEL_54a45044d5de440fb31be802d84e1435",
              "IPY_MODEL_831b74f1c988455db25a1cd2167dca29",
              "IPY_MODEL_5b1a24f127b6462fa2f09c1839b85a98"
            ],
            "layout": "IPY_MODEL_19c66608006646e7bcfddb234d34dc13"
          }
        },
        "54a45044d5de440fb31be802d84e1435": {
          "model_module": "@jupyter-widgets/controls",
          "model_name": "HTMLModel",
          "model_module_version": "1.5.0",
          "state": {
            "_dom_classes": [],
            "_model_module": "@jupyter-widgets/controls",
            "_model_module_version": "1.5.0",
            "_model_name": "HTMLModel",
            "_view_count": null,
            "_view_module": "@jupyter-widgets/controls",
            "_view_module_version": "1.5.0",
            "_view_name": "HTMLView",
            "description": "",
            "description_tooltip": null,
            "layout": "IPY_MODEL_eb5cccd0dc8d4f08b1f0f0b06c621d4c",
            "placeholder": "​",
            "style": "IPY_MODEL_ccba5f47d5b94d359aa3e9ffa631d393",
            "value": "Map: 100%"
          }
        },
        "831b74f1c988455db25a1cd2167dca29": {
          "model_module": "@jupyter-widgets/controls",
          "model_name": "FloatProgressModel",
          "model_module_version": "1.5.0",
          "state": {
            "_dom_classes": [],
            "_model_module": "@jupyter-widgets/controls",
            "_model_module_version": "1.5.0",
            "_model_name": "FloatProgressModel",
            "_view_count": null,
            "_view_module": "@jupyter-widgets/controls",
            "_view_module_version": "1.5.0",
            "_view_name": "ProgressView",
            "bar_style": "success",
            "description": "",
            "description_tooltip": null,
            "layout": "IPY_MODEL_d03fbbff471546ea812dd3e1f860cf08",
            "max": 961,
            "min": 0,
            "orientation": "horizontal",
            "style": "IPY_MODEL_f9a7a523b7814933888b861aaa37f059",
            "value": 961
          }
        },
        "5b1a24f127b6462fa2f09c1839b85a98": {
          "model_module": "@jupyter-widgets/controls",
          "model_name": "HTMLModel",
          "model_module_version": "1.5.0",
          "state": {
            "_dom_classes": [],
            "_model_module": "@jupyter-widgets/controls",
            "_model_module_version": "1.5.0",
            "_model_name": "HTMLModel",
            "_view_count": null,
            "_view_module": "@jupyter-widgets/controls",
            "_view_module_version": "1.5.0",
            "_view_name": "HTMLView",
            "description": "",
            "description_tooltip": null,
            "layout": "IPY_MODEL_c188bc0a47d9473a89c5bd570e999da3",
            "placeholder": "​",
            "style": "IPY_MODEL_53698b2a39884e98b9cbef45a204ae34",
            "value": " 961/961 [00:00&lt;00:00, 3653.77 examples/s]"
          }
        },
        "19c66608006646e7bcfddb234d34dc13": {
          "model_module": "@jupyter-widgets/base",
          "model_name": "LayoutModel",
          "model_module_version": "1.2.0",
          "state": {
            "_model_module": "@jupyter-widgets/base",
            "_model_module_version": "1.2.0",
            "_model_name": "LayoutModel",
            "_view_count": null,
            "_view_module": "@jupyter-widgets/base",
            "_view_module_version": "1.2.0",
            "_view_name": "LayoutView",
            "align_content": null,
            "align_items": null,
            "align_self": null,
            "border": null,
            "bottom": null,
            "display": null,
            "flex": null,
            "flex_flow": null,
            "grid_area": null,
            "grid_auto_columns": null,
            "grid_auto_flow": null,
            "grid_auto_rows": null,
            "grid_column": null,
            "grid_gap": null,
            "grid_row": null,
            "grid_template_areas": null,
            "grid_template_columns": null,
            "grid_template_rows": null,
            "height": null,
            "justify_content": null,
            "justify_items": null,
            "left": null,
            "margin": null,
            "max_height": null,
            "max_width": null,
            "min_height": null,
            "min_width": null,
            "object_fit": null,
            "object_position": null,
            "order": null,
            "overflow": null,
            "overflow_x": null,
            "overflow_y": null,
            "padding": null,
            "right": null,
            "top": null,
            "visibility": null,
            "width": null
          }
        },
        "eb5cccd0dc8d4f08b1f0f0b06c621d4c": {
          "model_module": "@jupyter-widgets/base",
          "model_name": "LayoutModel",
          "model_module_version": "1.2.0",
          "state": {
            "_model_module": "@jupyter-widgets/base",
            "_model_module_version": "1.2.0",
            "_model_name": "LayoutModel",
            "_view_count": null,
            "_view_module": "@jupyter-widgets/base",
            "_view_module_version": "1.2.0",
            "_view_name": "LayoutView",
            "align_content": null,
            "align_items": null,
            "align_self": null,
            "border": null,
            "bottom": null,
            "display": null,
            "flex": null,
            "flex_flow": null,
            "grid_area": null,
            "grid_auto_columns": null,
            "grid_auto_flow": null,
            "grid_auto_rows": null,
            "grid_column": null,
            "grid_gap": null,
            "grid_row": null,
            "grid_template_areas": null,
            "grid_template_columns": null,
            "grid_template_rows": null,
            "height": null,
            "justify_content": null,
            "justify_items": null,
            "left": null,
            "margin": null,
            "max_height": null,
            "max_width": null,
            "min_height": null,
            "min_width": null,
            "object_fit": null,
            "object_position": null,
            "order": null,
            "overflow": null,
            "overflow_x": null,
            "overflow_y": null,
            "padding": null,
            "right": null,
            "top": null,
            "visibility": null,
            "width": null
          }
        },
        "ccba5f47d5b94d359aa3e9ffa631d393": {
          "model_module": "@jupyter-widgets/controls",
          "model_name": "DescriptionStyleModel",
          "model_module_version": "1.5.0",
          "state": {
            "_model_module": "@jupyter-widgets/controls",
            "_model_module_version": "1.5.0",
            "_model_name": "DescriptionStyleModel",
            "_view_count": null,
            "_view_module": "@jupyter-widgets/base",
            "_view_module_version": "1.2.0",
            "_view_name": "StyleView",
            "description_width": ""
          }
        },
        "d03fbbff471546ea812dd3e1f860cf08": {
          "model_module": "@jupyter-widgets/base",
          "model_name": "LayoutModel",
          "model_module_version": "1.2.0",
          "state": {
            "_model_module": "@jupyter-widgets/base",
            "_model_module_version": "1.2.0",
            "_model_name": "LayoutModel",
            "_view_count": null,
            "_view_module": "@jupyter-widgets/base",
            "_view_module_version": "1.2.0",
            "_view_name": "LayoutView",
            "align_content": null,
            "align_items": null,
            "align_self": null,
            "border": null,
            "bottom": null,
            "display": null,
            "flex": null,
            "flex_flow": null,
            "grid_area": null,
            "grid_auto_columns": null,
            "grid_auto_flow": null,
            "grid_auto_rows": null,
            "grid_column": null,
            "grid_gap": null,
            "grid_row": null,
            "grid_template_areas": null,
            "grid_template_columns": null,
            "grid_template_rows": null,
            "height": null,
            "justify_content": null,
            "justify_items": null,
            "left": null,
            "margin": null,
            "max_height": null,
            "max_width": null,
            "min_height": null,
            "min_width": null,
            "object_fit": null,
            "object_position": null,
            "order": null,
            "overflow": null,
            "overflow_x": null,
            "overflow_y": null,
            "padding": null,
            "right": null,
            "top": null,
            "visibility": null,
            "width": null
          }
        },
        "f9a7a523b7814933888b861aaa37f059": {
          "model_module": "@jupyter-widgets/controls",
          "model_name": "ProgressStyleModel",
          "model_module_version": "1.5.0",
          "state": {
            "_model_module": "@jupyter-widgets/controls",
            "_model_module_version": "1.5.0",
            "_model_name": "ProgressStyleModel",
            "_view_count": null,
            "_view_module": "@jupyter-widgets/base",
            "_view_module_version": "1.2.0",
            "_view_name": "StyleView",
            "bar_color": null,
            "description_width": ""
          }
        },
        "c188bc0a47d9473a89c5bd570e999da3": {
          "model_module": "@jupyter-widgets/base",
          "model_name": "LayoutModel",
          "model_module_version": "1.2.0",
          "state": {
            "_model_module": "@jupyter-widgets/base",
            "_model_module_version": "1.2.0",
            "_model_name": "LayoutModel",
            "_view_count": null,
            "_view_module": "@jupyter-widgets/base",
            "_view_module_version": "1.2.0",
            "_view_name": "LayoutView",
            "align_content": null,
            "align_items": null,
            "align_self": null,
            "border": null,
            "bottom": null,
            "display": null,
            "flex": null,
            "flex_flow": null,
            "grid_area": null,
            "grid_auto_columns": null,
            "grid_auto_flow": null,
            "grid_auto_rows": null,
            "grid_column": null,
            "grid_gap": null,
            "grid_row": null,
            "grid_template_areas": null,
            "grid_template_columns": null,
            "grid_template_rows": null,
            "height": null,
            "justify_content": null,
            "justify_items": null,
            "left": null,
            "margin": null,
            "max_height": null,
            "max_width": null,
            "min_height": null,
            "min_width": null,
            "object_fit": null,
            "object_position": null,
            "order": null,
            "overflow": null,
            "overflow_x": null,
            "overflow_y": null,
            "padding": null,
            "right": null,
            "top": null,
            "visibility": null,
            "width": null
          }
        },
        "53698b2a39884e98b9cbef45a204ae34": {
          "model_module": "@jupyter-widgets/controls",
          "model_name": "DescriptionStyleModel",
          "model_module_version": "1.5.0",
          "state": {
            "_model_module": "@jupyter-widgets/controls",
            "_model_module_version": "1.5.0",
            "_model_name": "DescriptionStyleModel",
            "_view_count": null,
            "_view_module": "@jupyter-widgets/base",
            "_view_module_version": "1.2.0",
            "_view_name": "StyleView",
            "description_width": ""
          }
        }
      }
    }
  },
  "nbformat": 4,
  "nbformat_minor": 0
}